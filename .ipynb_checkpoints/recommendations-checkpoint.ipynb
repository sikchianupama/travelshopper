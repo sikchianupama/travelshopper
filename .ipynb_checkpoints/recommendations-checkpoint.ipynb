{
 "cells": [
  {
   "cell_type": "code",
   "execution_count": 22,
   "metadata": {},
   "outputs": [
    {
     "name": "stderr",
     "output_type": "stream",
     "text": [
      "/Users/a0s00x0/opt/anaconda3/lib/python3.7/site-packages/ipykernel_launcher.py:48: DeprecationWarning: The default dtype for empty Series will be 'object' instead of 'float64' in a future version. Specify a dtype explicitly to silence this warning.\n",
      "127.0.0.1 - - [26/Jan/2021 17:07:17] \"\u001b[37mGET /recommendations?userId=A23&city=OAK HTTP/1.1\u001b[0m\" 200 -\n",
      "/Users/a0s00x0/opt/anaconda3/lib/python3.7/site-packages/ipykernel_launcher.py:48: DeprecationWarning: The default dtype for empty Series will be 'object' instead of 'float64' in a future version. Specify a dtype explicitly to silence this warning.\n",
      "127.0.0.1 - - [26/Jan/2021 17:07:17] \"\u001b[37mGET /recommendations?userId=A23&city=OAK HTTP/1.1\u001b[0m\" 200 -\n"
     ]
    },
    {
     "data": {
      "text/html": [
       "<div>\n",
       "<style scoped>\n",
       "    .dataframe tbody tr th:only-of-type {\n",
       "        vertical-align: middle;\n",
       "    }\n",
       "\n",
       "    .dataframe tbody tr th {\n",
       "        vertical-align: top;\n",
       "    }\n",
       "\n",
       "    .dataframe thead th {\n",
       "        text-align: right;\n",
       "    }\n",
       "</style>\n",
       "<table border=\"1\" class=\"dataframe\">\n",
       "  <thead>\n",
       "    <tr style=\"text-align: right;\">\n",
       "      <th></th>\n",
       "      <th>itemDesc</th>\n",
       "      <th>product_id</th>\n",
       "      <th>itemNbr</th>\n",
       "      <th>product_lifecycle_status</th>\n",
       "      <th>subType</th>\n",
       "      <th>type</th>\n",
       "      <th>tags</th>\n",
       "      <th>rating</th>\n",
       "      <th>gender</th>\n",
       "      <th>product_class_type</th>\n",
       "    </tr>\n",
       "  </thead>\n",
       "  <tbody>\n",
       "    <tr>\n",
       "      <th>0</th>\n",
       "      <td>Women's Sillian Tana Ankle Boot</td>\n",
       "      <td>29O3LMYF12IX</td>\n",
       "      <td>463175430</td>\n",
       "      <td>ACTIVE</td>\n",
       "      <td>Boots</td>\n",
       "      <td>Clothing</td>\n",
       "      <td>comfortable authentic fashion footwear winter</td>\n",
       "      <td>4.4</td>\n",
       "      <td>Female</td>\n",
       "      <td>NaN</td>\n",
       "    </tr>\n",
       "    <tr>\n",
       "      <th>1</th>\n",
       "      <td>Ros Hommerson Womens Song Almond Toe Knee High...</td>\n",
       "      <td>128F6L6XVQB4</td>\n",
       "      <td>938058514</td>\n",
       "      <td>ACTIVE</td>\n",
       "      <td>Boots</td>\n",
       "      <td>Clothing</td>\n",
       "      <td>comfortable authentic fashion footwear winter</td>\n",
       "      <td>4.8</td>\n",
       "      <td>Female</td>\n",
       "      <td>NaN</td>\n",
       "    </tr>\n",
       "    <tr>\n",
       "      <th>2</th>\n",
       "      <td>Ma Croix Mens Coach Jacket Active Windbreaker ...</td>\n",
       "      <td>0VK6XQW8EPNZ</td>\n",
       "      <td>172459909</td>\n",
       "      <td>ACTIVE</td>\n",
       "      <td>Athletic Jackets</td>\n",
       "      <td>Clothing</td>\n",
       "      <td>mens, coach jacket, jacket, windbreaker, light...</td>\n",
       "      <td>3.0</td>\n",
       "      <td>Male</td>\n",
       "      <td>NaN</td>\n",
       "    </tr>\n",
       "    <tr>\n",
       "      <th>3</th>\n",
       "      <td>Sportsman SP08 8 Inch Knit Beanie</td>\n",
       "      <td>0VOOA3H7YXN8</td>\n",
       "      <td>183555547</td>\n",
       "      <td>ACTIVE</td>\n",
       "      <td>Hats</td>\n",
       "      <td>Clothing</td>\n",
       "      <td>Sportsman Headwear - Winter Headwear Outerwear...</td>\n",
       "      <td>4.0</td>\n",
       "      <td>Unisex</td>\n",
       "      <td>NaN</td>\n",
       "    </tr>\n",
       "    <tr>\n",
       "      <th>4</th>\n",
       "      <td>Cuban Heel Florsheim Men's Duke Dress Boot Lea...</td>\n",
       "      <td>4OOOR5XJ4ZBQ</td>\n",
       "      <td>504232799</td>\n",
       "      <td>ACTIVE</td>\n",
       "      <td>Boots</td>\n",
       "      <td>Clothing</td>\n",
       "      <td>comfortable authentic fashion footwear winter</td>\n",
       "      <td>4.7</td>\n",
       "      <td>Male</td>\n",
       "      <td>NaN</td>\n",
       "    </tr>\n",
       "  </tbody>\n",
       "</table>\n",
       "</div>"
      ],
      "text/plain": [
       "                                            itemDesc    product_id    itemNbr  \\\n",
       "0                    Women's Sillian Tana Ankle Boot  29O3LMYF12IX  463175430   \n",
       "1  Ros Hommerson Womens Song Almond Toe Knee High...  128F6L6XVQB4  938058514   \n",
       "2  Ma Croix Mens Coach Jacket Active Windbreaker ...  0VK6XQW8EPNZ  172459909   \n",
       "3                  Sportsman SP08 8 Inch Knit Beanie  0VOOA3H7YXN8  183555547   \n",
       "4  Cuban Heel Florsheim Men's Duke Dress Boot Lea...  4OOOR5XJ4ZBQ  504232799   \n",
       "\n",
       "  product_lifecycle_status           subType      type  \\\n",
       "0                   ACTIVE             Boots  Clothing   \n",
       "1                   ACTIVE             Boots  Clothing   \n",
       "2                   ACTIVE  Athletic Jackets  Clothing   \n",
       "3                   ACTIVE              Hats  Clothing   \n",
       "4                   ACTIVE             Boots  Clothing   \n",
       "\n",
       "                                                tags  rating  gender  \\\n",
       "0      comfortable authentic fashion footwear winter     4.4  Female   \n",
       "1      comfortable authentic fashion footwear winter     4.8  Female   \n",
       "2  mens, coach jacket, jacket, windbreaker, light...     3.0    Male   \n",
       "3  Sportsman Headwear - Winter Headwear Outerwear...     4.0  Unisex   \n",
       "4      comfortable authentic fashion footwear winter     4.7    Male   \n",
       "\n",
       "  product_class_type  \n",
       "0                NaN  \n",
       "1                NaN  \n",
       "2                NaN  \n",
       "3                NaN  \n",
       "4                NaN  "
      ]
     },
     "execution_count": 22,
     "metadata": {},
     "output_type": "execute_result"
    }
   ],
   "source": [
    "\n",
    "import pandas as pd\n",
    "import numpy as np\n",
    "from scipy.sparse import csr_matrix\n",
    "from lightfm import LightFM\n",
    "\n",
    "import random\n",
    "item_dataset=pd.read_csv('combined-items.csv')\n",
    "\n",
    "import re\n",
    "\n",
    "item_dataset.head(5)\n",
    "\n",
    "\n",
    "\n",
    "\n",
    "\n",
    "\n",
    "\n",
    "\n"
   ]
  },
  {
   "cell_type": "code",
   "execution_count": 23,
   "metadata": {},
   "outputs": [
    {
     "name": "stderr",
     "output_type": "stream",
     "text": [
      "ERROR:root:Internal Python error in the inspect module.\n",
      "Below is the traceback from this internal error.\n",
      "\n"
     ]
    },
    {
     "name": "stdout",
     "output_type": "stream",
     "text": [
      "Traceback (most recent call last):\n",
      "  File \"/Users/a0s00x0/opt/anaconda3/lib/python3.7/site-packages/IPython/core/interactiveshell.py\", line 3331, in run_code\n",
      "    exec(code_obj, self.user_global_ns, self.user_ns)\n",
      "  File \"<ipython-input-23-29250c3549ca>\", line 4, in <module>\n",
      "    item_dataset.head(5)\n",
      "  File \"/Users/a0s00x0/opt/anaconda3/lib/python3.7/site-packages/IPython/core/displayhook.py\", line 262, in __call__\n",
      "    format_dict, md_dict = self.compute_format_data(result)\n",
      "  File \"/Users/a0s00x0/opt/anaconda3/lib/python3.7/site-packages/IPython/core/displayhook.py\", line 151, in compute_format_data\n",
      "    return self.shell.display_formatter.format(result)\n",
      "  File \"/Users/a0s00x0/opt/anaconda3/lib/python3.7/site-packages/IPython/core/formatters.py\", line 180, in format\n",
      "    data = formatter(obj)\n",
      "  File \"</Users/a0s00x0/opt/anaconda3/lib/python3.7/site-packages/decorator.py:decorator-gen-10>\", line 2, in __call__\n",
      "  File \"/Users/a0s00x0/opt/anaconda3/lib/python3.7/site-packages/IPython/core/formatters.py\", line 224, in catch_format_error\n",
      "    r = method(self, *args, **kwargs)\n",
      "  File \"/Users/a0s00x0/opt/anaconda3/lib/python3.7/site-packages/IPython/core/formatters.py\", line 702, in __call__\n",
      "    printer.pretty(obj)\n",
      "  File \"/Users/a0s00x0/opt/anaconda3/lib/python3.7/site-packages/IPython/lib/pretty.py\", line 405, in pretty\n",
      "    return _repr_pprint(obj, self, cycle)\n",
      "  File \"/Users/a0s00x0/opt/anaconda3/lib/python3.7/site-packages/IPython/lib/pretty.py\", line 695, in _repr_pprint\n",
      "    output = repr(obj)\n",
      "  File \"/Users/a0s00x0/opt/anaconda3/lib/python3.7/site-packages/pandas/core/frame.py\", line 810, in __repr__\n",
      "    show_dimensions=show_dimensions,\n",
      "  File \"/Users/a0s00x0/opt/anaconda3/lib/python3.7/site-packages/pandas/core/frame.py\", line 942, in to_string\n",
      "    line_width=line_width,\n",
      "  File \"/Users/a0s00x0/opt/anaconda3/lib/python3.7/site-packages/pandas/io/formats/format.py\", line 1031, in to_string\n",
      "    string = string_formatter.to_string()\n",
      "  File \"/Users/a0s00x0/opt/anaconda3/lib/python3.7/site-packages/pandas/io/formats/string.py\", line 23, in to_string\n",
      "    text = self._get_string_representation()\n",
      "  File \"/Users/a0s00x0/opt/anaconda3/lib/python3.7/site-packages/pandas/io/formats/string.py\", line 38, in _get_string_representation\n",
      "    strcols = self._get_strcols()\n",
      "  File \"/Users/a0s00x0/opt/anaconda3/lib/python3.7/site-packages/pandas/io/formats/string.py\", line 29, in _get_strcols\n",
      "    strcols = self.fmt.get_strcols()\n",
      "  File \"/Users/a0s00x0/opt/anaconda3/lib/python3.7/site-packages/pandas/io/formats/format.py\", line 519, in get_strcols\n",
      "    strcols = self._get_strcols_without_index()\n",
      "  File \"/Users/a0s00x0/opt/anaconda3/lib/python3.7/site-packages/pandas/io/formats/format.py\", line 785, in _get_strcols_without_index\n",
      "    fmt_values = self.format_col(i)\n",
      "  File \"/Users/a0s00x0/opt/anaconda3/lib/python3.7/site-packages/pandas/io/formats/format.py\", line 806, in format_col\n",
      "    leading_space=self.index,\n",
      "  File \"/Users/a0s00x0/opt/anaconda3/lib/python3.7/site-packages/pandas/io/formats/format.py\", line 1218, in format_array\n",
      "    return fmt_obj.get_result()\n",
      "  File \"/Users/a0s00x0/opt/anaconda3/lib/python3.7/site-packages/pandas/io/formats/format.py\", line 1249, in get_result\n",
      "    fmt_values = self._format_strings()\n",
      "  File \"/Users/a0s00x0/opt/anaconda3/lib/python3.7/site-packages/pandas/io/formats/format.py\", line 1297, in _format_strings\n",
      "    & np.all(notna(vals), axis=tuple(range(1, len(vals.shape))))\n",
      "  File \"<__array_function__ internals>\", line 6, in all\n",
      "  File \"/Users/a0s00x0/opt/anaconda3/lib/python3.7/site-packages/numpy/core/fromnumeric.py\", line 2398, in all\n",
      "    return _wrapreduction(a, np.logical_and, 'all', axis, None, out, keepdims=keepdims)\n",
      "  File \"/Users/a0s00x0/opt/anaconda3/lib/python3.7/site-packages/numpy/core/fromnumeric.py\", line 74, in _wrapreduction\n",
      "    passkwargs = {k: v for k, v in kwargs.items()\n",
      "KeyboardInterrupt\n",
      "\n",
      "During handling of the above exception, another exception occurred:\n",
      "\n",
      "Traceback (most recent call last):\n",
      "  File \"/Users/a0s00x0/opt/anaconda3/lib/python3.7/site-packages/IPython/core/interactiveshell.py\", line 2044, in showtraceback\n",
      "    stb = value._render_traceback_()\n",
      "AttributeError: 'KeyboardInterrupt' object has no attribute '_render_traceback_'\n",
      "\n",
      "During handling of the above exception, another exception occurred:\n",
      "\n",
      "Traceback (most recent call last):\n",
      "  File \"/Users/a0s00x0/opt/anaconda3/lib/python3.7/site-packages/IPython/core/ultratb.py\", line 1151, in get_records\n",
      "    return _fixed_getinnerframes(etb, number_of_lines_of_context, tb_offset)\n",
      "  File \"/Users/a0s00x0/opt/anaconda3/lib/python3.7/site-packages/IPython/core/ultratb.py\", line 319, in wrapped\n",
      "    return f(*args, **kwargs)\n",
      "  File \"/Users/a0s00x0/opt/anaconda3/lib/python3.7/site-packages/IPython/core/ultratb.py\", line 353, in _fixed_getinnerframes\n",
      "    records = fix_frame_records_filenames(inspect.getinnerframes(etb, context))\n",
      "  File \"/Users/a0s00x0/opt/anaconda3/lib/python3.7/inspect.py\", line 1502, in getinnerframes\n",
      "    frameinfo = (tb.tb_frame,) + getframeinfo(tb, context)\n",
      "  File \"/Users/a0s00x0/opt/anaconda3/lib/python3.7/inspect.py\", line 1464, in getframeinfo\n",
      "    lines, lnum = findsource(frame)\n",
      "  File \"/Users/a0s00x0/opt/anaconda3/lib/python3.7/site-packages/IPython/core/ultratb.py\", line 185, in findsource\n",
      "    lines = linecache.getlines(file, globals_dict)\n",
      "  File \"/Users/a0s00x0/opt/anaconda3/lib/python3.7/linecache.py\", line 47, in getlines\n",
      "    return updatecache(filename, module_globals)\n",
      "  File \"/Users/a0s00x0/opt/anaconda3/lib/python3.7/linecache.py\", line 136, in updatecache\n",
      "    with tokenize.open(fullname) as fp:\n",
      "  File \"/Users/a0s00x0/opt/anaconda3/lib/python3.7/tokenize.py\", line 447, in open\n",
      "    buffer = _builtin_open(filename, 'rb')\n",
      "KeyboardInterrupt\n"
     ]
    },
    {
     "ename": "KeyboardInterrupt",
     "evalue": "",
     "output_type": "error",
     "traceback": [
      "\u001b[0;31m---------------------------------------------------------------------------\u001b[0m"
     ]
    }
   ],
   "source": [
    "\n",
    "item_dataset['rating'] = item_dataset['rating'].apply(np.int64)\n",
    "\n",
    "item_dataset = item_dataset.sort_values('rating', ascending=False)\n",
    "item_dataset.head(5)"
   ]
  },
  {
   "cell_type": "code",
   "execution_count": null,
   "metadata": {},
   "outputs": [],
   "source": [
    "\n",
    "Tag=[]\n",
    "Tags={}\n",
    "for num in range(0,len(item_dataset)):\n",
    "    key=item_dataset.iloc[num]['itemNbr']\n",
    "   # value=item_dataset.iloc[num]['tags'].lower().split(',')\n",
    "   # nameToTags = ','.join([word for word in name.split() if word not in stopwords.words(\"english\")])\n",
    "    value=re.split(', | ',item_dataset.iloc[num]['tags'].lower())\n",
    "    value = list(dict.fromkeys(value))\n",
    "    print(value)\n",
    "    Tags[key]=value\n",
    "    Tag.append(value)\n",
    "\n"
   ]
  },
  {
   "cell_type": "code",
   "execution_count": null,
   "metadata": {},
   "outputs": [],
   "source": [
    "item_dataset.head(6)\n",
    "\n",
    "\n"
   ]
  },
  {
   "cell_type": "code",
   "execution_count": null,
   "metadata": {},
   "outputs": [],
   "source": [
    "#Making a new column in our original Dataset         \n",
    "item_dataset['tagArray']=Tag"
   ]
  },
  {
   "cell_type": "code",
   "execution_count": null,
   "metadata": {},
   "outputs": [],
   "source": [
    "\n",
    "\n",
    "s = item_dataset.apply(lambda x: pd.Series(x['tagArray']),axis=1).stack().reset_index(level=1, drop=True)\n",
    "s.name = 'tag'\n",
    "gen_item_dataset = item_dataset.drop('tagArray', axis=1).join(s)\n"
   ]
  },
  {
   "cell_type": "code",
   "execution_count": null,
   "metadata": {},
   "outputs": [],
   "source": [
    "\n",
    "\n",
    "\n",
    "\n",
    "\n",
    "\n",
    "\n",
    "\n",
    "location_dataset=pd.read_csv('locationtags.csv')\n",
    "\n",
    "\n",
    "\n",
    "\n",
    "\n",
    "\n",
    "location_dataset.head(5)\n"
   ]
  },
  {
   "cell_type": "code",
   "execution_count": null,
   "metadata": {},
   "outputs": [],
   "source": [
    "purchase_dataset=pd.read_csv('purchase.csv')\n",
    "purchase_dataset=purchase_dataset[['orderNo','userId','orderDate','itemNbr','rating']]\n",
    "purchase_dataset.head(6)"
   ]
  },
  {
   "cell_type": "code",
   "execution_count": null,
   "metadata": {},
   "outputs": [],
   "source": [
    "Tag=[]\n",
    "Tags={}\n",
    "for num in range(0,len(location_dataset)):\n",
    "    key=location_dataset.iloc[num]['location_id']\n",
    "    value=location_dataset.iloc[num]['tags'].split(',')\n",
    "    Tags[key]=value\n",
    "    Tag.append(value)\n",
    "\n",
    "    \n",
    "#Making a new column in our original Dataset         \n",
    "location_dataset['tagArray']=Tag\n",
    "\n",
    "#print(location_dataset.head(5))\n",
    "\n",
    "\n",
    "def get_tags_from_location(location):\n",
    "    df = location_dataset[location_dataset['city']==location]\n",
    "    return df['tagArray']\n",
    "\n",
    "\n"
   ]
  },
  {
   "cell_type": "code",
   "execution_count": null,
   "metadata": {},
   "outputs": [],
   "source": [
    "get_tags_from_location(\"NYC\")"
   ]
  },
  {
   "cell_type": "code",
   "execution_count": null,
   "metadata": {},
   "outputs": [],
   "source": [
    "location_dataset.head(5)"
   ]
  },
  {
   "cell_type": "code",
   "execution_count": null,
   "metadata": {},
   "outputs": [],
   "source": [
    "\n",
    "def build_chart(location, percentile=0.85):\n",
    "    \n",
    "    tagArray=get_tags_from_location(location)\n",
    "    tagArray = list(tagArray)\n",
    "    result=pd.DataFrame() \n",
    "    print(tagArray[0])\n",
    "    for tag in tagArray[0]:\n",
    "       \n",
    "        qualified=gen_item_dataset[gen_item_dataset['tag'] == tag.lower()]\n",
    "        qualified=qualified.sort_values('rating',ascending=False)\n",
    "        result = result.append(qualified[['itemNbr','itemDesc','rating']].drop_duplicates()).drop_duplicates()\n",
    "        \n",
    "    result=result.sort_values('rating',ascending=False)\n",
    "    return result\n",
    "\n",
    "\n"
   ]
  },
  {
   "cell_type": "code",
   "execution_count": null,
   "metadata": {},
   "outputs": [],
   "source": [
    "purchase_dataset"
   ]
  },
  {
   "cell_type": "code",
   "execution_count": null,
   "metadata": {},
   "outputs": [],
   "source": [
    "#purchase_dataset=purchase_dataset[purchase_dataset.itemNbr.isin(items['itemNbr'].to_list())]\n",
    "        \n",
    "user_item_purchase = pd.pivot_table(purchase_dataset, index='userId', columns='itemNbr', values='rating')\n",
    "\n",
    "\n",
    "user_item_purchase = user_item_purchase.fillna(0)\n",
    "\n",
    "user_item_purchase.head(10)\n",
    "user_item_purchase_csr = csr_matrix(user_item_purchase.values)\n",
    "user_id = list(user_item_purchase.index)\n",
    "\n",
    "\n",
    "user_dict = {}\n",
    "counter = 0 \n",
    "for i in user_id:\n",
    "    user_dict[i] = counter\n",
    "    counter += 1\n",
    "\n",
    "print(user_dict)"
   ]
  },
  {
   "cell_type": "code",
   "execution_count": null,
   "metadata": {},
   "outputs": [],
   "source": [
    "\n",
    "\n",
    "model = LightFM(loss='warp',\n",
    "                random_state=2016,\n",
    "                learning_rate=0.90,\n",
    "                no_components=8,\n",
    "                user_alpha=0.90)\n",
    "\n",
    "model = model.fit(user_item_purchase_csr,\n",
    "                  epochs=100,\n",
    "                  num_threads=16, verbose=False)\n",
    "\n"
   ]
  },
  {
   "cell_type": "code",
   "execution_count": null,
   "metadata": {},
   "outputs": [],
   "source": [
    "user_item_purchase"
   ]
  },
  {
   "cell_type": "code",
   "execution_count": null,
   "metadata": {},
   "outputs": [],
   "source": [
    " print(user_item_purchase)"
   ]
  },
  {
   "cell_type": "code",
   "execution_count": 29,
   "metadata": {},
   "outputs": [],
   "source": [
    "def sample_recommendation_user(model, user_item_purchase, user_id, user_dict,location, threshold = 0,nrec_items = 50000, show = True):\n",
    "    items=build_chart(location)\n",
    "\n",
    "    item_dict ={}\n",
    "    df = items[['itemNbr','itemDesc']].sort_values('itemDesc', ascending=False).reset_index()\n",
    "\n",
    "    for i in range(df.shape[0]):\n",
    "        item_dict[(df.loc[i,'itemNbr'])] = \"https://www.walmart.com/ip/\"+df.loc[i,'itemDesc'].replace(\" \",\"-\")+\"/\"+str(df.loc[i,'itemNbr'])\n",
    "    itemDesc=items[['itemNbr','itemDesc']]\n",
    "    \n",
    "    items=items[['itemNbr','rating']]\n",
    "\n",
    "        \n",
    "    items_selected_transformed = pd.get_dummies(items, columns = ['rating'])\n",
    "    items_selected_transformed = items_selected_transformed.sort_values('itemNbr').reset_index().drop('index', axis=1)\n",
    "    items_csr = csr_matrix(items_selected_transformed.drop('itemNbr', axis=1).values)\n",
    "\n",
    " \n",
    "    user_item_purchase=user_item_purchase.loc[:,user_item_purchase.columns.isin(items['itemNbr'].to_list())]\n",
    "\n",
    "    n_users, n_items = user_item_purchase.shape\n",
    "    if n_users==0 or n_items==0:\n",
    "    \n",
    "       return list(item_dict.values())[:50]\n",
    "    \n",
    "        \n",
    "        \n",
    "    \n",
    "        \n",
    "    else:\n",
    "        #if user_id\n",
    "        user_x = user_dict.get(user_id)\n",
    "\n",
    "        if user_x==None:\n",
    "              return list(item_dict.values())[:50]\n",
    "        else:\n",
    "            \n",
    "            scores = pd.Series(model.predict(user_x,np.arange(n_items), item_features=items_csr))\n",
    "           \n",
    "            \n",
    "            scores.index = user_item_purchase.columns\n",
    "            \n",
    "            scores = list(pd.Series(scores.sort_values(ascending=False).index))\n",
    "            known_items = list(pd.Series(user_item_purchase.loc[user_id,:] \\\n",
    "                                         [user_item_purchase.loc[user_id,:] > threshold].index).sort_values(ascending=False))\n",
    "            scores = [x for x in scores if x not in known_items]\n",
    "            return_score_list = scores[0:nrec_items]\n",
    "            known_items = list(pd.Series(known_items).apply(lambda x: item_dict[x]))\n",
    "            scores = list(pd.Series(scores).apply(lambda x: item_dict[x]))\n",
    "            \n",
    "            return scores[:50]\n",
    "    \n",
    "\n",
    "\n"
   ]
  },
  {
   "cell_type": "code",
   "execution_count": 32,
   "metadata": {},
   "outputs": [
    {
     "name": "stdout",
     "output_type": "stream",
     "text": [
      "['snorkel', 'snorkeling', 'scuba']\n"
     ]
    }
   ],
   "source": [
    "\n",
    "x=sample_recommendation_user(model, user_item_purchase, 'A1', user_dict, 'MIA')\n"
   ]
  },
  {
   "cell_type": "code",
   "execution_count": 33,
   "metadata": {},
   "outputs": [
    {
     "name": "stdout",
     "output_type": "stream",
     "text": [
      "['https://www.walmart.com/ip/swimways-fish-face-dolphin-swim-goggles,-colors-may-vary/152846636', 'https://www.walmart.com/ip/Swim-Central-One-Size-Fits-All-White-Molded-Ear-Plugs/51944707', \"https://www.walmart.com/ip/SULANG-Men's-Ultra-Quick-Dry-Swim-Trunks-9-inch-Board-Shorts-Bathing-Suits-Elastic-Waist-Drawstring-No-Mesh-Lining-Small-31-32/947841875\", \"https://www.walmart.com/ip/SULANG-Men's-Ultra-Quick-Dry-Swim-Trunks-6-inch-Volley-Board-Shorts-Bathing-Suits-Elastic-Waist-Drawstring-No-Mesh-Lining-Small-31-32/962466620\", \"https://www.walmart.com/ip/SULANG-Men's-Ultra-Quick-Dry-Solid-Color-Swim-Trunks-9-inch-Board-Shorts-Bathing-Suits-Elastic-Waist-Drawstring-No-Mesh-Lining-Small-31-32/452917812\", 'https://www.walmart.com/ip/Plush-Sherpa-Lined-Slipper-Socks-With-Non-Skid-Sole-Knit-Festive-Winter-Fleece-Snowflake-Solid-Two-Tone/677687828', 'https://www.walmart.com/ip/Plush-Sherpa-Lined-Slipper-Socks-With-Non-Skid-Sole-Knit-Festive-Winter-Fleece-Snowflake-Solid-Two-Tone/639959263', 'https://www.walmart.com/ip/John-3:16-Bible-Verse-Christian-Jesus-T-shirt-colors-s-m-l-xl-2x/782319582', 'https://www.walmart.com/ip/International-Leisure-Prod-94685-Swimline-Swimline-Laguna-Youth-And-Adult-Mask/41909071', 'https://www.walmart.com/ip/HDE-Womens-Swim-Brief-with-Ties-Mini-Boy-Short-Bikini-Bottoms-Swimsuit-Separates/719150519', 'https://www.walmart.com/ip/Face-Cover-Bandana-Adult-Unisex-Cotton-Fabric-Multicolor-Puzzle-Game/652275199', \"https://www.walmart.com/ip/Eva-Women's-Motorcycle-Jacket-Racer-Coat-Biker-Scuba-Faux-Shearling-Black-XL/47912440\", 'https://www.walmart.com/ip/Bigfoot-Silhouette-Sasquatch-Tee-Folklore-Big-Foot-Cryptozoology-Mens-Adult-Graphic-Apparel-T-Shirt/330444423', 'https://www.walmart.com/ip/Be-Fearless-Mens-Soft-T-Shirt-Inspirational-Motivational-Holiday-Gift-Tee-Z2/697420596', 'https://www.walmart.com/ip/Aqua-Sphere-Womens-Swim-Skin-Wetsuit-Top-Long-Sleeve-High-Neck-Rash-Guard-Shirt/925385506', 'https://www.walmart.com/ip/Aqua-Sphere-Womens-Swim-Skin-Wetsuit-Top-Long-Sleeve-High-Neck-Rash-Guard-Shirt/711906027']\n"
     ]
    }
   ],
   "source": [
    "\n",
    "print(x)"
   ]
  },
  {
   "cell_type": "code",
   "execution_count": null,
   "metadata": {},
   "outputs": [
    {
     "name": "stdout",
     "output_type": "stream",
     "text": [
      " * Serving Flask app \"__main__\" (lazy loading)\n",
      " * Environment: production\n",
      "   WARNING: This is a development server. Do not use it in a production deployment.\n",
      "   Use a production WSGI server instead.\n",
      " * Debug mode: off\n"
     ]
    },
    {
     "name": "stderr",
     "output_type": "stream",
     "text": [
      " * Running on http://127.0.0.1:5000/ (Press CTRL+C to quit)\n",
      "INFO:werkzeug: * Running on http://127.0.0.1:5000/ (Press CTRL+C to quit)\n",
      "127.0.0.1 - - [26/Jan/2021 17:15:56] \"\u001b[37mOPTIONS /recommendations?userId=A6&city=LAX HTTP/1.1\u001b[0m\" 200 -\n",
      "INFO:werkzeug:127.0.0.1 - - [26/Jan/2021 17:15:56] \"\u001b[37mOPTIONS /recommendations?userId=A6&city=LAX HTTP/1.1\u001b[0m\" 200 -\n",
      "127.0.0.1 - - [26/Jan/2021 17:15:56] \"\u001b[37mOPTIONS /recommendations?userId=A6&city=LAX HTTP/1.1\u001b[0m\" 200 -\n",
      "INFO:werkzeug:127.0.0.1 - - [26/Jan/2021 17:15:56] \"\u001b[37mOPTIONS /recommendations?userId=A6&city=LAX HTTP/1.1\u001b[0m\" 200 -\n"
     ]
    },
    {
     "name": "stdout",
     "output_type": "stream",
     "text": [
      "['summer', ' sunglasses', ' sun', ' cotton', ' sun', ' sunglasses']\n"
     ]
    },
    {
     "name": "stderr",
     "output_type": "stream",
     "text": [
      "127.0.0.1 - - [26/Jan/2021 17:15:57] \"\u001b[37mGET /recommendations?userId=A6&city=LAX HTTP/1.1\u001b[0m\" 200 -\n",
      "INFO:werkzeug:127.0.0.1 - - [26/Jan/2021 17:15:57] \"\u001b[37mGET /recommendations?userId=A6&city=LAX HTTP/1.1\u001b[0m\" 200 -\n"
     ]
    },
    {
     "name": "stdout",
     "output_type": "stream",
     "text": [
      "['summer', ' sunglasses', ' sun', ' cotton', ' sun', ' sunglasses']\n"
     ]
    },
    {
     "name": "stderr",
     "output_type": "stream",
     "text": [
      "127.0.0.1 - - [26/Jan/2021 17:15:58] \"\u001b[37mGET /recommendations?userId=A6&city=LAX HTTP/1.1\u001b[0m\" 200 -\n",
      "INFO:werkzeug:127.0.0.1 - - [26/Jan/2021 17:15:58] \"\u001b[37mGET /recommendations?userId=A6&city=LAX HTTP/1.1\u001b[0m\" 200 -\n"
     ]
    },
    {
     "name": "stdout",
     "output_type": "stream",
     "text": [
      "['summer', ' sunglasses', ' sun', ' cotton', ' sun', ' sunglasses']\n"
     ]
    },
    {
     "name": "stderr",
     "output_type": "stream",
     "text": [
      "127.0.0.1 - - [26/Jan/2021 17:16:00] \"\u001b[37mGET /recommendations?userId=A6&city=LAX HTTP/1.1\u001b[0m\" 200 -\n",
      "INFO:werkzeug:127.0.0.1 - - [26/Jan/2021 17:16:00] \"\u001b[37mGET /recommendations?userId=A6&city=LAX HTTP/1.1\u001b[0m\" 200 -\n"
     ]
    },
    {
     "name": "stdout",
     "output_type": "stream",
     "text": [
      "['summer', ' sunglasses', ' sun', ' cotton', ' sun', ' sunglasses']\n"
     ]
    },
    {
     "name": "stderr",
     "output_type": "stream",
     "text": [
      "127.0.0.1 - - [26/Jan/2021 17:16:01] \"\u001b[37mGET /recommendations?userId=A6&city=LAX HTTP/1.1\u001b[0m\" 200 -\n",
      "INFO:werkzeug:127.0.0.1 - - [26/Jan/2021 17:16:01] \"\u001b[37mGET /recommendations?userId=A6&city=LAX HTTP/1.1\u001b[0m\" 200 -\n"
     ]
    },
    {
     "name": "stdout",
     "output_type": "stream",
     "text": [
      "['summer', ' sunglasses', ' sun', ' cotton', ' sun', ' sunglasses']\n"
     ]
    },
    {
     "name": "stderr",
     "output_type": "stream",
     "text": [
      "127.0.0.1 - - [26/Jan/2021 17:16:02] \"\u001b[37mGET /recommendations?userId=A6&city=LAX HTTP/1.1\u001b[0m\" 200 -\n",
      "INFO:werkzeug:127.0.0.1 - - [26/Jan/2021 17:16:02] \"\u001b[37mGET /recommendations?userId=A6&city=LAX HTTP/1.1\u001b[0m\" 200 -\n",
      "127.0.0.1 - - [26/Jan/2021 17:16:02] \"\u001b[37mOPTIONS /recommendations?userId=A6&city=LAX HTTP/1.1\u001b[0m\" 200 -\n",
      "INFO:werkzeug:127.0.0.1 - - [26/Jan/2021 17:16:02] \"\u001b[37mOPTIONS /recommendations?userId=A6&city=LAX HTTP/1.1\u001b[0m\" 200 -\n",
      "127.0.0.1 - - [26/Jan/2021 17:16:02] \"\u001b[37mOPTIONS /recommendations?userId=A6&city=LAX HTTP/1.1\u001b[0m\" 200 -\n",
      "INFO:werkzeug:127.0.0.1 - - [26/Jan/2021 17:16:02] \"\u001b[37mOPTIONS /recommendations?userId=A6&city=LAX HTTP/1.1\u001b[0m\" 200 -\n"
     ]
    },
    {
     "name": "stdout",
     "output_type": "stream",
     "text": [
      "['summer', ' sunglasses', ' sun', ' cotton', ' sun', ' sunglasses']\n"
     ]
    },
    {
     "name": "stderr",
     "output_type": "stream",
     "text": [
      "127.0.0.1 - - [26/Jan/2021 17:16:03] \"\u001b[37mOPTIONS /recommendations?userId=A9&city=LAX HTTP/1.1\u001b[0m\" 200 -\n",
      "INFO:werkzeug:127.0.0.1 - - [26/Jan/2021 17:16:03] \"\u001b[37mOPTIONS /recommendations?userId=A9&city=LAX HTTP/1.1\u001b[0m\" 200 -\n",
      "127.0.0.1 - - [26/Jan/2021 17:16:03] \"\u001b[37mOPTIONS /recommendations?userId=A9&city=LAX HTTP/1.1\u001b[0m\" 200 -\n",
      "INFO:werkzeug:127.0.0.1 - - [26/Jan/2021 17:16:03] \"\u001b[37mOPTIONS /recommendations?userId=A9&city=LAX HTTP/1.1\u001b[0m\" 200 -\n",
      "127.0.0.1 - - [26/Jan/2021 17:16:03] \"\u001b[37mGET /recommendations?userId=A6&city=LAX HTTP/1.1\u001b[0m\" 200 -\n",
      "INFO:werkzeug:127.0.0.1 - - [26/Jan/2021 17:16:03] \"\u001b[37mGET /recommendations?userId=A6&city=LAX HTTP/1.1\u001b[0m\" 200 -\n"
     ]
    },
    {
     "name": "stdout",
     "output_type": "stream",
     "text": [
      "['summer', ' sunglasses', ' sun', ' cotton', ' sun', ' sunglasses']\n"
     ]
    },
    {
     "name": "stderr",
     "output_type": "stream",
     "text": [
      "127.0.0.1 - - [26/Jan/2021 17:16:04] \"\u001b[37mGET /recommendations?userId=A9&city=LAX HTTP/1.1\u001b[0m\" 200 -\n",
      "INFO:werkzeug:127.0.0.1 - - [26/Jan/2021 17:16:04] \"\u001b[37mGET /recommendations?userId=A9&city=LAX HTTP/1.1\u001b[0m\" 200 -\n"
     ]
    },
    {
     "name": "stdout",
     "output_type": "stream",
     "text": [
      "['summer', ' sunglasses', ' sun', ' cotton', ' sun', ' sunglasses']\n"
     ]
    },
    {
     "name": "stderr",
     "output_type": "stream",
     "text": [
      "127.0.0.1 - - [26/Jan/2021 17:16:06] \"\u001b[37mGET /recommendations?userId=A9&city=LAX HTTP/1.1\u001b[0m\" 200 -\n",
      "INFO:werkzeug:127.0.0.1 - - [26/Jan/2021 17:16:06] \"\u001b[37mGET /recommendations?userId=A9&city=LAX HTTP/1.1\u001b[0m\" 200 -\n"
     ]
    },
    {
     "name": "stdout",
     "output_type": "stream",
     "text": [
      "['summer', ' sunglasses', ' sun', ' cotton', ' sun', ' sunglasses']\n"
     ]
    },
    {
     "name": "stderr",
     "output_type": "stream",
     "text": [
      "127.0.0.1 - - [26/Jan/2021 17:16:07] \"\u001b[37mGET /recommendations?userId=A9&city=LAX HTTP/1.1\u001b[0m\" 200 -\n",
      "INFO:werkzeug:127.0.0.1 - - [26/Jan/2021 17:16:07] \"\u001b[37mGET /recommendations?userId=A9&city=LAX HTTP/1.1\u001b[0m\" 200 -\n"
     ]
    },
    {
     "name": "stdout",
     "output_type": "stream",
     "text": [
      "['summer', ' sunglasses', ' sun', ' cotton', ' sun', ' sunglasses']\n"
     ]
    },
    {
     "name": "stderr",
     "output_type": "stream",
     "text": [
      "127.0.0.1 - - [26/Jan/2021 17:16:08] \"\u001b[37mGET /recommendations?userId=A9&city=LAX HTTP/1.1\u001b[0m\" 200 -\n",
      "INFO:werkzeug:127.0.0.1 - - [26/Jan/2021 17:16:08] \"\u001b[37mGET /recommendations?userId=A9&city=LAX HTTP/1.1\u001b[0m\" 200 -\n"
     ]
    },
    {
     "name": "stdout",
     "output_type": "stream",
     "text": [
      "['summer', ' sunglasses', ' sun', ' cotton', ' sun', ' sunglasses']\n"
     ]
    },
    {
     "name": "stderr",
     "output_type": "stream",
     "text": [
      "127.0.0.1 - - [26/Jan/2021 17:16:09] \"\u001b[37mGET /recommendations?userId=A9&city=LAX HTTP/1.1\u001b[0m\" 200 -\n",
      "INFO:werkzeug:127.0.0.1 - - [26/Jan/2021 17:16:09] \"\u001b[37mGET /recommendations?userId=A9&city=LAX HTTP/1.1\u001b[0m\" 200 -\n",
      "127.0.0.1 - - [26/Jan/2021 17:16:09] \"\u001b[37mOPTIONS /recommendations?userId=A9&city=LAX HTTP/1.1\u001b[0m\" 200 -\n",
      "INFO:werkzeug:127.0.0.1 - - [26/Jan/2021 17:16:09] \"\u001b[37mOPTIONS /recommendations?userId=A9&city=LAX HTTP/1.1\u001b[0m\" 200 -\n",
      "127.0.0.1 - - [26/Jan/2021 17:16:09] \"\u001b[37mOPTIONS /recommendations?userId=A9&city=LAX HTTP/1.1\u001b[0m\" 200 -\n",
      "INFO:werkzeug:127.0.0.1 - - [26/Jan/2021 17:16:09] \"\u001b[37mOPTIONS /recommendations?userId=A9&city=LAX HTTP/1.1\u001b[0m\" 200 -\n"
     ]
    },
    {
     "name": "stdout",
     "output_type": "stream",
     "text": [
      "['summer', ' sunglasses', ' sun', ' cotton', ' sun', ' sunglasses']\n"
     ]
    },
    {
     "name": "stderr",
     "output_type": "stream",
     "text": [
      "127.0.0.1 - - [26/Jan/2021 17:16:10] \"\u001b[37mGET /recommendations?userId=A9&city=LAX HTTP/1.1\u001b[0m\" 200 -\n",
      "INFO:werkzeug:127.0.0.1 - - [26/Jan/2021 17:16:10] \"\u001b[37mGET /recommendations?userId=A9&city=LAX HTTP/1.1\u001b[0m\" 200 -\n"
     ]
    },
    {
     "name": "stdout",
     "output_type": "stream",
     "text": [
      "['summer', ' sunglasses', ' sun', ' cotton', ' sun', ' sunglasses']\n"
     ]
    },
    {
     "name": "stderr",
     "output_type": "stream",
     "text": [
      "127.0.0.1 - - [26/Jan/2021 17:16:12] \"\u001b[37mGET /recommendations?userId=A9&city=LAX HTTP/1.1\u001b[0m\" 200 -\n",
      "INFO:werkzeug:127.0.0.1 - - [26/Jan/2021 17:16:12] \"\u001b[37mGET /recommendations?userId=A9&city=LAX HTTP/1.1\u001b[0m\" 200 -\n"
     ]
    },
    {
     "name": "stdout",
     "output_type": "stream",
     "text": [
      "['summer', ' sunglasses', ' sun', ' cotton', ' sun', ' sunglasses']\n"
     ]
    },
    {
     "name": "stderr",
     "output_type": "stream",
     "text": [
      "127.0.0.1 - - [26/Jan/2021 17:16:13] \"\u001b[37mGET /recommendations?userId=A9&city=LAX HTTP/1.1\u001b[0m\" 200 -\n",
      "INFO:werkzeug:127.0.0.1 - - [26/Jan/2021 17:16:13] \"\u001b[37mGET /recommendations?userId=A9&city=LAX HTTP/1.1\u001b[0m\" 200 -\n"
     ]
    },
    {
     "name": "stdout",
     "output_type": "stream",
     "text": [
      "['summer', ' sunglasses', ' sun', ' cotton', ' sun', ' sunglasses']\n"
     ]
    },
    {
     "name": "stderr",
     "output_type": "stream",
     "text": [
      "127.0.0.1 - - [26/Jan/2021 17:16:14] \"\u001b[37mGET /recommendations?userId=A9&city=LAX HTTP/1.1\u001b[0m\" 200 -\n",
      "INFO:werkzeug:127.0.0.1 - - [26/Jan/2021 17:16:14] \"\u001b[37mGET /recommendations?userId=A9&city=LAX HTTP/1.1\u001b[0m\" 200 -\n"
     ]
    },
    {
     "name": "stdout",
     "output_type": "stream",
     "text": [
      "['summer', ' sunglasses', ' sun', ' cotton', ' sun', ' sunglasses']\n"
     ]
    },
    {
     "name": "stderr",
     "output_type": "stream",
     "text": [
      "127.0.0.1 - - [26/Jan/2021 17:16:15] \"\u001b[37mGET /recommendations?userId=A9&city=LAX HTTP/1.1\u001b[0m\" 200 -\n",
      "INFO:werkzeug:127.0.0.1 - - [26/Jan/2021 17:16:15] \"\u001b[37mGET /recommendations?userId=A9&city=LAX HTTP/1.1\u001b[0m\" 200 -\n",
      "127.0.0.1 - - [26/Jan/2021 17:16:15] \"\u001b[37mOPTIONS /recommendations?userId=A9&city=LAX HTTP/1.1\u001b[0m\" 200 -\n",
      "INFO:werkzeug:127.0.0.1 - - [26/Jan/2021 17:16:15] \"\u001b[37mOPTIONS /recommendations?userId=A9&city=LAX HTTP/1.1\u001b[0m\" 200 -\n",
      "127.0.0.1 - - [26/Jan/2021 17:16:15] \"\u001b[37mOPTIONS /recommendations?userId=A9&city=LAX HTTP/1.1\u001b[0m\" 200 -\n",
      "INFO:werkzeug:127.0.0.1 - - [26/Jan/2021 17:16:15] \"\u001b[37mOPTIONS /recommendations?userId=A9&city=LAX HTTP/1.1\u001b[0m\" 200 -\n"
     ]
    },
    {
     "name": "stdout",
     "output_type": "stream",
     "text": [
      "['summer', ' sunglasses', ' sun', ' cotton', ' sun', ' sunglasses']\n"
     ]
    },
    {
     "name": "stderr",
     "output_type": "stream",
     "text": [
      "127.0.0.1 - - [26/Jan/2021 17:16:16] \"\u001b[37mGET /recommendations?userId=A9&city=LAX HTTP/1.1\u001b[0m\" 200 -\n",
      "INFO:werkzeug:127.0.0.1 - - [26/Jan/2021 17:16:16] \"\u001b[37mGET /recommendations?userId=A9&city=LAX HTTP/1.1\u001b[0m\" 200 -\n"
     ]
    },
    {
     "name": "stdout",
     "output_type": "stream",
     "text": [
      "['summer', ' sunglasses', ' sun', ' cotton', ' sun', ' sunglasses']\n"
     ]
    },
    {
     "name": "stderr",
     "output_type": "stream",
     "text": [
      "127.0.0.1 - - [26/Jan/2021 17:16:18] \"\u001b[37mGET /recommendations?userId=A9&city=LAX HTTP/1.1\u001b[0m\" 200 -\n",
      "INFO:werkzeug:127.0.0.1 - - [26/Jan/2021 17:16:18] \"\u001b[37mGET /recommendations?userId=A9&city=LAX HTTP/1.1\u001b[0m\" 200 -\n"
     ]
    },
    {
     "name": "stdout",
     "output_type": "stream",
     "text": [
      "['summer', ' sunglasses', ' sun', ' cotton', ' sun', ' sunglasses']\n"
     ]
    },
    {
     "name": "stderr",
     "output_type": "stream",
     "text": [
      "127.0.0.1 - - [26/Jan/2021 17:16:19] \"\u001b[37mGET /recommendations?userId=A9&city=LAX HTTP/1.1\u001b[0m\" 200 -\n",
      "INFO:werkzeug:127.0.0.1 - - [26/Jan/2021 17:16:19] \"\u001b[37mGET /recommendations?userId=A9&city=LAX HTTP/1.1\u001b[0m\" 200 -\n"
     ]
    },
    {
     "name": "stdout",
     "output_type": "stream",
     "text": [
      "['summer', ' sunglasses', ' sun', ' cotton', ' sun', ' sunglasses']\n",
      "['summer', ' sunglasses', ' sun', ' cotton', ' sun', ' sunglasses']['summer', ' sunglasses', ' sun', ' cotton', ' sun', ' sunglasses']\n",
      "\n"
     ]
    },
    {
     "name": "stderr",
     "output_type": "stream",
     "text": [
      "127.0.0.1 - - [26/Jan/2021 17:16:20] \"\u001b[37mOPTIONS /recommendations?userId=A9&city=OAK HTTP/1.1\u001b[0m\" 200 -\n",
      "INFO:werkzeug:127.0.0.1 - - [26/Jan/2021 17:16:20] \"\u001b[37mOPTIONS /recommendations?userId=A9&city=OAK HTTP/1.1\u001b[0m\" 200 -\n",
      "127.0.0.1 - - [26/Jan/2021 17:16:20] \"\u001b[37mOPTIONS /recommendations?userId=A9&city=OAK HTTP/1.1\u001b[0m\" 200 -\n",
      "INFO:werkzeug:127.0.0.1 - - [26/Jan/2021 17:16:20] \"\u001b[37mOPTIONS /recommendations?userId=A9&city=OAK HTTP/1.1\u001b[0m\" 200 -\n"
     ]
    },
    {
     "name": "stdout",
     "output_type": "stream",
     "text": [
      "['hiking', 'camping', 'trekking']\n"
     ]
    },
    {
     "name": "stderr",
     "output_type": "stream",
     "text": [
      "127.0.0.1 - - [26/Jan/2021 17:16:21] \"\u001b[37mGET /recommendations?userId=A9&city=LAX HTTP/1.1\u001b[0m\" 200 -\n",
      "INFO:werkzeug:127.0.0.1 - - [26/Jan/2021 17:16:21] \"\u001b[37mGET /recommendations?userId=A9&city=LAX HTTP/1.1\u001b[0m\" 200 -\n",
      "/Users/a0s00x0/opt/anaconda3/lib/python3.7/site-packages/ipykernel_launcher.py:48: DeprecationWarning: The default dtype for empty Series will be 'object' instead of 'float64' in a future version. Specify a dtype explicitly to silence this warning.\n",
      "127.0.0.1 - - [26/Jan/2021 17:16:22] \"\u001b[37mGET /recommendations?userId=A9&city=OAK HTTP/1.1\u001b[0m\" 200 -\n",
      "INFO:werkzeug:127.0.0.1 - - [26/Jan/2021 17:16:22] \"\u001b[37mGET /recommendations?userId=A9&city=OAK HTTP/1.1\u001b[0m\" 200 -\n"
     ]
    },
    {
     "name": "stdout",
     "output_type": "stream",
     "text": [
      "['hiking', 'camping', 'trekking']\n"
     ]
    },
    {
     "name": "stderr",
     "output_type": "stream",
     "text": [
      "/Users/a0s00x0/opt/anaconda3/lib/python3.7/site-packages/ipykernel_launcher.py:48: DeprecationWarning: The default dtype for empty Series will be 'object' instead of 'float64' in a future version. Specify a dtype explicitly to silence this warning.\n",
      "127.0.0.1 - - [26/Jan/2021 17:16:23] \"\u001b[37mGET /recommendations?userId=A9&city=OAK HTTP/1.1\u001b[0m\" 200 -\n",
      "INFO:werkzeug:127.0.0.1 - - [26/Jan/2021 17:16:23] \"\u001b[37mGET /recommendations?userId=A9&city=OAK HTTP/1.1\u001b[0m\" 200 -\n"
     ]
    },
    {
     "name": "stdout",
     "output_type": "stream",
     "text": [
      "['hiking', 'camping', 'trekking']\n"
     ]
    },
    {
     "name": "stderr",
     "output_type": "stream",
     "text": [
      "127.0.0.1 - - [26/Jan/2021 17:16:24] \"\u001b[37mGET /recommendations?userId=A9&city=LAX HTTP/1.1\u001b[0m\" 200 -\n",
      "INFO:werkzeug:127.0.0.1 - - [26/Jan/2021 17:16:24] \"\u001b[37mGET /recommendations?userId=A9&city=LAX HTTP/1.1\u001b[0m\" 200 -\n",
      "127.0.0.1 - - [26/Jan/2021 17:16:24] \"\u001b[37mGET /recommendations?userId=A9&city=LAX HTTP/1.1\u001b[0m\" 200 -\n",
      "INFO:werkzeug:127.0.0.1 - - [26/Jan/2021 17:16:24] \"\u001b[37mGET /recommendations?userId=A9&city=LAX HTTP/1.1\u001b[0m\" 200 -\n",
      "/Users/a0s00x0/opt/anaconda3/lib/python3.7/site-packages/ipykernel_launcher.py:48: DeprecationWarning: The default dtype for empty Series will be 'object' instead of 'float64' in a future version. Specify a dtype explicitly to silence this warning.\n",
      "127.0.0.1 - - [26/Jan/2021 17:16:24] \"\u001b[37mGET /recommendations?userId=A9&city=OAK HTTP/1.1\u001b[0m\" 200 -\n",
      "INFO:werkzeug:127.0.0.1 - - [26/Jan/2021 17:16:24] \"\u001b[37mGET /recommendations?userId=A9&city=OAK HTTP/1.1\u001b[0m\" 200 -\n"
     ]
    },
    {
     "name": "stdout",
     "output_type": "stream",
     "text": [
      "['hiking', 'camping', 'trekking']\n"
     ]
    },
    {
     "name": "stderr",
     "output_type": "stream",
     "text": [
      "/Users/a0s00x0/opt/anaconda3/lib/python3.7/site-packages/ipykernel_launcher.py:48: DeprecationWarning: The default dtype for empty Series will be 'object' instead of 'float64' in a future version. Specify a dtype explicitly to silence this warning.\n",
      "127.0.0.1 - - [26/Jan/2021 17:16:24] \"\u001b[37mGET /recommendations?userId=A9&city=OAK HTTP/1.1\u001b[0m\" 200 -\n",
      "INFO:werkzeug:127.0.0.1 - - [26/Jan/2021 17:16:24] \"\u001b[37mGET /recommendations?userId=A9&city=OAK HTTP/1.1\u001b[0m\" 200 -\n"
     ]
    },
    {
     "name": "stdout",
     "output_type": "stream",
     "text": [
      "['hiking', 'camping', 'trekking']\n"
     ]
    },
    {
     "name": "stderr",
     "output_type": "stream",
     "text": [
      "/Users/a0s00x0/opt/anaconda3/lib/python3.7/site-packages/ipykernel_launcher.py:48: DeprecationWarning: The default dtype for empty Series will be 'object' instead of 'float64' in a future version. Specify a dtype explicitly to silence this warning.\n",
      "127.0.0.1 - - [26/Jan/2021 17:16:25] \"\u001b[37mGET /recommendations?userId=A9&city=OAK HTTP/1.1\u001b[0m\" 200 -\n",
      "INFO:werkzeug:127.0.0.1 - - [26/Jan/2021 17:16:25] \"\u001b[37mGET /recommendations?userId=A9&city=OAK HTTP/1.1\u001b[0m\" 200 -\n"
     ]
    },
    {
     "name": "stdout",
     "output_type": "stream",
     "text": [
      "['hiking', 'camping', 'trekking']\n"
     ]
    },
    {
     "name": "stderr",
     "output_type": "stream",
     "text": [
      "/Users/a0s00x0/opt/anaconda3/lib/python3.7/site-packages/ipykernel_launcher.py:48: DeprecationWarning: The default dtype for empty Series will be 'object' instead of 'float64' in a future version. Specify a dtype explicitly to silence this warning.\n",
      "127.0.0.1 - - [26/Jan/2021 17:16:25] \"\u001b[37mGET /recommendations?userId=A9&city=OAK HTTP/1.1\u001b[0m\" 200 -\n",
      "INFO:werkzeug:127.0.0.1 - - [26/Jan/2021 17:16:25] \"\u001b[37mGET /recommendations?userId=A9&city=OAK HTTP/1.1\u001b[0m\" 200 -\n",
      "127.0.0.1 - - [26/Jan/2021 17:16:25] \"\u001b[37mOPTIONS /recommendations?userId=A9&city=OAK HTTP/1.1\u001b[0m\" 200 -\n",
      "INFO:werkzeug:127.0.0.1 - - [26/Jan/2021 17:16:25] \"\u001b[37mOPTIONS /recommendations?userId=A9&city=OAK HTTP/1.1\u001b[0m\" 200 -\n",
      "127.0.0.1 - - [26/Jan/2021 17:16:25] \"\u001b[37mOPTIONS /recommendations?userId=A9&city=OAK HTTP/1.1\u001b[0m\" 200 -\n",
      "INFO:werkzeug:127.0.0.1 - - [26/Jan/2021 17:16:25] \"\u001b[37mOPTIONS /recommendations?userId=A9&city=OAK HTTP/1.1\u001b[0m\" 200 -\n"
     ]
    },
    {
     "name": "stdout",
     "output_type": "stream",
     "text": [
      "['hiking', 'camping', 'trekking']\n"
     ]
    },
    {
     "name": "stderr",
     "output_type": "stream",
     "text": [
      "/Users/a0s00x0/opt/anaconda3/lib/python3.7/site-packages/ipykernel_launcher.py:48: DeprecationWarning: The default dtype for empty Series will be 'object' instead of 'float64' in a future version. Specify a dtype explicitly to silence this warning.\n",
      "127.0.0.1 - - [26/Jan/2021 17:16:26] \"\u001b[37mGET /recommendations?userId=A9&city=OAK HTTP/1.1\u001b[0m\" 200 -\n",
      "INFO:werkzeug:127.0.0.1 - - [26/Jan/2021 17:16:26] \"\u001b[37mGET /recommendations?userId=A9&city=OAK HTTP/1.1\u001b[0m\" 200 -\n"
     ]
    },
    {
     "name": "stdout",
     "output_type": "stream",
     "text": [
      "['hiking', 'camping', 'trekking']\n"
     ]
    },
    {
     "name": "stderr",
     "output_type": "stream",
     "text": [
      "/Users/a0s00x0/opt/anaconda3/lib/python3.7/site-packages/ipykernel_launcher.py:48: DeprecationWarning: The default dtype for empty Series will be 'object' instead of 'float64' in a future version. Specify a dtype explicitly to silence this warning.\n",
      "127.0.0.1 - - [26/Jan/2021 17:16:26] \"\u001b[37mGET /recommendations?userId=A9&city=OAK HTTP/1.1\u001b[0m\" 200 -\n",
      "INFO:werkzeug:127.0.0.1 - - [26/Jan/2021 17:16:26] \"\u001b[37mGET /recommendations?userId=A9&city=OAK HTTP/1.1\u001b[0m\" 200 -\n"
     ]
    },
    {
     "name": "stdout",
     "output_type": "stream",
     "text": [
      "['hiking', 'camping', 'trekking']\n"
     ]
    },
    {
     "name": "stderr",
     "output_type": "stream",
     "text": [
      "/Users/a0s00x0/opt/anaconda3/lib/python3.7/site-packages/ipykernel_launcher.py:48: DeprecationWarning: The default dtype for empty Series will be 'object' instead of 'float64' in a future version. Specify a dtype explicitly to silence this warning.\n",
      "127.0.0.1 - - [26/Jan/2021 17:16:27] \"\u001b[37mGET /recommendations?userId=A9&city=OAK HTTP/1.1\u001b[0m\" 200 -\n",
      "INFO:werkzeug:127.0.0.1 - - [26/Jan/2021 17:16:27] \"\u001b[37mGET /recommendations?userId=A9&city=OAK HTTP/1.1\u001b[0m\" 200 -\n"
     ]
    },
    {
     "name": "stdout",
     "output_type": "stream",
     "text": [
      "['hiking', 'camping', 'trekking']\n"
     ]
    },
    {
     "name": "stderr",
     "output_type": "stream",
     "text": [
      "/Users/a0s00x0/opt/anaconda3/lib/python3.7/site-packages/ipykernel_launcher.py:48: DeprecationWarning: The default dtype for empty Series will be 'object' instead of 'float64' in a future version. Specify a dtype explicitly to silence this warning.\n",
      "127.0.0.1 - - [26/Jan/2021 17:16:27] \"\u001b[37mGET /recommendations?userId=A9&city=OAK HTTP/1.1\u001b[0m\" 200 -\n",
      "INFO:werkzeug:127.0.0.1 - - [26/Jan/2021 17:16:27] \"\u001b[37mGET /recommendations?userId=A9&city=OAK HTTP/1.1\u001b[0m\" 200 -\n"
     ]
    },
    {
     "name": "stdout",
     "output_type": "stream",
     "text": [
      "['hiking', 'camping', 'trekking']\n"
     ]
    },
    {
     "name": "stderr",
     "output_type": "stream",
     "text": [
      "/Users/a0s00x0/opt/anaconda3/lib/python3.7/site-packages/ipykernel_launcher.py:48: DeprecationWarning: The default dtype for empty Series will be 'object' instead of 'float64' in a future version. Specify a dtype explicitly to silence this warning.\n",
      "127.0.0.1 - - [26/Jan/2021 17:16:28] \"\u001b[37mGET /recommendations?userId=A9&city=OAK HTTP/1.1\u001b[0m\" 200 -\n",
      "INFO:werkzeug:127.0.0.1 - - [26/Jan/2021 17:16:28] \"\u001b[37mGET /recommendations?userId=A9&city=OAK HTTP/1.1\u001b[0m\" 200 -\n"
     ]
    },
    {
     "name": "stdout",
     "output_type": "stream",
     "text": [
      "['hiking', 'camping', 'trekking']\n"
     ]
    },
    {
     "name": "stderr",
     "output_type": "stream",
     "text": [
      "/Users/a0s00x0/opt/anaconda3/lib/python3.7/site-packages/ipykernel_launcher.py:48: DeprecationWarning: The default dtype for empty Series will be 'object' instead of 'float64' in a future version. Specify a dtype explicitly to silence this warning.\n",
      "127.0.0.1 - - [26/Jan/2021 17:16:28] \"\u001b[37mGET /recommendations?userId=A9&city=OAK HTTP/1.1\u001b[0m\" 200 -\n",
      "INFO:werkzeug:127.0.0.1 - - [26/Jan/2021 17:16:28] \"\u001b[37mGET /recommendations?userId=A9&city=OAK HTTP/1.1\u001b[0m\" 200 -\n"
     ]
    },
    {
     "name": "stdout",
     "output_type": "stream",
     "text": [
      "['hiking', 'camping', 'trekking']\n"
     ]
    },
    {
     "name": "stderr",
     "output_type": "stream",
     "text": [
      "/Users/a0s00x0/opt/anaconda3/lib/python3.7/site-packages/ipykernel_launcher.py:48: DeprecationWarning: The default dtype for empty Series will be 'object' instead of 'float64' in a future version. Specify a dtype explicitly to silence this warning.\n",
      "127.0.0.1 - - [26/Jan/2021 17:16:29] \"\u001b[37mGET /recommendations?userId=A9&city=OAK HTTP/1.1\u001b[0m\" 200 -\n",
      "INFO:werkzeug:127.0.0.1 - - [26/Jan/2021 17:16:29] \"\u001b[37mGET /recommendations?userId=A9&city=OAK HTTP/1.1\u001b[0m\" 200 -\n"
     ]
    },
    {
     "name": "stdout",
     "output_type": "stream",
     "text": [
      "['hiking', 'camping', 'trekking']\n"
     ]
    },
    {
     "name": "stderr",
     "output_type": "stream",
     "text": [
      "/Users/a0s00x0/opt/anaconda3/lib/python3.7/site-packages/ipykernel_launcher.py:48: DeprecationWarning: The default dtype for empty Series will be 'object' instead of 'float64' in a future version. Specify a dtype explicitly to silence this warning.\n",
      "127.0.0.1 - - [26/Jan/2021 17:16:29] \"\u001b[37mGET /recommendations?userId=A9&city=OAK HTTP/1.1\u001b[0m\" 200 -\n",
      "INFO:werkzeug:127.0.0.1 - - [26/Jan/2021 17:16:29] \"\u001b[37mGET /recommendations?userId=A9&city=OAK HTTP/1.1\u001b[0m\" 200 -\n"
     ]
    },
    {
     "name": "stdout",
     "output_type": "stream",
     "text": [
      "['hiking', 'camping', 'trekking']\n"
     ]
    },
    {
     "name": "stderr",
     "output_type": "stream",
     "text": [
      "/Users/a0s00x0/opt/anaconda3/lib/python3.7/site-packages/ipykernel_launcher.py:48: DeprecationWarning: The default dtype for empty Series will be 'object' instead of 'float64' in a future version. Specify a dtype explicitly to silence this warning.\n",
      "127.0.0.1 - - [26/Jan/2021 17:16:30] \"\u001b[37mGET /recommendations?userId=A9&city=OAK HTTP/1.1\u001b[0m\" 200 -\n",
      "INFO:werkzeug:127.0.0.1 - - [26/Jan/2021 17:16:30] \"\u001b[37mGET /recommendations?userId=A9&city=OAK HTTP/1.1\u001b[0m\" 200 -\n"
     ]
    },
    {
     "name": "stdout",
     "output_type": "stream",
     "text": [
      "['hiking', 'camping', 'trekking']\n"
     ]
    },
    {
     "name": "stderr",
     "output_type": "stream",
     "text": [
      "/Users/a0s00x0/opt/anaconda3/lib/python3.7/site-packages/ipykernel_launcher.py:48: DeprecationWarning: The default dtype for empty Series will be 'object' instead of 'float64' in a future version. Specify a dtype explicitly to silence this warning.\n",
      "127.0.0.1 - - [26/Jan/2021 17:16:30] \"\u001b[37mGET /recommendations?userId=A9&city=OAK HTTP/1.1\u001b[0m\" 200 -\n",
      "INFO:werkzeug:127.0.0.1 - - [26/Jan/2021 17:16:30] \"\u001b[37mGET /recommendations?userId=A9&city=OAK HTTP/1.1\u001b[0m\" 200 -\n"
     ]
    },
    {
     "name": "stdout",
     "output_type": "stream",
     "text": [
      "['hiking', 'camping', 'trekking']\n"
     ]
    },
    {
     "name": "stderr",
     "output_type": "stream",
     "text": [
      "/Users/a0s00x0/opt/anaconda3/lib/python3.7/site-packages/ipykernel_launcher.py:48: DeprecationWarning: The default dtype for empty Series will be 'object' instead of 'float64' in a future version. Specify a dtype explicitly to silence this warning.\n",
      "127.0.0.1 - - [26/Jan/2021 17:16:31] \"\u001b[37mGET /recommendations?userId=A9&city=OAK HTTP/1.1\u001b[0m\" 200 -\n",
      "INFO:werkzeug:127.0.0.1 - - [26/Jan/2021 17:16:31] \"\u001b[37mGET /recommendations?userId=A9&city=OAK HTTP/1.1\u001b[0m\" 200 -\n",
      "127.0.0.1 - - [26/Jan/2021 17:16:31] \"\u001b[37mOPTIONS /recommendations?userId=A9&city=OAK HTTP/1.1\u001b[0m\" 200 -\n",
      "INFO:werkzeug:127.0.0.1 - - [26/Jan/2021 17:16:31] \"\u001b[37mOPTIONS /recommendations?userId=A9&city=OAK HTTP/1.1\u001b[0m\" 200 -\n",
      "127.0.0.1 - - [26/Jan/2021 17:16:31] \"\u001b[37mOPTIONS /recommendations?userId=A9&city=OAK HTTP/1.1\u001b[0m\" 200 -\n",
      "INFO:werkzeug:127.0.0.1 - - [26/Jan/2021 17:16:31] \"\u001b[37mOPTIONS /recommendations?userId=A9&city=OAK HTTP/1.1\u001b[0m\" 200 -\n"
     ]
    },
    {
     "name": "stdout",
     "output_type": "stream",
     "text": [
      "['hiking', 'camping', 'trekking']\n"
     ]
    },
    {
     "name": "stderr",
     "output_type": "stream",
     "text": [
      "/Users/a0s00x0/opt/anaconda3/lib/python3.7/site-packages/ipykernel_launcher.py:48: DeprecationWarning: The default dtype for empty Series will be 'object' instead of 'float64' in a future version. Specify a dtype explicitly to silence this warning.\n",
      "127.0.0.1 - - [26/Jan/2021 17:16:31] \"\u001b[37mGET /recommendations?userId=A9&city=OAK HTTP/1.1\u001b[0m\" 200 -\n",
      "INFO:werkzeug:127.0.0.1 - - [26/Jan/2021 17:16:31] \"\u001b[37mGET /recommendations?userId=A9&city=OAK HTTP/1.1\u001b[0m\" 200 -\n"
     ]
    },
    {
     "name": "stdout",
     "output_type": "stream",
     "text": [
      "['hiking', 'camping', 'trekking']\n"
     ]
    },
    {
     "name": "stderr",
     "output_type": "stream",
     "text": [
      "/Users/a0s00x0/opt/anaconda3/lib/python3.7/site-packages/ipykernel_launcher.py:48: DeprecationWarning: The default dtype for empty Series will be 'object' instead of 'float64' in a future version. Specify a dtype explicitly to silence this warning.\n",
      "127.0.0.1 - - [26/Jan/2021 17:16:31] \"\u001b[37mGET /recommendations?userId=A9&city=OAK HTTP/1.1\u001b[0m\" 200 -\n",
      "INFO:werkzeug:127.0.0.1 - - [26/Jan/2021 17:16:31] \"\u001b[37mGET /recommendations?userId=A9&city=OAK HTTP/1.1\u001b[0m\" 200 -\n"
     ]
    },
    {
     "name": "stdout",
     "output_type": "stream",
     "text": [
      "['hiking', 'camping', 'trekking']\n"
     ]
    },
    {
     "name": "stderr",
     "output_type": "stream",
     "text": [
      "/Users/a0s00x0/opt/anaconda3/lib/python3.7/site-packages/ipykernel_launcher.py:48: DeprecationWarning: The default dtype for empty Series will be 'object' instead of 'float64' in a future version. Specify a dtype explicitly to silence this warning.\n",
      "127.0.0.1 - - [26/Jan/2021 17:16:32] \"\u001b[37mGET /recommendations?userId=A9&city=OAK HTTP/1.1\u001b[0m\" 200 -\n",
      "INFO:werkzeug:127.0.0.1 - - [26/Jan/2021 17:16:32] \"\u001b[37mGET /recommendations?userId=A9&city=OAK HTTP/1.1\u001b[0m\" 200 -\n"
     ]
    },
    {
     "name": "stdout",
     "output_type": "stream",
     "text": [
      "['hiking', 'camping', 'trekking']\n"
     ]
    },
    {
     "name": "stderr",
     "output_type": "stream",
     "text": [
      "/Users/a0s00x0/opt/anaconda3/lib/python3.7/site-packages/ipykernel_launcher.py:48: DeprecationWarning: The default dtype for empty Series will be 'object' instead of 'float64' in a future version. Specify a dtype explicitly to silence this warning.\n",
      "127.0.0.1 - - [26/Jan/2021 17:16:32] \"\u001b[37mGET /recommendations?userId=A9&city=OAK HTTP/1.1\u001b[0m\" 200 -\n",
      "INFO:werkzeug:127.0.0.1 - - [26/Jan/2021 17:16:32] \"\u001b[37mGET /recommendations?userId=A9&city=OAK HTTP/1.1\u001b[0m\" 200 -\n"
     ]
    },
    {
     "name": "stdout",
     "output_type": "stream",
     "text": [
      "['hiking', 'camping', 'trekking']\n"
     ]
    },
    {
     "name": "stderr",
     "output_type": "stream",
     "text": [
      "/Users/a0s00x0/opt/anaconda3/lib/python3.7/site-packages/ipykernel_launcher.py:48: DeprecationWarning: The default dtype for empty Series will be 'object' instead of 'float64' in a future version. Specify a dtype explicitly to silence this warning.\n",
      "127.0.0.1 - - [26/Jan/2021 17:16:33] \"\u001b[37mGET /recommendations?userId=A9&city=OAK HTTP/1.1\u001b[0m\" 200 -\n",
      "INFO:werkzeug:127.0.0.1 - - [26/Jan/2021 17:16:33] \"\u001b[37mGET /recommendations?userId=A9&city=OAK HTTP/1.1\u001b[0m\" 200 -\n"
     ]
    },
    {
     "name": "stdout",
     "output_type": "stream",
     "text": [
      "['hiking', 'camping', 'trekking']\n"
     ]
    },
    {
     "name": "stderr",
     "output_type": "stream",
     "text": [
      "/Users/a0s00x0/opt/anaconda3/lib/python3.7/site-packages/ipykernel_launcher.py:48: DeprecationWarning: The default dtype for empty Series will be 'object' instead of 'float64' in a future version. Specify a dtype explicitly to silence this warning.\n",
      "127.0.0.1 - - [26/Jan/2021 17:16:33] \"\u001b[37mGET /recommendations?userId=A9&city=OAK HTTP/1.1\u001b[0m\" 200 -\n",
      "INFO:werkzeug:127.0.0.1 - - [26/Jan/2021 17:16:33] \"\u001b[37mGET /recommendations?userId=A9&city=OAK HTTP/1.1\u001b[0m\" 200 -\n"
     ]
    },
    {
     "name": "stdout",
     "output_type": "stream",
     "text": [
      "['hiking', 'camping', 'trekking']\n"
     ]
    },
    {
     "name": "stderr",
     "output_type": "stream",
     "text": [
      "/Users/a0s00x0/opt/anaconda3/lib/python3.7/site-packages/ipykernel_launcher.py:48: DeprecationWarning: The default dtype for empty Series will be 'object' instead of 'float64' in a future version. Specify a dtype explicitly to silence this warning.\n",
      "127.0.0.1 - - [26/Jan/2021 17:16:34] \"\u001b[37mGET /recommendations?userId=A9&city=OAK HTTP/1.1\u001b[0m\" 200 -\n",
      "INFO:werkzeug:127.0.0.1 - - [26/Jan/2021 17:16:34] \"\u001b[37mGET /recommendations?userId=A9&city=OAK HTTP/1.1\u001b[0m\" 200 -\n"
     ]
    },
    {
     "name": "stdout",
     "output_type": "stream",
     "text": [
      "['hiking', 'camping', 'trekking']\n"
     ]
    },
    {
     "name": "stderr",
     "output_type": "stream",
     "text": [
      "/Users/a0s00x0/opt/anaconda3/lib/python3.7/site-packages/ipykernel_launcher.py:48: DeprecationWarning: The default dtype for empty Series will be 'object' instead of 'float64' in a future version. Specify a dtype explicitly to silence this warning.\n",
      "127.0.0.1 - - [26/Jan/2021 17:16:34] \"\u001b[37mGET /recommendations?userId=A9&city=OAK HTTP/1.1\u001b[0m\" 200 -\n",
      "INFO:werkzeug:127.0.0.1 - - [26/Jan/2021 17:16:34] \"\u001b[37mGET /recommendations?userId=A9&city=OAK HTTP/1.1\u001b[0m\" 200 -\n"
     ]
    },
    {
     "name": "stdout",
     "output_type": "stream",
     "text": [
      "['hiking', 'camping', 'trekking']\n"
     ]
    },
    {
     "name": "stderr",
     "output_type": "stream",
     "text": [
      "/Users/a0s00x0/opt/anaconda3/lib/python3.7/site-packages/ipykernel_launcher.py:48: DeprecationWarning: The default dtype for empty Series will be 'object' instead of 'float64' in a future version. Specify a dtype explicitly to silence this warning.\n",
      "127.0.0.1 - - [26/Jan/2021 17:16:35] \"\u001b[37mGET /recommendations?userId=A9&city=OAK HTTP/1.1\u001b[0m\" 200 -\n",
      "INFO:werkzeug:127.0.0.1 - - [26/Jan/2021 17:16:35] \"\u001b[37mGET /recommendations?userId=A9&city=OAK HTTP/1.1\u001b[0m\" 200 -\n"
     ]
    },
    {
     "name": "stdout",
     "output_type": "stream",
     "text": [
      "['hiking', 'camping', 'trekking']\n"
     ]
    },
    {
     "name": "stderr",
     "output_type": "stream",
     "text": [
      "/Users/a0s00x0/opt/anaconda3/lib/python3.7/site-packages/ipykernel_launcher.py:48: DeprecationWarning: The default dtype for empty Series will be 'object' instead of 'float64' in a future version. Specify a dtype explicitly to silence this warning.\n",
      "127.0.0.1 - - [26/Jan/2021 17:16:35] \"\u001b[37mGET /recommendations?userId=A9&city=OAK HTTP/1.1\u001b[0m\" 200 -\n",
      "INFO:werkzeug:127.0.0.1 - - [26/Jan/2021 17:16:35] \"\u001b[37mGET /recommendations?userId=A9&city=OAK HTTP/1.1\u001b[0m\" 200 -\n"
     ]
    },
    {
     "name": "stdout",
     "output_type": "stream",
     "text": [
      "['hiking', 'camping', 'trekking']\n"
     ]
    },
    {
     "name": "stderr",
     "output_type": "stream",
     "text": [
      "/Users/a0s00x0/opt/anaconda3/lib/python3.7/site-packages/ipykernel_launcher.py:48: DeprecationWarning: The default dtype for empty Series will be 'object' instead of 'float64' in a future version. Specify a dtype explicitly to silence this warning.\n",
      "127.0.0.1 - - [26/Jan/2021 17:16:36] \"\u001b[37mGET /recommendations?userId=A9&city=OAK HTTP/1.1\u001b[0m\" 200 -\n",
      "INFO:werkzeug:127.0.0.1 - - [26/Jan/2021 17:16:36] \"\u001b[37mGET /recommendations?userId=A9&city=OAK HTTP/1.1\u001b[0m\" 200 -\n"
     ]
    },
    {
     "name": "stdout",
     "output_type": "stream",
     "text": [
      "['hiking', 'camping', 'trekking']\n"
     ]
    },
    {
     "name": "stderr",
     "output_type": "stream",
     "text": [
      "/Users/a0s00x0/opt/anaconda3/lib/python3.7/site-packages/ipykernel_launcher.py:48: DeprecationWarning: The default dtype for empty Series will be 'object' instead of 'float64' in a future version. Specify a dtype explicitly to silence this warning.\n",
      "127.0.0.1 - - [26/Jan/2021 17:16:36] \"\u001b[37mGET /recommendations?userId=A9&city=OAK HTTP/1.1\u001b[0m\" 200 -\n",
      "INFO:werkzeug:127.0.0.1 - - [26/Jan/2021 17:16:36] \"\u001b[37mGET /recommendations?userId=A9&city=OAK HTTP/1.1\u001b[0m\" 200 -\n",
      "127.0.0.1 - - [26/Jan/2021 17:16:36] \"\u001b[37mOPTIONS /recommendations?userId=A9&city=OAK HTTP/1.1\u001b[0m\" 200 -\n",
      "INFO:werkzeug:127.0.0.1 - - [26/Jan/2021 17:16:36] \"\u001b[37mOPTIONS /recommendations?userId=A9&city=OAK HTTP/1.1\u001b[0m\" 200 -\n",
      "127.0.0.1 - - [26/Jan/2021 17:16:36] \"\u001b[37mOPTIONS /recommendations?userId=A9&city=OAK HTTP/1.1\u001b[0m\" 200 -\n",
      "INFO:werkzeug:127.0.0.1 - - [26/Jan/2021 17:16:36] \"\u001b[37mOPTIONS /recommendations?userId=A9&city=OAK HTTP/1.1\u001b[0m\" 200 -\n"
     ]
    },
    {
     "name": "stdout",
     "output_type": "stream",
     "text": [
      "['hiking', 'camping', 'trekking']\n"
     ]
    },
    {
     "name": "stderr",
     "output_type": "stream",
     "text": [
      "/Users/a0s00x0/opt/anaconda3/lib/python3.7/site-packages/ipykernel_launcher.py:48: DeprecationWarning: The default dtype for empty Series will be 'object' instead of 'float64' in a future version. Specify a dtype explicitly to silence this warning.\n",
      "127.0.0.1 - - [26/Jan/2021 17:16:37] \"\u001b[37mGET /recommendations?userId=A9&city=OAK HTTP/1.1\u001b[0m\" 200 -\n",
      "INFO:werkzeug:127.0.0.1 - - [26/Jan/2021 17:16:37] \"\u001b[37mGET /recommendations?userId=A9&city=OAK HTTP/1.1\u001b[0m\" 200 -\n"
     ]
    },
    {
     "name": "stdout",
     "output_type": "stream",
     "text": [
      "['hiking', 'camping', 'trekking']\n"
     ]
    },
    {
     "name": "stderr",
     "output_type": "stream",
     "text": [
      "/Users/a0s00x0/opt/anaconda3/lib/python3.7/site-packages/ipykernel_launcher.py:48: DeprecationWarning: The default dtype for empty Series will be 'object' instead of 'float64' in a future version. Specify a dtype explicitly to silence this warning.\n",
      "127.0.0.1 - - [26/Jan/2021 17:16:37] \"\u001b[37mGET /recommendations?userId=A9&city=OAK HTTP/1.1\u001b[0m\" 200 -\n",
      "INFO:werkzeug:127.0.0.1 - - [26/Jan/2021 17:16:37] \"\u001b[37mGET /recommendations?userId=A9&city=OAK HTTP/1.1\u001b[0m\" 200 -\n"
     ]
    },
    {
     "name": "stdout",
     "output_type": "stream",
     "text": [
      "['hiking', 'camping', 'trekking']\n"
     ]
    },
    {
     "name": "stderr",
     "output_type": "stream",
     "text": [
      "/Users/a0s00x0/opt/anaconda3/lib/python3.7/site-packages/ipykernel_launcher.py:48: DeprecationWarning: The default dtype for empty Series will be 'object' instead of 'float64' in a future version. Specify a dtype explicitly to silence this warning.\n",
      "127.0.0.1 - - [26/Jan/2021 17:16:37] \"\u001b[37mGET /recommendations?userId=A9&city=OAK HTTP/1.1\u001b[0m\" 200 -\n",
      "INFO:werkzeug:127.0.0.1 - - [26/Jan/2021 17:16:37] \"\u001b[37mGET /recommendations?userId=A9&city=OAK HTTP/1.1\u001b[0m\" 200 -\n"
     ]
    },
    {
     "name": "stdout",
     "output_type": "stream",
     "text": [
      "['hiking', 'camping', 'trekking']\n"
     ]
    },
    {
     "name": "stderr",
     "output_type": "stream",
     "text": [
      "/Users/a0s00x0/opt/anaconda3/lib/python3.7/site-packages/ipykernel_launcher.py:48: DeprecationWarning: The default dtype for empty Series will be 'object' instead of 'float64' in a future version. Specify a dtype explicitly to silence this warning.\n",
      "127.0.0.1 - - [26/Jan/2021 17:16:38] \"\u001b[37mGET /recommendations?userId=A9&city=OAK HTTP/1.1\u001b[0m\" 200 -\n",
      "INFO:werkzeug:127.0.0.1 - - [26/Jan/2021 17:16:38] \"\u001b[37mGET /recommendations?userId=A9&city=OAK HTTP/1.1\u001b[0m\" 200 -\n"
     ]
    },
    {
     "name": "stdout",
     "output_type": "stream",
     "text": [
      "['hiking', 'camping', 'trekking']\n"
     ]
    },
    {
     "name": "stderr",
     "output_type": "stream",
     "text": [
      "/Users/a0s00x0/opt/anaconda3/lib/python3.7/site-packages/ipykernel_launcher.py:48: DeprecationWarning: The default dtype for empty Series will be 'object' instead of 'float64' in a future version. Specify a dtype explicitly to silence this warning.\n",
      "127.0.0.1 - - [26/Jan/2021 17:16:38] \"\u001b[37mGET /recommendations?userId=A9&city=OAK HTTP/1.1\u001b[0m\" 200 -\n",
      "INFO:werkzeug:127.0.0.1 - - [26/Jan/2021 17:16:38] \"\u001b[37mGET /recommendations?userId=A9&city=OAK HTTP/1.1\u001b[0m\" 200 -\n"
     ]
    },
    {
     "name": "stdout",
     "output_type": "stream",
     "text": [
      "['hiking', 'camping', 'trekking']\n"
     ]
    },
    {
     "name": "stderr",
     "output_type": "stream",
     "text": [
      "/Users/a0s00x0/opt/anaconda3/lib/python3.7/site-packages/ipykernel_launcher.py:48: DeprecationWarning: The default dtype for empty Series will be 'object' instead of 'float64' in a future version. Specify a dtype explicitly to silence this warning.\n",
      "127.0.0.1 - - [26/Jan/2021 17:16:39] \"\u001b[37mGET /recommendations?userId=A9&city=OAK HTTP/1.1\u001b[0m\" 200 -\n",
      "INFO:werkzeug:127.0.0.1 - - [26/Jan/2021 17:16:39] \"\u001b[37mGET /recommendations?userId=A9&city=OAK HTTP/1.1\u001b[0m\" 200 -\n"
     ]
    },
    {
     "name": "stdout",
     "output_type": "stream",
     "text": [
      "['hiking', 'camping', 'trekking']\n"
     ]
    },
    {
     "name": "stderr",
     "output_type": "stream",
     "text": [
      "/Users/a0s00x0/opt/anaconda3/lib/python3.7/site-packages/ipykernel_launcher.py:48: DeprecationWarning: The default dtype for empty Series will be 'object' instead of 'float64' in a future version. Specify a dtype explicitly to silence this warning.\n",
      "127.0.0.1 - - [26/Jan/2021 17:16:39] \"\u001b[37mGET /recommendations?userId=A9&city=OAK HTTP/1.1\u001b[0m\" 200 -\n",
      "INFO:werkzeug:127.0.0.1 - - [26/Jan/2021 17:16:39] \"\u001b[37mGET /recommendations?userId=A9&city=OAK HTTP/1.1\u001b[0m\" 200 -\n"
     ]
    },
    {
     "name": "stdout",
     "output_type": "stream",
     "text": [
      "['hiking', 'camping', 'trekking']\n"
     ]
    },
    {
     "name": "stderr",
     "output_type": "stream",
     "text": [
      "/Users/a0s00x0/opt/anaconda3/lib/python3.7/site-packages/ipykernel_launcher.py:48: DeprecationWarning: The default dtype for empty Series will be 'object' instead of 'float64' in a future version. Specify a dtype explicitly to silence this warning.\n",
      "127.0.0.1 - - [26/Jan/2021 17:16:40] \"\u001b[37mGET /recommendations?userId=A9&city=OAK HTTP/1.1\u001b[0m\" 200 -\n",
      "INFO:werkzeug:127.0.0.1 - - [26/Jan/2021 17:16:40] \"\u001b[37mGET /recommendations?userId=A9&city=OAK HTTP/1.1\u001b[0m\" 200 -\n"
     ]
    },
    {
     "name": "stdout",
     "output_type": "stream",
     "text": [
      "['hiking', 'camping', 'trekking']\n"
     ]
    },
    {
     "name": "stderr",
     "output_type": "stream",
     "text": [
      "/Users/a0s00x0/opt/anaconda3/lib/python3.7/site-packages/ipykernel_launcher.py:48: DeprecationWarning: The default dtype for empty Series will be 'object' instead of 'float64' in a future version. Specify a dtype explicitly to silence this warning.\n",
      "127.0.0.1 - - [26/Jan/2021 17:16:40] \"\u001b[37mGET /recommendations?userId=A9&city=OAK HTTP/1.1\u001b[0m\" 200 -\n",
      "INFO:werkzeug:127.0.0.1 - - [26/Jan/2021 17:16:40] \"\u001b[37mGET /recommendations?userId=A9&city=OAK HTTP/1.1\u001b[0m\" 200 -\n"
     ]
    },
    {
     "name": "stdout",
     "output_type": "stream",
     "text": [
      "['hiking', 'camping', 'trekking']\n"
     ]
    },
    {
     "name": "stderr",
     "output_type": "stream",
     "text": [
      "/Users/a0s00x0/opt/anaconda3/lib/python3.7/site-packages/ipykernel_launcher.py:48: DeprecationWarning: The default dtype for empty Series will be 'object' instead of 'float64' in a future version. Specify a dtype explicitly to silence this warning.\n",
      "127.0.0.1 - - [26/Jan/2021 17:16:41] \"\u001b[37mGET /recommendations?userId=A9&city=OAK HTTP/1.1\u001b[0m\" 200 -\n",
      "INFO:werkzeug:127.0.0.1 - - [26/Jan/2021 17:16:41] \"\u001b[37mGET /recommendations?userId=A9&city=OAK HTTP/1.1\u001b[0m\" 200 -\n"
     ]
    },
    {
     "name": "stdout",
     "output_type": "stream",
     "text": [
      "['hiking', 'camping', 'trekking']\n"
     ]
    },
    {
     "name": "stderr",
     "output_type": "stream",
     "text": [
      "/Users/a0s00x0/opt/anaconda3/lib/python3.7/site-packages/ipykernel_launcher.py:48: DeprecationWarning: The default dtype for empty Series will be 'object' instead of 'float64' in a future version. Specify a dtype explicitly to silence this warning.\n",
      "127.0.0.1 - - [26/Jan/2021 17:16:41] \"\u001b[37mGET /recommendations?userId=A9&city=OAK HTTP/1.1\u001b[0m\" 200 -\n",
      "INFO:werkzeug:127.0.0.1 - - [26/Jan/2021 17:16:41] \"\u001b[37mGET /recommendations?userId=A9&city=OAK HTTP/1.1\u001b[0m\" 200 -\n"
     ]
    },
    {
     "name": "stdout",
     "output_type": "stream",
     "text": [
      "['hiking', 'camping', 'trekking']\n"
     ]
    },
    {
     "name": "stderr",
     "output_type": "stream",
     "text": [
      "/Users/a0s00x0/opt/anaconda3/lib/python3.7/site-packages/ipykernel_launcher.py:48: DeprecationWarning: The default dtype for empty Series will be 'object' instead of 'float64' in a future version. Specify a dtype explicitly to silence this warning.\n",
      "127.0.0.1 - - [26/Jan/2021 17:16:42] \"\u001b[37mGET /recommendations?userId=A9&city=OAK HTTP/1.1\u001b[0m\" 200 -\n",
      "INFO:werkzeug:127.0.0.1 - - [26/Jan/2021 17:16:42] \"\u001b[37mGET /recommendations?userId=A9&city=OAK HTTP/1.1\u001b[0m\" 200 -\n",
      "127.0.0.1 - - [26/Jan/2021 17:16:42] \"\u001b[37mOPTIONS /recommendations?userId=A9&city=OAK HTTP/1.1\u001b[0m\" 200 -\n",
      "INFO:werkzeug:127.0.0.1 - - [26/Jan/2021 17:16:42] \"\u001b[37mOPTIONS /recommendations?userId=A9&city=OAK HTTP/1.1\u001b[0m\" 200 -\n",
      "127.0.0.1 - - [26/Jan/2021 17:16:42] \"\u001b[37mOPTIONS /recommendations?userId=A9&city=OAK HTTP/1.1\u001b[0m\" 200 -\n",
      "INFO:werkzeug:127.0.0.1 - - [26/Jan/2021 17:16:42] \"\u001b[37mOPTIONS /recommendations?userId=A9&city=OAK HTTP/1.1\u001b[0m\" 200 -\n"
     ]
    },
    {
     "name": "stdout",
     "output_type": "stream",
     "text": [
      "['hiking', 'camping', 'trekking']\n"
     ]
    },
    {
     "name": "stderr",
     "output_type": "stream",
     "text": [
      "/Users/a0s00x0/opt/anaconda3/lib/python3.7/site-packages/ipykernel_launcher.py:48: DeprecationWarning: The default dtype for empty Series will be 'object' instead of 'float64' in a future version. Specify a dtype explicitly to silence this warning.\n",
      "127.0.0.1 - - [26/Jan/2021 17:16:42] \"\u001b[37mGET /recommendations?userId=A9&city=OAK HTTP/1.1\u001b[0m\" 200 -\n",
      "INFO:werkzeug:127.0.0.1 - - [26/Jan/2021 17:16:42] \"\u001b[37mGET /recommendations?userId=A9&city=OAK HTTP/1.1\u001b[0m\" 200 -\n"
     ]
    },
    {
     "name": "stdout",
     "output_type": "stream",
     "text": [
      "['hiking', 'camping', 'trekking']\n"
     ]
    },
    {
     "name": "stderr",
     "output_type": "stream",
     "text": [
      "/Users/a0s00x0/opt/anaconda3/lib/python3.7/site-packages/ipykernel_launcher.py:48: DeprecationWarning: The default dtype for empty Series will be 'object' instead of 'float64' in a future version. Specify a dtype explicitly to silence this warning.\n",
      "127.0.0.1 - - [26/Jan/2021 17:16:43] \"\u001b[37mGET /recommendations?userId=A9&city=OAK HTTP/1.1\u001b[0m\" 200 -\n",
      "INFO:werkzeug:127.0.0.1 - - [26/Jan/2021 17:16:43] \"\u001b[37mGET /recommendations?userId=A9&city=OAK HTTP/1.1\u001b[0m\" 200 -\n"
     ]
    },
    {
     "name": "stdout",
     "output_type": "stream",
     "text": [
      "['hiking', 'camping', 'trekking']\n"
     ]
    },
    {
     "name": "stderr",
     "output_type": "stream",
     "text": [
      "/Users/a0s00x0/opt/anaconda3/lib/python3.7/site-packages/ipykernel_launcher.py:48: DeprecationWarning: The default dtype for empty Series will be 'object' instead of 'float64' in a future version. Specify a dtype explicitly to silence this warning.\n",
      "127.0.0.1 - - [26/Jan/2021 17:16:43] \"\u001b[37mGET /recommendations?userId=A9&city=OAK HTTP/1.1\u001b[0m\" 200 -\n",
      "INFO:werkzeug:127.0.0.1 - - [26/Jan/2021 17:16:43] \"\u001b[37mGET /recommendations?userId=A9&city=OAK HTTP/1.1\u001b[0m\" 200 -\n"
     ]
    },
    {
     "name": "stdout",
     "output_type": "stream",
     "text": [
      "['hiking', 'camping', 'trekking']\n"
     ]
    },
    {
     "name": "stderr",
     "output_type": "stream",
     "text": [
      "/Users/a0s00x0/opt/anaconda3/lib/python3.7/site-packages/ipykernel_launcher.py:48: DeprecationWarning: The default dtype for empty Series will be 'object' instead of 'float64' in a future version. Specify a dtype explicitly to silence this warning.\n",
      "127.0.0.1 - - [26/Jan/2021 17:16:44] \"\u001b[37mGET /recommendations?userId=A9&city=OAK HTTP/1.1\u001b[0m\" 200 -\n",
      "INFO:werkzeug:127.0.0.1 - - [26/Jan/2021 17:16:44] \"\u001b[37mGET /recommendations?userId=A9&city=OAK HTTP/1.1\u001b[0m\" 200 -\n"
     ]
    },
    {
     "name": "stdout",
     "output_type": "stream",
     "text": [
      "['hiking', 'camping', 'trekking']\n"
     ]
    },
    {
     "name": "stderr",
     "output_type": "stream",
     "text": [
      "/Users/a0s00x0/opt/anaconda3/lib/python3.7/site-packages/ipykernel_launcher.py:48: DeprecationWarning: The default dtype for empty Series will be 'object' instead of 'float64' in a future version. Specify a dtype explicitly to silence this warning.\n",
      "127.0.0.1 - - [26/Jan/2021 17:16:44] \"\u001b[37mGET /recommendations?userId=A9&city=OAK HTTP/1.1\u001b[0m\" 200 -\n",
      "INFO:werkzeug:127.0.0.1 - - [26/Jan/2021 17:16:44] \"\u001b[37mGET /recommendations?userId=A9&city=OAK HTTP/1.1\u001b[0m\" 200 -\n"
     ]
    },
    {
     "name": "stdout",
     "output_type": "stream",
     "text": [
      "['hiking', 'camping', 'trekking']\n"
     ]
    },
    {
     "name": "stderr",
     "output_type": "stream",
     "text": [
      "/Users/a0s00x0/opt/anaconda3/lib/python3.7/site-packages/ipykernel_launcher.py:48: DeprecationWarning: The default dtype for empty Series will be 'object' instead of 'float64' in a future version. Specify a dtype explicitly to silence this warning.\n",
      "127.0.0.1 - - [26/Jan/2021 17:16:45] \"\u001b[37mGET /recommendations?userId=A9&city=OAK HTTP/1.1\u001b[0m\" 200 -\n",
      "INFO:werkzeug:127.0.0.1 - - [26/Jan/2021 17:16:45] \"\u001b[37mGET /recommendations?userId=A9&city=OAK HTTP/1.1\u001b[0m\" 200 -\n"
     ]
    },
    {
     "name": "stdout",
     "output_type": "stream",
     "text": [
      "['hiking', 'camping', 'trekking']\n"
     ]
    },
    {
     "name": "stderr",
     "output_type": "stream",
     "text": [
      "/Users/a0s00x0/opt/anaconda3/lib/python3.7/site-packages/ipykernel_launcher.py:48: DeprecationWarning: The default dtype for empty Series will be 'object' instead of 'float64' in a future version. Specify a dtype explicitly to silence this warning.\n",
      "127.0.0.1 - - [26/Jan/2021 17:16:45] \"\u001b[37mGET /recommendations?userId=A9&city=OAK HTTP/1.1\u001b[0m\" 200 -\n",
      "INFO:werkzeug:127.0.0.1 - - [26/Jan/2021 17:16:45] \"\u001b[37mGET /recommendations?userId=A9&city=OAK HTTP/1.1\u001b[0m\" 200 -\n"
     ]
    },
    {
     "name": "stdout",
     "output_type": "stream",
     "text": [
      "['hiking', 'camping', 'trekking']\n"
     ]
    },
    {
     "name": "stderr",
     "output_type": "stream",
     "text": [
      "/Users/a0s00x0/opt/anaconda3/lib/python3.7/site-packages/ipykernel_launcher.py:48: DeprecationWarning: The default dtype for empty Series will be 'object' instead of 'float64' in a future version. Specify a dtype explicitly to silence this warning.\n",
      "127.0.0.1 - - [26/Jan/2021 17:16:46] \"\u001b[37mGET /recommendations?userId=A9&city=OAK HTTP/1.1\u001b[0m\" 200 -\n",
      "INFO:werkzeug:127.0.0.1 - - [26/Jan/2021 17:16:46] \"\u001b[37mGET /recommendations?userId=A9&city=OAK HTTP/1.1\u001b[0m\" 200 -\n"
     ]
    },
    {
     "name": "stdout",
     "output_type": "stream",
     "text": [
      "['hiking', 'camping', 'trekking']\n"
     ]
    },
    {
     "name": "stderr",
     "output_type": "stream",
     "text": [
      "/Users/a0s00x0/opt/anaconda3/lib/python3.7/site-packages/ipykernel_launcher.py:48: DeprecationWarning: The default dtype for empty Series will be 'object' instead of 'float64' in a future version. Specify a dtype explicitly to silence this warning.\n",
      "127.0.0.1 - - [26/Jan/2021 17:16:46] \"\u001b[37mGET /recommendations?userId=A9&city=OAK HTTP/1.1\u001b[0m\" 200 -\n",
      "INFO:werkzeug:127.0.0.1 - - [26/Jan/2021 17:16:46] \"\u001b[37mGET /recommendations?userId=A9&city=OAK HTTP/1.1\u001b[0m\" 200 -\n"
     ]
    },
    {
     "name": "stdout",
     "output_type": "stream",
     "text": [
      "['hiking', 'camping', 'trekking']\n"
     ]
    },
    {
     "name": "stderr",
     "output_type": "stream",
     "text": [
      "/Users/a0s00x0/opt/anaconda3/lib/python3.7/site-packages/ipykernel_launcher.py:48: DeprecationWarning: The default dtype for empty Series will be 'object' instead of 'float64' in a future version. Specify a dtype explicitly to silence this warning.\n",
      "127.0.0.1 - - [26/Jan/2021 17:16:47] \"\u001b[37mGET /recommendations?userId=A9&city=OAK HTTP/1.1\u001b[0m\" 200 -\n",
      "INFO:werkzeug:127.0.0.1 - - [26/Jan/2021 17:16:47] \"\u001b[37mGET /recommendations?userId=A9&city=OAK HTTP/1.1\u001b[0m\" 200 -\n"
     ]
    },
    {
     "name": "stdout",
     "output_type": "stream",
     "text": [
      "['hiking', 'camping', 'trekking']\n"
     ]
    },
    {
     "name": "stderr",
     "output_type": "stream",
     "text": [
      "/Users/a0s00x0/opt/anaconda3/lib/python3.7/site-packages/ipykernel_launcher.py:48: DeprecationWarning: The default dtype for empty Series will be 'object' instead of 'float64' in a future version. Specify a dtype explicitly to silence this warning.\n",
      "127.0.0.1 - - [26/Jan/2021 17:16:47] \"\u001b[37mGET /recommendations?userId=A9&city=OAK HTTP/1.1\u001b[0m\" 200 -\n",
      "INFO:werkzeug:127.0.0.1 - - [26/Jan/2021 17:16:47] \"\u001b[37mGET /recommendations?userId=A9&city=OAK HTTP/1.1\u001b[0m\" 200 -\n",
      "127.0.0.1 - - [26/Jan/2021 17:16:47] \"\u001b[37mOPTIONS /recommendations?userId=A9&city=OAK HTTP/1.1\u001b[0m\" 200 -\n",
      "INFO:werkzeug:127.0.0.1 - - [26/Jan/2021 17:16:47] \"\u001b[37mOPTIONS /recommendations?userId=A9&city=OAK HTTP/1.1\u001b[0m\" 200 -\n",
      "127.0.0.1 - - [26/Jan/2021 17:16:47] \"\u001b[37mOPTIONS /recommendations?userId=A9&city=OAK HTTP/1.1\u001b[0m\" 200 -\n",
      "INFO:werkzeug:127.0.0.1 - - [26/Jan/2021 17:16:47] \"\u001b[37mOPTIONS /recommendations?userId=A9&city=OAK HTTP/1.1\u001b[0m\" 200 -\n"
     ]
    },
    {
     "name": "stdout",
     "output_type": "stream",
     "text": [
      "['hiking', 'camping', 'trekking']\n"
     ]
    },
    {
     "name": "stderr",
     "output_type": "stream",
     "text": [
      "/Users/a0s00x0/opt/anaconda3/lib/python3.7/site-packages/ipykernel_launcher.py:48: DeprecationWarning: The default dtype for empty Series will be 'object' instead of 'float64' in a future version. Specify a dtype explicitly to silence this warning.\n",
      "127.0.0.1 - - [26/Jan/2021 17:16:48] \"\u001b[37mGET /recommendations?userId=A9&city=OAK HTTP/1.1\u001b[0m\" 200 -\n",
      "INFO:werkzeug:127.0.0.1 - - [26/Jan/2021 17:16:48] \"\u001b[37mGET /recommendations?userId=A9&city=OAK HTTP/1.1\u001b[0m\" 200 -\n"
     ]
    },
    {
     "name": "stdout",
     "output_type": "stream",
     "text": [
      "['hiking', 'camping', 'trekking']\n"
     ]
    },
    {
     "name": "stderr",
     "output_type": "stream",
     "text": [
      "/Users/a0s00x0/opt/anaconda3/lib/python3.7/site-packages/ipykernel_launcher.py:48: DeprecationWarning: The default dtype for empty Series will be 'object' instead of 'float64' in a future version. Specify a dtype explicitly to silence this warning.\n",
      "127.0.0.1 - - [26/Jan/2021 17:16:48] \"\u001b[37mGET /recommendations?userId=A9&city=OAK HTTP/1.1\u001b[0m\" 200 -\n",
      "INFO:werkzeug:127.0.0.1 - - [26/Jan/2021 17:16:48] \"\u001b[37mGET /recommendations?userId=A9&city=OAK HTTP/1.1\u001b[0m\" 200 -\n"
     ]
    },
    {
     "name": "stdout",
     "output_type": "stream",
     "text": [
      "['hiking', 'camping', 'trekking']\n"
     ]
    },
    {
     "name": "stderr",
     "output_type": "stream",
     "text": [
      "/Users/a0s00x0/opt/anaconda3/lib/python3.7/site-packages/ipykernel_launcher.py:48: DeprecationWarning: The default dtype for empty Series will be 'object' instead of 'float64' in a future version. Specify a dtype explicitly to silence this warning.\n",
      "127.0.0.1 - - [26/Jan/2021 17:16:49] \"\u001b[37mGET /recommendations?userId=A9&city=OAK HTTP/1.1\u001b[0m\" 200 -\n",
      "INFO:werkzeug:127.0.0.1 - - [26/Jan/2021 17:16:49] \"\u001b[37mGET /recommendations?userId=A9&city=OAK HTTP/1.1\u001b[0m\" 200 -\n"
     ]
    },
    {
     "name": "stdout",
     "output_type": "stream",
     "text": [
      "['hiking', 'camping', 'trekking']\n"
     ]
    },
    {
     "name": "stderr",
     "output_type": "stream",
     "text": [
      "/Users/a0s00x0/opt/anaconda3/lib/python3.7/site-packages/ipykernel_launcher.py:48: DeprecationWarning: The default dtype for empty Series will be 'object' instead of 'float64' in a future version. Specify a dtype explicitly to silence this warning.\n",
      "127.0.0.1 - - [26/Jan/2021 17:16:49] \"\u001b[37mGET /recommendations?userId=A9&city=OAK HTTP/1.1\u001b[0m\" 200 -\n",
      "INFO:werkzeug:127.0.0.1 - - [26/Jan/2021 17:16:49] \"\u001b[37mGET /recommendations?userId=A9&city=OAK HTTP/1.1\u001b[0m\" 200 -\n"
     ]
    },
    {
     "name": "stdout",
     "output_type": "stream",
     "text": [
      "['hiking', 'camping', 'trekking']\n"
     ]
    },
    {
     "name": "stderr",
     "output_type": "stream",
     "text": [
      "/Users/a0s00x0/opt/anaconda3/lib/python3.7/site-packages/ipykernel_launcher.py:48: DeprecationWarning: The default dtype for empty Series will be 'object' instead of 'float64' in a future version. Specify a dtype explicitly to silence this warning.\n",
      "127.0.0.1 - - [26/Jan/2021 17:16:50] \"\u001b[37mGET /recommendations?userId=A9&city=OAK HTTP/1.1\u001b[0m\" 200 -\n",
      "INFO:werkzeug:127.0.0.1 - - [26/Jan/2021 17:16:50] \"\u001b[37mGET /recommendations?userId=A9&city=OAK HTTP/1.1\u001b[0m\" 200 -\n"
     ]
    },
    {
     "name": "stdout",
     "output_type": "stream",
     "text": [
      "['hiking', 'camping', 'trekking']\n"
     ]
    },
    {
     "name": "stderr",
     "output_type": "stream",
     "text": [
      "/Users/a0s00x0/opt/anaconda3/lib/python3.7/site-packages/ipykernel_launcher.py:48: DeprecationWarning: The default dtype for empty Series will be 'object' instead of 'float64' in a future version. Specify a dtype explicitly to silence this warning.\n",
      "127.0.0.1 - - [26/Jan/2021 17:16:50] \"\u001b[37mGET /recommendations?userId=A9&city=OAK HTTP/1.1\u001b[0m\" 200 -\n",
      "INFO:werkzeug:127.0.0.1 - - [26/Jan/2021 17:16:50] \"\u001b[37mGET /recommendations?userId=A9&city=OAK HTTP/1.1\u001b[0m\" 200 -\n"
     ]
    },
    {
     "name": "stdout",
     "output_type": "stream",
     "text": [
      "['hiking', 'camping', 'trekking']\n"
     ]
    },
    {
     "name": "stderr",
     "output_type": "stream",
     "text": [
      "/Users/a0s00x0/opt/anaconda3/lib/python3.7/site-packages/ipykernel_launcher.py:48: DeprecationWarning: The default dtype for empty Series will be 'object' instead of 'float64' in a future version. Specify a dtype explicitly to silence this warning.\n",
      "127.0.0.1 - - [26/Jan/2021 17:16:51] \"\u001b[37mGET /recommendations?userId=A9&city=OAK HTTP/1.1\u001b[0m\" 200 -\n",
      "INFO:werkzeug:127.0.0.1 - - [26/Jan/2021 17:16:51] \"\u001b[37mGET /recommendations?userId=A9&city=OAK HTTP/1.1\u001b[0m\" 200 -\n"
     ]
    },
    {
     "name": "stdout",
     "output_type": "stream",
     "text": [
      "['hiking', 'camping', 'trekking']\n"
     ]
    },
    {
     "name": "stderr",
     "output_type": "stream",
     "text": [
      "/Users/a0s00x0/opt/anaconda3/lib/python3.7/site-packages/ipykernel_launcher.py:48: DeprecationWarning: The default dtype for empty Series will be 'object' instead of 'float64' in a future version. Specify a dtype explicitly to silence this warning.\n",
      "127.0.0.1 - - [26/Jan/2021 17:16:52] \"\u001b[37mGET /recommendations?userId=A9&city=OAK HTTP/1.1\u001b[0m\" 200 -\n",
      "INFO:werkzeug:127.0.0.1 - - [26/Jan/2021 17:16:52] \"\u001b[37mGET /recommendations?userId=A9&city=OAK HTTP/1.1\u001b[0m\" 200 -\n"
     ]
    },
    {
     "name": "stdout",
     "output_type": "stream",
     "text": [
      "['hiking', 'camping', 'trekking']\n"
     ]
    },
    {
     "name": "stderr",
     "output_type": "stream",
     "text": [
      "/Users/a0s00x0/opt/anaconda3/lib/python3.7/site-packages/ipykernel_launcher.py:48: DeprecationWarning: The default dtype for empty Series will be 'object' instead of 'float64' in a future version. Specify a dtype explicitly to silence this warning.\n",
      "127.0.0.1 - - [26/Jan/2021 17:16:52] \"\u001b[37mGET /recommendations?userId=A9&city=OAK HTTP/1.1\u001b[0m\" 200 -\n",
      "INFO:werkzeug:127.0.0.1 - - [26/Jan/2021 17:16:52] \"\u001b[37mGET /recommendations?userId=A9&city=OAK HTTP/1.1\u001b[0m\" 200 -\n"
     ]
    },
    {
     "name": "stdout",
     "output_type": "stream",
     "text": [
      "['hiking', 'camping', 'trekking']\n"
     ]
    },
    {
     "name": "stderr",
     "output_type": "stream",
     "text": [
      "/Users/a0s00x0/opt/anaconda3/lib/python3.7/site-packages/ipykernel_launcher.py:48: DeprecationWarning: The default dtype for empty Series will be 'object' instead of 'float64' in a future version. Specify a dtype explicitly to silence this warning.\n",
      "127.0.0.1 - - [26/Jan/2021 17:16:53] \"\u001b[37mGET /recommendations?userId=A9&city=OAK HTTP/1.1\u001b[0m\" 200 -\n",
      "INFO:werkzeug:127.0.0.1 - - [26/Jan/2021 17:16:53] \"\u001b[37mGET /recommendations?userId=A9&city=OAK HTTP/1.1\u001b[0m\" 200 -\n",
      "127.0.0.1 - - [26/Jan/2021 17:16:53] \"\u001b[37mOPTIONS /recommendations?userId=A9&city=OAK HTTP/1.1\u001b[0m\" 200 -\n",
      "INFO:werkzeug:127.0.0.1 - - [26/Jan/2021 17:16:53] \"\u001b[37mOPTIONS /recommendations?userId=A9&city=OAK HTTP/1.1\u001b[0m\" 200 -\n",
      "127.0.0.1 - - [26/Jan/2021 17:16:53] \"\u001b[37mOPTIONS /recommendations?userId=A9&city=OAK HTTP/1.1\u001b[0m\" 200 -\n",
      "INFO:werkzeug:127.0.0.1 - - [26/Jan/2021 17:16:53] \"\u001b[37mOPTIONS /recommendations?userId=A9&city=OAK HTTP/1.1\u001b[0m\" 200 -\n"
     ]
    },
    {
     "name": "stdout",
     "output_type": "stream",
     "text": [
      "['hiking', 'camping', 'trekking']\n"
     ]
    },
    {
     "name": "stderr",
     "output_type": "stream",
     "text": [
      "/Users/a0s00x0/opt/anaconda3/lib/python3.7/site-packages/ipykernel_launcher.py:48: DeprecationWarning: The default dtype for empty Series will be 'object' instead of 'float64' in a future version. Specify a dtype explicitly to silence this warning.\n",
      "127.0.0.1 - - [26/Jan/2021 17:16:53] \"\u001b[37mGET /recommendations?userId=A9&city=OAK HTTP/1.1\u001b[0m\" 200 -\n",
      "INFO:werkzeug:127.0.0.1 - - [26/Jan/2021 17:16:53] \"\u001b[37mGET /recommendations?userId=A9&city=OAK HTTP/1.1\u001b[0m\" 200 -\n"
     ]
    },
    {
     "name": "stdout",
     "output_type": "stream",
     "text": [
      "['hiking', 'camping', 'trekking']\n"
     ]
    },
    {
     "name": "stderr",
     "output_type": "stream",
     "text": [
      "/Users/a0s00x0/opt/anaconda3/lib/python3.7/site-packages/ipykernel_launcher.py:48: DeprecationWarning: The default dtype for empty Series will be 'object' instead of 'float64' in a future version. Specify a dtype explicitly to silence this warning.\n",
      "127.0.0.1 - - [26/Jan/2021 17:16:54] \"\u001b[37mGET /recommendations?userId=A9&city=OAK HTTP/1.1\u001b[0m\" 200 -\n",
      "INFO:werkzeug:127.0.0.1 - - [26/Jan/2021 17:16:54] \"\u001b[37mGET /recommendations?userId=A9&city=OAK HTTP/1.1\u001b[0m\" 200 -\n"
     ]
    },
    {
     "name": "stdout",
     "output_type": "stream",
     "text": [
      "['hiking', 'camping', 'trekking']\n"
     ]
    },
    {
     "name": "stderr",
     "output_type": "stream",
     "text": [
      "/Users/a0s00x0/opt/anaconda3/lib/python3.7/site-packages/ipykernel_launcher.py:48: DeprecationWarning: The default dtype for empty Series will be 'object' instead of 'float64' in a future version. Specify a dtype explicitly to silence this warning.\n",
      "127.0.0.1 - - [26/Jan/2021 17:16:54] \"\u001b[37mGET /recommendations?userId=A9&city=OAK HTTP/1.1\u001b[0m\" 200 -\n",
      "INFO:werkzeug:127.0.0.1 - - [26/Jan/2021 17:16:54] \"\u001b[37mGET /recommendations?userId=A9&city=OAK HTTP/1.1\u001b[0m\" 200 -\n"
     ]
    },
    {
     "name": "stdout",
     "output_type": "stream",
     "text": [
      "['hiking', 'camping', 'trekking']\n"
     ]
    },
    {
     "name": "stderr",
     "output_type": "stream",
     "text": [
      "/Users/a0s00x0/opt/anaconda3/lib/python3.7/site-packages/ipykernel_launcher.py:48: DeprecationWarning: The default dtype for empty Series will be 'object' instead of 'float64' in a future version. Specify a dtype explicitly to silence this warning.\n",
      "127.0.0.1 - - [26/Jan/2021 17:16:55] \"\u001b[37mGET /recommendations?userId=A9&city=OAK HTTP/1.1\u001b[0m\" 200 -\n",
      "INFO:werkzeug:127.0.0.1 - - [26/Jan/2021 17:16:55] \"\u001b[37mGET /recommendations?userId=A9&city=OAK HTTP/1.1\u001b[0m\" 200 -\n"
     ]
    },
    {
     "name": "stdout",
     "output_type": "stream",
     "text": [
      "['hiking', 'camping', 'trekking']\n"
     ]
    },
    {
     "name": "stderr",
     "output_type": "stream",
     "text": [
      "/Users/a0s00x0/opt/anaconda3/lib/python3.7/site-packages/ipykernel_launcher.py:48: DeprecationWarning: The default dtype for empty Series will be 'object' instead of 'float64' in a future version. Specify a dtype explicitly to silence this warning.\n",
      "127.0.0.1 - - [26/Jan/2021 17:16:55] \"\u001b[37mGET /recommendations?userId=A9&city=OAK HTTP/1.1\u001b[0m\" 200 -\n",
      "INFO:werkzeug:127.0.0.1 - - [26/Jan/2021 17:16:55] \"\u001b[37mGET /recommendations?userId=A9&city=OAK HTTP/1.1\u001b[0m\" 200 -\n"
     ]
    },
    {
     "name": "stdout",
     "output_type": "stream",
     "text": [
      "['hiking', 'camping', 'trekking']\n"
     ]
    },
    {
     "name": "stderr",
     "output_type": "stream",
     "text": [
      "/Users/a0s00x0/opt/anaconda3/lib/python3.7/site-packages/ipykernel_launcher.py:48: DeprecationWarning: The default dtype for empty Series will be 'object' instead of 'float64' in a future version. Specify a dtype explicitly to silence this warning.\n",
      "127.0.0.1 - - [26/Jan/2021 17:16:56] \"\u001b[37mGET /recommendations?userId=A9&city=OAK HTTP/1.1\u001b[0m\" 200 -\n",
      "INFO:werkzeug:127.0.0.1 - - [26/Jan/2021 17:16:56] \"\u001b[37mGET /recommendations?userId=A9&city=OAK HTTP/1.1\u001b[0m\" 200 -\n"
     ]
    },
    {
     "name": "stdout",
     "output_type": "stream",
     "text": [
      "['hiking', 'camping', 'trekking']\n"
     ]
    },
    {
     "name": "stderr",
     "output_type": "stream",
     "text": [
      "/Users/a0s00x0/opt/anaconda3/lib/python3.7/site-packages/ipykernel_launcher.py:48: DeprecationWarning: The default dtype for empty Series will be 'object' instead of 'float64' in a future version. Specify a dtype explicitly to silence this warning.\n",
      "127.0.0.1 - - [26/Jan/2021 17:16:57] \"\u001b[37mGET /recommendations?userId=A9&city=OAK HTTP/1.1\u001b[0m\" 200 -\n",
      "INFO:werkzeug:127.0.0.1 - - [26/Jan/2021 17:16:57] \"\u001b[37mGET /recommendations?userId=A9&city=OAK HTTP/1.1\u001b[0m\" 200 -\n"
     ]
    },
    {
     "name": "stdout",
     "output_type": "stream",
     "text": [
      "['hiking', 'camping', 'trekking']\n"
     ]
    },
    {
     "name": "stderr",
     "output_type": "stream",
     "text": [
      "/Users/a0s00x0/opt/anaconda3/lib/python3.7/site-packages/ipykernel_launcher.py:48: DeprecationWarning: The default dtype for empty Series will be 'object' instead of 'float64' in a future version. Specify a dtype explicitly to silence this warning.\n",
      "127.0.0.1 - - [26/Jan/2021 17:16:57] \"\u001b[37mGET /recommendations?userId=A9&city=OAK HTTP/1.1\u001b[0m\" 200 -\n",
      "INFO:werkzeug:127.0.0.1 - - [26/Jan/2021 17:16:57] \"\u001b[37mGET /recommendations?userId=A9&city=OAK HTTP/1.1\u001b[0m\" 200 -\n"
     ]
    },
    {
     "name": "stdout",
     "output_type": "stream",
     "text": [
      "['hiking', 'camping', 'trekking']\n"
     ]
    },
    {
     "name": "stderr",
     "output_type": "stream",
     "text": [
      "/Users/a0s00x0/opt/anaconda3/lib/python3.7/site-packages/ipykernel_launcher.py:48: DeprecationWarning: The default dtype for empty Series will be 'object' instead of 'float64' in a future version. Specify a dtype explicitly to silence this warning.\n",
      "127.0.0.1 - - [26/Jan/2021 17:16:58] \"\u001b[37mGET /recommendations?userId=A9&city=OAK HTTP/1.1\u001b[0m\" 200 -\n",
      "INFO:werkzeug:127.0.0.1 - - [26/Jan/2021 17:16:58] \"\u001b[37mGET /recommendations?userId=A9&city=OAK HTTP/1.1\u001b[0m\" 200 -\n"
     ]
    },
    {
     "name": "stdout",
     "output_type": "stream",
     "text": [
      "['hiking', 'camping', 'trekking']\n"
     ]
    },
    {
     "name": "stderr",
     "output_type": "stream",
     "text": [
      "/Users/a0s00x0/opt/anaconda3/lib/python3.7/site-packages/ipykernel_launcher.py:48: DeprecationWarning: The default dtype for empty Series will be 'object' instead of 'float64' in a future version. Specify a dtype explicitly to silence this warning.\n",
      "127.0.0.1 - - [26/Jan/2021 17:16:58] \"\u001b[37mGET /recommendations?userId=A9&city=OAK HTTP/1.1\u001b[0m\" 200 -\n",
      "INFO:werkzeug:127.0.0.1 - - [26/Jan/2021 17:16:58] \"\u001b[37mGET /recommendations?userId=A9&city=OAK HTTP/1.1\u001b[0m\" 200 -\n",
      "127.0.0.1 - - [26/Jan/2021 17:16:58] \"\u001b[37mOPTIONS /recommendations?userId=A9&city=OAK HTTP/1.1\u001b[0m\" 200 -\n",
      "INFO:werkzeug:127.0.0.1 - - [26/Jan/2021 17:16:58] \"\u001b[37mOPTIONS /recommendations?userId=A9&city=OAK HTTP/1.1\u001b[0m\" 200 -\n",
      "127.0.0.1 - - [26/Jan/2021 17:16:58] \"\u001b[37mOPTIONS /recommendations?userId=A9&city=OAK HTTP/1.1\u001b[0m\" 200 -\n",
      "INFO:werkzeug:127.0.0.1 - - [26/Jan/2021 17:16:58] \"\u001b[37mOPTIONS /recommendations?userId=A9&city=OAK HTTP/1.1\u001b[0m\" 200 -\n"
     ]
    },
    {
     "name": "stdout",
     "output_type": "stream",
     "text": [
      "['hiking', 'camping', 'trekking']\n"
     ]
    },
    {
     "name": "stderr",
     "output_type": "stream",
     "text": [
      "/Users/a0s00x0/opt/anaconda3/lib/python3.7/site-packages/ipykernel_launcher.py:48: DeprecationWarning: The default dtype for empty Series will be 'object' instead of 'float64' in a future version. Specify a dtype explicitly to silence this warning.\n",
      "127.0.0.1 - - [26/Jan/2021 17:16:59] \"\u001b[37mGET /recommendations?userId=A9&city=OAK HTTP/1.1\u001b[0m\" 200 -\n",
      "INFO:werkzeug:127.0.0.1 - - [26/Jan/2021 17:16:59] \"\u001b[37mGET /recommendations?userId=A9&city=OAK HTTP/1.1\u001b[0m\" 200 -\n"
     ]
    },
    {
     "name": "stdout",
     "output_type": "stream",
     "text": [
      "['hiking', 'camping', 'trekking']\n"
     ]
    },
    {
     "name": "stderr",
     "output_type": "stream",
     "text": [
      "/Users/a0s00x0/opt/anaconda3/lib/python3.7/site-packages/ipykernel_launcher.py:48: DeprecationWarning: The default dtype for empty Series will be 'object' instead of 'float64' in a future version. Specify a dtype explicitly to silence this warning.\n",
      "127.0.0.1 - - [26/Jan/2021 17:16:59] \"\u001b[37mGET /recommendations?userId=A9&city=OAK HTTP/1.1\u001b[0m\" 200 -\n",
      "INFO:werkzeug:127.0.0.1 - - [26/Jan/2021 17:16:59] \"\u001b[37mGET /recommendations?userId=A9&city=OAK HTTP/1.1\u001b[0m\" 200 -\n"
     ]
    },
    {
     "name": "stdout",
     "output_type": "stream",
     "text": [
      "['hiking', 'camping', 'trekking']\n"
     ]
    },
    {
     "name": "stderr",
     "output_type": "stream",
     "text": [
      "/Users/a0s00x0/opt/anaconda3/lib/python3.7/site-packages/ipykernel_launcher.py:48: DeprecationWarning: The default dtype for empty Series will be 'object' instead of 'float64' in a future version. Specify a dtype explicitly to silence this warning.\n",
      "127.0.0.1 - - [26/Jan/2021 17:17:00] \"\u001b[37mGET /recommendations?userId=A9&city=OAK HTTP/1.1\u001b[0m\" 200 -\n",
      "INFO:werkzeug:127.0.0.1 - - [26/Jan/2021 17:17:00] \"\u001b[37mGET /recommendations?userId=A9&city=OAK HTTP/1.1\u001b[0m\" 200 -\n"
     ]
    },
    {
     "name": "stdout",
     "output_type": "stream",
     "text": [
      "['hiking', 'camping', 'trekking']\n",
      "['hiking', 'camping', 'trekking']\n",
      "['hiking', 'camping', 'trekking']\n",
      "['hiking', 'camping', 'trekking']\n",
      "['hiking', 'camping', 'trekking']\n"
     ]
    },
    {
     "name": "stderr",
     "output_type": "stream",
     "text": [
      "/Users/a0s00x0/opt/anaconda3/lib/python3.7/site-packages/ipykernel_launcher.py:48: DeprecationWarning: The default dtype for empty Series will be 'object' instead of 'float64' in a future version. Specify a dtype explicitly to silence this warning.\n",
      "127.0.0.1 - - [26/Jan/2021 17:17:01] \"\u001b[37mGET /recommendations?userId=A9&city=OAK HTTP/1.1\u001b[0m\" 200 -\n",
      "INFO:werkzeug:127.0.0.1 - - [26/Jan/2021 17:17:01] \"\u001b[37mGET /recommendations?userId=A9&city=OAK HTTP/1.1\u001b[0m\" 200 -\n"
     ]
    },
    {
     "name": "stdout",
     "output_type": "stream",
     "text": [
      "['hiking', 'camping', 'trekking']\n",
      "['hiking', 'camping', 'trekking']\n"
     ]
    },
    {
     "name": "stderr",
     "output_type": "stream",
     "text": [
      "/Users/a0s00x0/opt/anaconda3/lib/python3.7/site-packages/ipykernel_launcher.py:48: DeprecationWarning: The default dtype for empty Series will be 'object' instead of 'float64' in a future version. Specify a dtype explicitly to silence this warning.\n",
      "127.0.0.1 - - [26/Jan/2021 17:17:02] \"\u001b[37mGET /recommendations?userId=A9&city=OAK HTTP/1.1\u001b[0m\" 200 -\n",
      "INFO:werkzeug:127.0.0.1 - - [26/Jan/2021 17:17:02] \"\u001b[37mGET /recommendations?userId=A9&city=OAK HTTP/1.1\u001b[0m\" 200 -\n"
     ]
    },
    {
     "name": "stdout",
     "output_type": "stream",
     "text": [
      "['hiking', 'camping', 'trekking']\n"
     ]
    },
    {
     "name": "stderr",
     "output_type": "stream",
     "text": [
      "/Users/a0s00x0/opt/anaconda3/lib/python3.7/site-packages/ipykernel_launcher.py:48: DeprecationWarning: The default dtype for empty Series will be 'object' instead of 'float64' in a future version. Specify a dtype explicitly to silence this warning.\n",
      "127.0.0.1 - - [26/Jan/2021 17:17:03] \"\u001b[37mGET /recommendations?userId=A9&city=OAK HTTP/1.1\u001b[0m\" 200 -\n",
      "INFO:werkzeug:127.0.0.1 - - [26/Jan/2021 17:17:03] \"\u001b[37mGET /recommendations?userId=A9&city=OAK HTTP/1.1\u001b[0m\" 200 -\n",
      "/Users/a0s00x0/opt/anaconda3/lib/python3.7/site-packages/ipykernel_launcher.py:48: DeprecationWarning: The default dtype for empty Series will be 'object' instead of 'float64' in a future version. Specify a dtype explicitly to silence this warning.\n",
      "127.0.0.1 - - [26/Jan/2021 17:17:04] \"\u001b[37mGET /recommendations?userId=A9&city=OAK HTTP/1.1\u001b[0m\" 200 -\n",
      "/Users/a0s00x0/opt/anaconda3/lib/python3.7/site-packages/ipykernel_launcher.py:48: DeprecationWarning: The default dtype for empty Series will be 'object' instead of 'float64' in a future version. Specify a dtype explicitly to silence this warning.\n",
      "/Users/a0s00x0/opt/anaconda3/lib/python3.7/site-packages/ipykernel_launcher.py:48: DeprecationWarning: The default dtype for empty Series will be 'object' instead of 'float64' in a future version. Specify a dtype explicitly to silence this warning.\n",
      "INFO:werkzeug:127.0.0.1 - - [26/Jan/2021 17:17:04] \"\u001b[37mGET /recommendations?userId=A9&city=OAK HTTP/1.1\u001b[0m\" 200 -\n",
      "127.0.0.1 - - [26/Jan/2021 17:17:04] \"\u001b[37mGET /recommendations?userId=A9&city=OAK HTTP/1.1\u001b[0m\" 200 -\n",
      "INFO:werkzeug:127.0.0.1 - - [26/Jan/2021 17:17:04] \"\u001b[37mGET /recommendations?userId=A9&city=OAK HTTP/1.1\u001b[0m\" 200 -\n",
      "127.0.0.1 - - [26/Jan/2021 17:17:04] \"\u001b[37mGET /recommendations?userId=A9&city=OAK HTTP/1.1\u001b[0m\" 200 -\n"
     ]
    },
    {
     "name": "stdout",
     "output_type": "stream",
     "text": [
      "['hiking', 'camping', 'trekking']\n",
      "['hiking', 'camping', 'trekking']\n"
     ]
    },
    {
     "name": "stderr",
     "output_type": "stream",
     "text": [
      "INFO:werkzeug:127.0.0.1 - - [26/Jan/2021 17:17:04] \"\u001b[37mGET /recommendations?userId=A9&city=OAK HTTP/1.1\u001b[0m\" 200 -\n",
      "/Users/a0s00x0/opt/anaconda3/lib/python3.7/site-packages/ipykernel_launcher.py:48: DeprecationWarning: The default dtype for empty Series will be 'object' instead of 'float64' in a future version. Specify a dtype explicitly to silence this warning.\n",
      "127.0.0.1 - - [26/Jan/2021 17:17:04] \"\u001b[37mGET /recommendations?userId=A9&city=OAK HTTP/1.1\u001b[0m\" 200 -\n",
      "INFO:werkzeug:127.0.0.1 - - [26/Jan/2021 17:17:04] \"\u001b[37mGET /recommendations?userId=A9&city=OAK HTTP/1.1\u001b[0m\" 200 -\n",
      "/Users/a0s00x0/opt/anaconda3/lib/python3.7/site-packages/ipykernel_launcher.py:48: DeprecationWarning: The default dtype for empty Series will be 'object' instead of 'float64' in a future version. Specify a dtype explicitly to silence this warning.\n"
     ]
    },
    {
     "name": "stdout",
     "output_type": "stream",
     "text": [
      "['hiking', 'camping', 'trekking']\n",
      "['hiking', 'camping', 'trekking']\n"
     ]
    },
    {
     "name": "stderr",
     "output_type": "stream",
     "text": [
      "127.0.0.1 - - [26/Jan/2021 17:17:05] \"\u001b[37mGET /recommendations?userId=A9&city=OAK HTTP/1.1\u001b[0m\" 200 -\n",
      "INFO:werkzeug:127.0.0.1 - - [26/Jan/2021 17:17:05] \"\u001b[37mGET /recommendations?userId=A9&city=OAK HTTP/1.1\u001b[0m\" 200 -\n"
     ]
    },
    {
     "name": "stdout",
     "output_type": "stream",
     "text": [
      "['hiking', 'camping', 'trekking']\n",
      "['hiking', 'camping', 'trekking']\n"
     ]
    },
    {
     "name": "stderr",
     "output_type": "stream",
     "text": [
      "/Users/a0s00x0/opt/anaconda3/lib/python3.7/site-packages/ipykernel_launcher.py:48: DeprecationWarning: The default dtype for empty Series will be 'object' instead of 'float64' in a future version. Specify a dtype explicitly to silence this warning.\n",
      "127.0.0.1 - - [26/Jan/2021 17:17:07] \"\u001b[37mGET /recommendations?userId=A9&city=OAK HTTP/1.1\u001b[0m\" 200 -\n",
      "INFO:werkzeug:127.0.0.1 - - [26/Jan/2021 17:17:07] \"\u001b[37mGET /recommendations?userId=A9&city=OAK HTTP/1.1\u001b[0m\" 200 -\n",
      "/Users/a0s00x0/opt/anaconda3/lib/python3.7/site-packages/ipykernel_launcher.py:48: DeprecationWarning: The default dtype for empty Series will be 'object' instead of 'float64' in a future version. Specify a dtype explicitly to silence this warning.\n",
      "127.0.0.1 - - [26/Jan/2021 17:17:07] \"\u001b[37mGET /recommendations?userId=A9&city=OAK HTTP/1.1\u001b[0m\" 200 -\n",
      "INFO:werkzeug:127.0.0.1 - - [26/Jan/2021 17:17:07] \"\u001b[37mGET /recommendations?userId=A9&city=OAK HTTP/1.1\u001b[0m\" 200 -\n",
      "/Users/a0s00x0/opt/anaconda3/lib/python3.7/site-packages/ipykernel_launcher.py:48: DeprecationWarning: The default dtype for empty Series will be 'object' instead of 'float64' in a future version. Specify a dtype explicitly to silence this warning.\n"
     ]
    },
    {
     "name": "stdout",
     "output_type": "stream",
     "text": [
      "['hiking', 'camping', 'trekking']\n",
      "['hiking', 'camping', 'trekking']\n"
     ]
    },
    {
     "name": "stderr",
     "output_type": "stream",
     "text": [
      "127.0.0.1 - - [26/Jan/2021 17:17:07] \"\u001b[37mGET /recommendations?userId=A9&city=OAK HTTP/1.1\u001b[0m\" 200 -\n",
      "/Users/a0s00x0/opt/anaconda3/lib/python3.7/site-packages/ipykernel_launcher.py:48: DeprecationWarning: The default dtype for empty Series will be 'object' instead of 'float64' in a future version. Specify a dtype explicitly to silence this warning.\n",
      "/Users/a0s00x0/opt/anaconda3/lib/python3.7/site-packages/ipykernel_launcher.py:48: DeprecationWarning: The default dtype for empty Series will be 'object' instead of 'float64' in a future version. Specify a dtype explicitly to silence this warning.\n",
      "INFO:werkzeug:127.0.0.1 - - [26/Jan/2021 17:17:07] \"\u001b[37mGET /recommendations?userId=A9&city=OAK HTTP/1.1\u001b[0m\" 200 -\n",
      "127.0.0.1 - - [26/Jan/2021 17:17:07] \"\u001b[37mGET /recommendations?userId=A9&city=OAK HTTP/1.1\u001b[0m\" 200 -\n",
      "/Users/a0s00x0/opt/anaconda3/lib/python3.7/site-packages/ipykernel_launcher.py:48: DeprecationWarning: The default dtype for empty Series will be 'object' instead of 'float64' in a future version. Specify a dtype explicitly to silence this warning.\n",
      "INFO:werkzeug:127.0.0.1 - - [26/Jan/2021 17:17:07] \"\u001b[37mGET /recommendations?userId=A9&city=OAK HTTP/1.1\u001b[0m\" 200 -\n",
      "127.0.0.1 - - [26/Jan/2021 17:17:08] \"\u001b[37mGET /recommendations?userId=A9&city=OAK HTTP/1.1\u001b[0m\" 200 -\n",
      "INFO:werkzeug:127.0.0.1 - - [26/Jan/2021 17:17:08] \"\u001b[37mGET /recommendations?userId=A9&city=OAK HTTP/1.1\u001b[0m\" 200 -\n",
      "127.0.0.1 - - [26/Jan/2021 17:17:08] \"\u001b[37mGET /recommendations?userId=A9&city=OAK HTTP/1.1\u001b[0m\" 200 -\n",
      "INFO:werkzeug:127.0.0.1 - - [26/Jan/2021 17:17:08] \"\u001b[37mGET /recommendations?userId=A9&city=OAK HTTP/1.1\u001b[0m\" 200 -\n",
      "127.0.0.1 - - [26/Jan/2021 17:17:08] \"\u001b[37mOPTIONS /recommendations?userId=A9&city=OAK HTTP/1.1\u001b[0m\" 200 -\n"
     ]
    },
    {
     "name": "stdout",
     "output_type": "stream",
     "text": [
      "['hiking', 'camping', 'trekking']\n"
     ]
    },
    {
     "name": "stderr",
     "output_type": "stream",
     "text": [
      "INFO:werkzeug:127.0.0.1 - - [26/Jan/2021 17:17:08] \"\u001b[37mOPTIONS /recommendations?userId=A9&city=OAK HTTP/1.1\u001b[0m\" 200 -\n",
      "127.0.0.1 - - [26/Jan/2021 17:17:08] \"\u001b[37mOPTIONS /recommendations?userId=A9&city=OAK HTTP/1.1\u001b[0m\" 200 -\n",
      "127.0.0.1 - - [26/Jan/2021 17:17:08] \"\u001b[37mOPTIONS /recommendations?userId=A9&city=OAK HTTP/1.1\u001b[0m\" 200 -\n",
      "/Users/a0s00x0/opt/anaconda3/lib/python3.7/site-packages/ipykernel_launcher.py:48: DeprecationWarning: The default dtype for empty Series will be 'object' instead of 'float64' in a future version. Specify a dtype explicitly to silence this warning.\n",
      "INFO:werkzeug:127.0.0.1 - - [26/Jan/2021 17:17:08] \"\u001b[37mOPTIONS /recommendations?userId=A9&city=OAK HTTP/1.1\u001b[0m\" 200 -\n",
      "INFO:werkzeug:127.0.0.1 - - [26/Jan/2021 17:17:08] \"\u001b[37mOPTIONS /recommendations?userId=A9&city=OAK HTTP/1.1\u001b[0m\" 200 -\n",
      "127.0.0.1 - - [26/Jan/2021 17:17:08] \"\u001b[37mGET /recommendations?userId=A9&city=OAK HTTP/1.1\u001b[0m\" 200 -\n",
      "INFO:werkzeug:127.0.0.1 - - [26/Jan/2021 17:17:08] \"\u001b[37mGET /recommendations?userId=A9&city=OAK HTTP/1.1\u001b[0m\" 200 -\n",
      "127.0.0.1 - - [26/Jan/2021 17:17:08] \"\u001b[37mOPTIONS /recommendations?userId=A9&city=OAK HTTP/1.1\u001b[0m\" 200 -\n",
      "/Users/a0s00x0/opt/anaconda3/lib/python3.7/site-packages/ipykernel_launcher.py:48: DeprecationWarning: The default dtype for empty Series will be 'object' instead of 'float64' in a future version. Specify a dtype explicitly to silence this warning.\n",
      "INFO:werkzeug:127.0.0.1 - - [26/Jan/2021 17:17:08] \"\u001b[37mOPTIONS /recommendations?userId=A9&city=OAK HTTP/1.1\u001b[0m\" 200 -\n",
      "127.0.0.1 - - [26/Jan/2021 17:17:08] \"\u001b[37mGET /recommendations?userId=A9&city=OAK HTTP/1.1\u001b[0m\" 200 -\n",
      "INFO:werkzeug:127.0.0.1 - - [26/Jan/2021 17:17:08] \"\u001b[37mGET /recommendations?userId=A9&city=OAK HTTP/1.1\u001b[0m\" 200 -\n",
      "127.0.0.1 - - [26/Jan/2021 17:17:08] \"\u001b[37mOPTIONS /recommendations?userId=A9&city=OAK HTTP/1.1\u001b[0m\" 200 -\n"
     ]
    },
    {
     "name": "stdout",
     "output_type": "stream",
     "text": [
      "['hiking', 'camping', 'trekking']\n",
      "['hiking', 'camping', 'trekking']\n"
     ]
    },
    {
     "name": "stderr",
     "output_type": "stream",
     "text": [
      "127.0.0.1 - - [26/Jan/2021 17:17:08] \"\u001b[37mOPTIONS /recommendations?userId=A9&city=OAK HTTP/1.1\u001b[0m\" 200 -\n",
      "INFO:werkzeug:127.0.0.1 - - [26/Jan/2021 17:17:08] \"\u001b[37mOPTIONS /recommendations?userId=A9&city=OAK HTTP/1.1\u001b[0m\" 200 -\n",
      "INFO:werkzeug:127.0.0.1 - - [26/Jan/2021 17:17:08] \"\u001b[37mOPTIONS /recommendations?userId=A9&city=OAK HTTP/1.1\u001b[0m\" 200 -\n",
      "127.0.0.1 - - [26/Jan/2021 17:17:09] \"\u001b[37mOPTIONS /recommendations?userId=A9&city=OAK HTTP/1.1\u001b[0m\" 200 -\n",
      "/Users/a0s00x0/opt/anaconda3/lib/python3.7/site-packages/ipykernel_launcher.py:48: DeprecationWarning: The default dtype for empty Series will be 'object' instead of 'float64' in a future version. Specify a dtype explicitly to silence this warning.\n",
      "127.0.0.1 - - [26/Jan/2021 17:17:09] \"\u001b[37mOPTIONS /recommendations?userId=A9&city=OAK HTTP/1.1\u001b[0m\" 200 -\n",
      "INFO:werkzeug:127.0.0.1 - - [26/Jan/2021 17:17:09] \"\u001b[37mOPTIONS /recommendations?userId=A9&city=OAK HTTP/1.1\u001b[0m\" 200 -\n",
      "127.0.0.1 - - [26/Jan/2021 17:17:09] \"\u001b[37mGET /recommendations?userId=A9&city=OAK HTTP/1.1\u001b[0m\" 200 -\n",
      "INFO:werkzeug:127.0.0.1 - - [26/Jan/2021 17:17:09] \"\u001b[37mOPTIONS /recommendations?userId=A9&city=OAK HTTP/1.1\u001b[0m\" 200 -\n",
      "127.0.0.1 - - [26/Jan/2021 17:17:09] \"\u001b[37mOPTIONS /recommendations?userId=A9&city=OAK HTTP/1.1\u001b[0m\" 200 -\n",
      "INFO:werkzeug:127.0.0.1 - - [26/Jan/2021 17:17:09] \"\u001b[37mGET /recommendations?userId=A9&city=OAK HTTP/1.1\u001b[0m\" 200 -\n",
      "127.0.0.1 - - [26/Jan/2021 17:17:09] \"\u001b[37mOPTIONS /recommendations?userId=A9&city=OAK HTTP/1.1\u001b[0m\" 200 -\n",
      "INFO:werkzeug:127.0.0.1 - - [26/Jan/2021 17:17:09] \"\u001b[37mOPTIONS /recommendations?userId=A9&city=OAK HTTP/1.1\u001b[0m\" 200 -\n",
      "INFO:werkzeug:127.0.0.1 - - [26/Jan/2021 17:17:09] \"\u001b[37mOPTIONS /recommendations?userId=A9&city=OAK HTTP/1.1\u001b[0m\" 200 -\n"
     ]
    },
    {
     "name": "stdout",
     "output_type": "stream",
     "text": [
      "['hiking', 'camping', 'trekking']\n",
      "['hiking', 'camping', 'trekking']\n",
      "['hiking', 'camping', 'trekking']\n"
     ]
    },
    {
     "name": "stderr",
     "output_type": "stream",
     "text": [
      "/Users/a0s00x0/opt/anaconda3/lib/python3.7/site-packages/ipykernel_launcher.py:48: DeprecationWarning: The default dtype for empty Series will be 'object' instead of 'float64' in a future version. Specify a dtype explicitly to silence this warning.\n",
      "127.0.0.1 - - [26/Jan/2021 17:17:10] \"\u001b[37mGET /recommendations?userId=A9&city=OAK HTTP/1.1\u001b[0m\" 200 -\n",
      "INFO:werkzeug:127.0.0.1 - - [26/Jan/2021 17:17:10] \"\u001b[37mGET /recommendations?userId=A9&city=OAK HTTP/1.1\u001b[0m\" 200 -\n",
      "127.0.0.1 - - [26/Jan/2021 17:17:11] \"\u001b[37mOPTIONS /recommendations?userId=A9&city=OAK HTTP/1.1\u001b[0m\" 200 -\n",
      "/Users/a0s00x0/opt/anaconda3/lib/python3.7/site-packages/ipykernel_launcher.py:48: DeprecationWarning: The default dtype for empty Series will be 'object' instead of 'float64' in a future version. Specify a dtype explicitly to silence this warning.\n",
      "INFO:werkzeug:127.0.0.1 - - [26/Jan/2021 17:17:11] \"\u001b[37mOPTIONS /recommendations?userId=A9&city=OAK HTTP/1.1\u001b[0m\" 200 -\n",
      "127.0.0.1 - - [26/Jan/2021 17:17:11] \"\u001b[37mGET /recommendations?userId=A9&city=OAK HTTP/1.1\u001b[0m\" 200 -\n",
      "INFO:werkzeug:127.0.0.1 - - [26/Jan/2021 17:17:11] \"\u001b[37mGET /recommendations?userId=A9&city=OAK HTTP/1.1\u001b[0m\" 200 -\n",
      "127.0.0.1 - - [26/Jan/2021 17:17:11] \"\u001b[37mOPTIONS /recommendations?userId=A9&city=OAK HTTP/1.1\u001b[0m\" 200 -\n"
     ]
    },
    {
     "name": "stdout",
     "output_type": "stream",
     "text": [
      "['hiking', 'camping', 'trekking']\n"
     ]
    },
    {
     "name": "stderr",
     "output_type": "stream",
     "text": [
      "INFO:werkzeug:127.0.0.1 - - [26/Jan/2021 17:17:11] \"\u001b[37mOPTIONS /recommendations?userId=A9&city=OAK HTTP/1.1\u001b[0m\" 200 -\n",
      "/Users/a0s00x0/opt/anaconda3/lib/python3.7/site-packages/ipykernel_launcher.py:48: DeprecationWarning: The default dtype for empty Series will be 'object' instead of 'float64' in a future version. Specify a dtype explicitly to silence this warning.\n",
      "127.0.0.1 - - [26/Jan/2021 17:17:12] \"\u001b[37mGET /recommendations?userId=A9&city=OAK HTTP/1.1\u001b[0m\" 200 -\n",
      "/Users/a0s00x0/opt/anaconda3/lib/python3.7/site-packages/ipykernel_launcher.py:48: DeprecationWarning: The default dtype for empty Series will be 'object' instead of 'float64' in a future version. Specify a dtype explicitly to silence this warning.\n",
      "INFO:werkzeug:127.0.0.1 - - [26/Jan/2021 17:17:12] \"\u001b[37mGET /recommendations?userId=A9&city=OAK HTTP/1.1\u001b[0m\" 200 -\n",
      "127.0.0.1 - - [26/Jan/2021 17:17:12] \"\u001b[37mGET /recommendations?userId=A9&city=OAK HTTP/1.1\u001b[0m\" 200 -\n"
     ]
    },
    {
     "name": "stdout",
     "output_type": "stream",
     "text": [
      "['hiking', 'camping', 'trekking']\n",
      "['hiking', 'camping', 'trekking']\n"
     ]
    },
    {
     "name": "stderr",
     "output_type": "stream",
     "text": [
      "INFO:werkzeug:127.0.0.1 - - [26/Jan/2021 17:17:12] \"\u001b[37mGET /recommendations?userId=A9&city=OAK HTTP/1.1\u001b[0m\" 200 -\n",
      "/Users/a0s00x0/opt/anaconda3/lib/python3.7/site-packages/ipykernel_launcher.py:48: DeprecationWarning: The default dtype for empty Series will be 'object' instead of 'float64' in a future version. Specify a dtype explicitly to silence this warning.\n",
      "/Users/a0s00x0/opt/anaconda3/lib/python3.7/site-packages/ipykernel_launcher.py:48: DeprecationWarning: The default dtype for empty Series will be 'object' instead of 'float64' in a future version. Specify a dtype explicitly to silence this warning.\n",
      "127.0.0.1 - - [26/Jan/2021 17:17:13] \"\u001b[37mGET /recommendations?userId=A9&city=OAK HTTP/1.1\u001b[0m\" 200 -\n"
     ]
    },
    {
     "name": "stdout",
     "output_type": "stream",
     "text": [
      "['hiking', 'camping', 'trekking']\n",
      "['hiking', 'camping', 'trekking']\n"
     ]
    },
    {
     "name": "stderr",
     "output_type": "stream",
     "text": [
      "INFO:werkzeug:127.0.0.1 - - [26/Jan/2021 17:17:13] \"\u001b[37mGET /recommendations?userId=A9&city=OAK HTTP/1.1\u001b[0m\" 200 -\n",
      "127.0.0.1 - - [26/Jan/2021 17:17:13] \"\u001b[37mGET /recommendations?userId=A9&city=OAK HTTP/1.1\u001b[0m\" 200 -\n",
      "INFO:werkzeug:127.0.0.1 - - [26/Jan/2021 17:17:13] \"\u001b[37mGET /recommendations?userId=A9&city=OAK HTTP/1.1\u001b[0m\" 200 -\n",
      "/Users/a0s00x0/opt/anaconda3/lib/python3.7/site-packages/ipykernel_launcher.py:48: DeprecationWarning: The default dtype for empty Series will be 'object' instead of 'float64' in a future version. Specify a dtype explicitly to silence this warning.\n",
      "127.0.0.1 - - [26/Jan/2021 17:17:13] \"\u001b[37mGET /recommendations?userId=A9&city=OAK HTTP/1.1\u001b[0m\" 200 -\n",
      "INFO:werkzeug:127.0.0.1 - - [26/Jan/2021 17:17:13] \"\u001b[37mGET /recommendations?userId=A9&city=OAK HTTP/1.1\u001b[0m\" 200 -\n"
     ]
    },
    {
     "name": "stdout",
     "output_type": "stream",
     "text": [
      "['hiking', 'camping', 'trekking']\n",
      "['hiking', 'camping', 'trekking']\n"
     ]
    },
    {
     "name": "stderr",
     "output_type": "stream",
     "text": [
      "/Users/a0s00x0/opt/anaconda3/lib/python3.7/site-packages/ipykernel_launcher.py:48: DeprecationWarning: The default dtype for empty Series will be 'object' instead of 'float64' in a future version. Specify a dtype explicitly to silence this warning.\n",
      "127.0.0.1 - - [26/Jan/2021 17:17:14] \"\u001b[37mGET /recommendations?userId=A9&city=OAK HTTP/1.1\u001b[0m\" 200 -\n",
      "INFO:werkzeug:127.0.0.1 - - [26/Jan/2021 17:17:14] \"\u001b[37mGET /recommendations?userId=A9&city=OAK HTTP/1.1\u001b[0m\" 200 -\n",
      "127.0.0.1 - - [26/Jan/2021 17:17:14] \"\u001b[37mOPTIONS /recommendations?userId=A9&city=OAK HTTP/1.1\u001b[0m\" 200 -\n",
      "INFO:werkzeug:127.0.0.1 - - [26/Jan/2021 17:17:14] \"\u001b[37mOPTIONS /recommendations?userId=A9&city=OAK HTTP/1.1\u001b[0m\" 200 -\n",
      "127.0.0.1 - - [26/Jan/2021 17:17:14] \"\u001b[37mOPTIONS /recommendations?userId=A9&city=OAK HTTP/1.1\u001b[0m\" 200 -\n",
      "/Users/a0s00x0/opt/anaconda3/lib/python3.7/site-packages/ipykernel_launcher.py:48: DeprecationWarning: The default dtype for empty Series will be 'object' instead of 'float64' in a future version. Specify a dtype explicitly to silence this warning.\n",
      "INFO:werkzeug:127.0.0.1 - - [26/Jan/2021 17:17:14] \"\u001b[37mOPTIONS /recommendations?userId=A9&city=OAK HTTP/1.1\u001b[0m\" 200 -\n",
      "127.0.0.1 - - [26/Jan/2021 17:17:14] \"\u001b[37mGET /recommendations?userId=A9&city=OAK HTTP/1.1\u001b[0m\" 200 -\n",
      "INFO:werkzeug:127.0.0.1 - - [26/Jan/2021 17:17:14] \"\u001b[37mGET /recommendations?userId=A9&city=OAK HTTP/1.1\u001b[0m\" 200 -\n",
      "127.0.0.1 - - [26/Jan/2021 17:17:14] \"\u001b[37mOPTIONS /recommendations?userId=A9&city=OAK HTTP/1.1\u001b[0m\" 200 -\n",
      "/Users/a0s00x0/opt/anaconda3/lib/python3.7/site-packages/ipykernel_launcher.py:48: DeprecationWarning: The default dtype for empty Series will be 'object' instead of 'float64' in a future version. Specify a dtype explicitly to silence this warning.\n",
      "127.0.0.1 - - [26/Jan/2021 17:17:14] \"\u001b[37mOPTIONS /recommendations?userId=A9&city=OAK HTTP/1.1\u001b[0m\" 200 -\n",
      "INFO:werkzeug:127.0.0.1 - - [26/Jan/2021 17:17:14] \"\u001b[37mOPTIONS /recommendations?userId=A9&city=OAK HTTP/1.1\u001b[0m\" 200 -\n",
      "INFO:werkzeug:127.0.0.1 - - [26/Jan/2021 17:17:14] \"\u001b[37mOPTIONS /recommendations?userId=A9&city=OAK HTTP/1.1\u001b[0m\" 200 -\n",
      "127.0.0.1 - - [26/Jan/2021 17:17:15] \"\u001b[37mGET /recommendations?userId=A9&city=OAK HTTP/1.1\u001b[0m\" 200 -\n",
      "INFO:werkzeug:127.0.0.1 - - [26/Jan/2021 17:17:15] \"\u001b[37mGET /recommendations?userId=A9&city=OAK HTTP/1.1\u001b[0m\" 200 -\n",
      "127.0.0.1 - - [26/Jan/2021 17:17:15] \"\u001b[37mOPTIONS /recommendations?userId=A9&city=OAK HTTP/1.1\u001b[0m\" 200 -\n",
      "/Users/a0s00x0/opt/anaconda3/lib/python3.7/site-packages/ipykernel_launcher.py:48: DeprecationWarning: The default dtype for empty Series will be 'object' instead of 'float64' in a future version. Specify a dtype explicitly to silence this warning.\n",
      "INFO:werkzeug:127.0.0.1 - - [26/Jan/2021 17:17:15] \"\u001b[37mOPTIONS /recommendations?userId=A9&city=OAK HTTP/1.1\u001b[0m\" 200 -\n"
     ]
    },
    {
     "name": "stdout",
     "output_type": "stream",
     "text": [
      "['hiking', 'camping', 'trekking']\n",
      "['hiking', 'camping', 'trekking']\n"
     ]
    },
    {
     "name": "stderr",
     "output_type": "stream",
     "text": [
      "127.0.0.1 - - [26/Jan/2021 17:17:15] \"\u001b[37mGET /recommendations?userId=A9&city=OAK HTTP/1.1\u001b[0m\" 200 -\n",
      "127.0.0.1 - - [26/Jan/2021 17:17:15] \"\u001b[37mOPTIONS /recommendations?userId=A9&city=OAK HTTP/1.1\u001b[0m\" 200 -\n",
      "INFO:werkzeug:127.0.0.1 - - [26/Jan/2021 17:17:15] \"\u001b[37mGET /recommendations?userId=A9&city=OAK HTTP/1.1\u001b[0m\" 200 -\n",
      "/Users/a0s00x0/opt/anaconda3/lib/python3.7/site-packages/ipykernel_launcher.py:48: DeprecationWarning: The default dtype for empty Series will be 'object' instead of 'float64' in a future version. Specify a dtype explicitly to silence this warning.\n",
      "127.0.0.1 - - [26/Jan/2021 17:17:15] \"\u001b[37mGET /recommendations?userId=A9&city=OAK HTTP/1.1\u001b[0m\" 200 -\n",
      "INFO:werkzeug:127.0.0.1 - - [26/Jan/2021 17:17:15] \"\u001b[37mOPTIONS /recommendations?userId=A9&city=OAK HTTP/1.1\u001b[0m\" 200 -\n",
      "127.0.0.1 - - [26/Jan/2021 17:17:16] \"\u001b[37mOPTIONS /recommendations?userId=A9&city=OAK HTTP/1.1\u001b[0m\" 200 -\n",
      "INFO:werkzeug:127.0.0.1 - - [26/Jan/2021 17:17:15] \"\u001b[37mGET /recommendations?userId=A9&city=OAK HTTP/1.1\u001b[0m\" 200 -\n",
      "127.0.0.1 - - [26/Jan/2021 17:17:16] \"\u001b[37mOPTIONS /recommendations?userId=A9&city=OAK HTTP/1.1\u001b[0m\" 200 -\n"
     ]
    },
    {
     "name": "stdout",
     "output_type": "stream",
     "text": [
      "['hiking', 'camping', 'trekking']\n"
     ]
    },
    {
     "name": "stderr",
     "output_type": "stream",
     "text": [
      "INFO:werkzeug:127.0.0.1 - - [26/Jan/2021 17:17:16] \"\u001b[37mOPTIONS /recommendations?userId=A9&city=OAK HTTP/1.1\u001b[0m\" 200 -\n",
      "/Users/a0s00x0/opt/anaconda3/lib/python3.7/site-packages/ipykernel_launcher.py:48: DeprecationWarning: The default dtype for empty Series will be 'object' instead of 'float64' in a future version. Specify a dtype explicitly to silence this warning.\n",
      "127.0.0.1 - - [26/Jan/2021 17:17:16] \"\u001b[37mGET /recommendations?userId=A9&city=OAK HTTP/1.1\u001b[0m\" 200 -\n",
      "INFO:werkzeug:127.0.0.1 - - [26/Jan/2021 17:17:16] \"\u001b[37mOPTIONS /recommendations?userId=A9&city=OAK HTTP/1.1\u001b[0m\" 200 -\n",
      "127.0.0.1 - - [26/Jan/2021 17:17:16] \"\u001b[37mOPTIONS /recommendations?userId=A9&city=OAK HTTP/1.1\u001b[0m\" 200 -\n",
      "/Users/a0s00x0/opt/anaconda3/lib/python3.7/site-packages/ipykernel_launcher.py:48: DeprecationWarning: The default dtype for empty Series will be 'object' instead of 'float64' in a future version. Specify a dtype explicitly to silence this warning.\n",
      "INFO:werkzeug:127.0.0.1 - - [26/Jan/2021 17:17:16] \"\u001b[37mGET /recommendations?userId=A9&city=OAK HTTP/1.1\u001b[0m\" 200 -\n",
      "127.0.0.1 - - [26/Jan/2021 17:17:17] \"\u001b[37mGET /recommendations?userId=A9&city=OAK HTTP/1.1\u001b[0m\" 200 -\n",
      "127.0.0.1 - - [26/Jan/2021 17:17:17] \"\u001b[37mOPTIONS /recommendations?userId=A9&city=OAK HTTP/1.1\u001b[0m\" 200 -\n",
      "INFO:werkzeug:127.0.0.1 - - [26/Jan/2021 17:17:16] \"\u001b[37mOPTIONS /recommendations?userId=A9&city=OAK HTTP/1.1\u001b[0m\" 200 -\n",
      "INFO:werkzeug:127.0.0.1 - - [26/Jan/2021 17:17:17] \"\u001b[37mGET /recommendations?userId=A9&city=OAK HTTP/1.1\u001b[0m\" 200 -\n",
      "127.0.0.1 - - [26/Jan/2021 17:17:17] \"\u001b[37mOPTIONS /recommendations?userId=A9&city=OAK HTTP/1.1\u001b[0m\" 200 -\n",
      "/Users/a0s00x0/opt/anaconda3/lib/python3.7/site-packages/ipykernel_launcher.py:48: DeprecationWarning: The default dtype for empty Series will be 'object' instead of 'float64' in a future version. Specify a dtype explicitly to silence this warning.\n",
      "INFO:werkzeug:127.0.0.1 - - [26/Jan/2021 17:17:17] \"\u001b[37mOPTIONS /recommendations?userId=A9&city=OAK HTTP/1.1\u001b[0m\" 200 -\n",
      "127.0.0.1 - - [26/Jan/2021 17:17:17] \"\u001b[37mOPTIONS /recommendations?userId=A9&city=OAK HTTP/1.1\u001b[0m\" 200 -\n",
      "INFO:werkzeug:127.0.0.1 - - [26/Jan/2021 17:17:17] \"\u001b[37mOPTIONS /recommendations?userId=A9&city=OAK HTTP/1.1\u001b[0m\" 200 -\n",
      "127.0.0.1 - - [26/Jan/2021 17:17:17] \"\u001b[37mGET /recommendations?userId=A9&city=OAK HTTP/1.1\u001b[0m\" 200 -\n",
      "INFO:werkzeug:127.0.0.1 - - [26/Jan/2021 17:17:17] \"\u001b[37mOPTIONS /recommendations?userId=A9&city=OAK HTTP/1.1\u001b[0m\" 200 -\n",
      "INFO:werkzeug:127.0.0.1 - - [26/Jan/2021 17:17:17] \"\u001b[37mGET /recommendations?userId=A9&city=OAK HTTP/1.1\u001b[0m\" 200 -\n"
     ]
    },
    {
     "name": "stdout",
     "output_type": "stream",
     "text": [
      "['hiking', 'camping', 'trekking']\n",
      "['hiking', 'camping', 'trekking']\n",
      "['hiking', 'camping', 'trekking']\n",
      "['hiking', 'camping', 'trekking']\n",
      "['hiking', 'camping', 'trekking']\n",
      "['hiking', 'camping', 'trekking']\n"
     ]
    },
    {
     "name": "stderr",
     "output_type": "stream",
     "text": [
      "/Users/a0s00x0/opt/anaconda3/lib/python3.7/site-packages/ipykernel_launcher.py:48: DeprecationWarning: The default dtype for empty Series will be 'object' instead of 'float64' in a future version. Specify a dtype explicitly to silence this warning.\n",
      "127.0.0.1 - - [26/Jan/2021 17:17:18] \"\u001b[37mGET /recommendations?userId=A9&city=OAK HTTP/1.1\u001b[0m\" 200 -\n",
      "INFO:werkzeug:127.0.0.1 - - [26/Jan/2021 17:17:18] \"\u001b[37mGET /recommendations?userId=A9&city=OAK HTTP/1.1\u001b[0m\" 200 -\n"
     ]
    },
    {
     "name": "stdout",
     "output_type": "stream",
     "text": [
      "['hiking', 'camping', 'trekking']\n"
     ]
    },
    {
     "name": "stderr",
     "output_type": "stream",
     "text": [
      "/Users/a0s00x0/opt/anaconda3/lib/python3.7/site-packages/ipykernel_launcher.py:48: DeprecationWarning: The default dtype for empty Series will be 'object' instead of 'float64' in a future version. Specify a dtype explicitly to silence this warning.\n",
      "127.0.0.1 - - [26/Jan/2021 17:17:20] \"\u001b[37mGET /recommendations?userId=A9&city=OAK HTTP/1.1\u001b[0m\" 200 -\n",
      "INFO:werkzeug:127.0.0.1 - - [26/Jan/2021 17:17:20] \"\u001b[37mGET /recommendations?userId=A9&city=OAK HTTP/1.1\u001b[0m\" 200 -\n",
      "/Users/a0s00x0/opt/anaconda3/lib/python3.7/site-packages/ipykernel_launcher.py:48: DeprecationWarning: The default dtype for empty Series will be 'object' instead of 'float64' in a future version. Specify a dtype explicitly to silence this warning.\n",
      "127.0.0.1 - - [26/Jan/2021 17:17:20] \"\u001b[37mGET /recommendations?userId=A9&city=OAK HTTP/1.1\u001b[0m\" 200 -\n",
      "/Users/a0s00x0/opt/anaconda3/lib/python3.7/site-packages/ipykernel_launcher.py:48: DeprecationWarning: The default dtype for empty Series will be 'object' instead of 'float64' in a future version. Specify a dtype explicitly to silence this warning.\n",
      "INFO:werkzeug:127.0.0.1 - - [26/Jan/2021 17:17:20] \"\u001b[37mGET /recommendations?userId=A9&city=OAK HTTP/1.1\u001b[0m\" 200 -\n",
      "127.0.0.1 - - [26/Jan/2021 17:17:20] \"\u001b[37mGET /recommendations?userId=A9&city=OAK HTTP/1.1\u001b[0m\" 200 -\n",
      "/Users/a0s00x0/opt/anaconda3/lib/python3.7/site-packages/ipykernel_launcher.py:48: DeprecationWarning: The default dtype for empty Series will be 'object' instead of 'float64' in a future version. Specify a dtype explicitly to silence this warning.\n",
      "127.0.0.1 - - [26/Jan/2021 17:17:20] \"\u001b[37mGET /recommendations?userId=A9&city=OAK HTTP/1.1\u001b[0m\" 200 -\n",
      "/Users/a0s00x0/opt/anaconda3/lib/python3.7/site-packages/ipykernel_launcher.py:48: DeprecationWarning: The default dtype for empty Series will be 'object' instead of 'float64' in a future version. Specify a dtype explicitly to silence this warning.\n",
      "INFO:werkzeug:127.0.0.1 - - [26/Jan/2021 17:17:20] \"\u001b[37mGET /recommendations?userId=A9&city=OAK HTTP/1.1\u001b[0m\" 200 -\n",
      "127.0.0.1 - - [26/Jan/2021 17:17:20] \"\u001b[37mGET /recommendations?userId=A9&city=OAK HTTP/1.1\u001b[0m\" 200 -\n",
      "INFO:werkzeug:127.0.0.1 - - [26/Jan/2021 17:17:20] \"\u001b[37mGET /recommendations?userId=A9&city=OAK HTTP/1.1\u001b[0m\" 200 -\n",
      "INFO:werkzeug:127.0.0.1 - - [26/Jan/2021 17:17:20] \"\u001b[37mGET /recommendations?userId=A9&city=OAK HTTP/1.1\u001b[0m\" 200 -\n"
     ]
    },
    {
     "name": "stdout",
     "output_type": "stream",
     "text": [
      "['hiking', 'camping', 'trekking']\n",
      "['hiking', 'camping', 'trekking']\n",
      "['hiking', 'camping', 'trekking']\n",
      "['hiking', 'camping', 'trekking']\n",
      "['hiking', 'camping', 'trekking']\n"
     ]
    },
    {
     "name": "stderr",
     "output_type": "stream",
     "text": [
      "/Users/a0s00x0/opt/anaconda3/lib/python3.7/site-packages/ipykernel_launcher.py:48: DeprecationWarning: The default dtype for empty Series will be 'object' instead of 'float64' in a future version. Specify a dtype explicitly to silence this warning.\n",
      "127.0.0.1 - - [26/Jan/2021 17:17:22] \"\u001b[37mGET /recommendations?userId=A9&city=OAK HTTP/1.1\u001b[0m\" 200 -\n",
      "INFO:werkzeug:127.0.0.1 - - [26/Jan/2021 17:17:22] \"\u001b[37mGET /recommendations?userId=A9&city=OAK HTTP/1.1\u001b[0m\" 200 -\n"
     ]
    },
    {
     "name": "stdout",
     "output_type": "stream",
     "text": [
      "['hiking', 'camping', 'trekking']\n"
     ]
    },
    {
     "name": "stderr",
     "output_type": "stream",
     "text": [
      "/Users/a0s00x0/opt/anaconda3/lib/python3.7/site-packages/ipykernel_launcher.py:48: DeprecationWarning: The default dtype for empty Series will be 'object' instead of 'float64' in a future version. Specify a dtype explicitly to silence this warning.\n",
      "127.0.0.1 - - [26/Jan/2021 17:17:22] \"\u001b[37mGET /recommendations?userId=A9&city=OAK HTTP/1.1\u001b[0m\" 200 -\n",
      "INFO:werkzeug:127.0.0.1 - - [26/Jan/2021 17:17:22] \"\u001b[37mGET /recommendations?userId=A9&city=OAK HTTP/1.1\u001b[0m\" 200 -\n",
      "/Users/a0s00x0/opt/anaconda3/lib/python3.7/site-packages/ipykernel_launcher.py:48: DeprecationWarning: The default dtype for empty Series will be 'object' instead of 'float64' in a future version. Specify a dtype explicitly to silence this warning.\n",
      "127.0.0.1 - - [26/Jan/2021 17:17:23] \"\u001b[37mGET /recommendations?userId=A9&city=OAK HTTP/1.1\u001b[0m\" 200 -\n",
      "/Users/a0s00x0/opt/anaconda3/lib/python3.7/site-packages/ipykernel_launcher.py:48: DeprecationWarning: The default dtype for empty Series will be 'object' instead of 'float64' in a future version. Specify a dtype explicitly to silence this warning.\n",
      "INFO:werkzeug:127.0.0.1 - - [26/Jan/2021 17:17:23] \"\u001b[37mGET /recommendations?userId=A9&city=OAK HTTP/1.1\u001b[0m\" 200 -\n",
      "127.0.0.1 - - [26/Jan/2021 17:17:23] \"\u001b[37mGET /recommendations?userId=A9&city=OAK HTTP/1.1\u001b[0m\" 200 -\n",
      "INFO:werkzeug:127.0.0.1 - - [26/Jan/2021 17:17:23] \"\u001b[37mGET /recommendations?userId=A9&city=OAK HTTP/1.1\u001b[0m\" 200 -\n"
     ]
    },
    {
     "name": "stdout",
     "output_type": "stream",
     "text": [
      "['hiking', 'camping', 'trekking']\n",
      "['hiking', 'camping', 'trekking']\n"
     ]
    },
    {
     "name": "stderr",
     "output_type": "stream",
     "text": [
      "/Users/a0s00x0/opt/anaconda3/lib/python3.7/site-packages/ipykernel_launcher.py:48: DeprecationWarning: The default dtype for empty Series will be 'object' instead of 'float64' in a future version. Specify a dtype explicitly to silence this warning.\n",
      "127.0.0.1 - - [26/Jan/2021 17:17:24] \"\u001b[37mGET /recommendations?userId=A9&city=OAK HTTP/1.1\u001b[0m\" 200 -\n",
      "/Users/a0s00x0/opt/anaconda3/lib/python3.7/site-packages/ipykernel_launcher.py:48: DeprecationWarning: The default dtype for empty Series will be 'object' instead of 'float64' in a future version. Specify a dtype explicitly to silence this warning.\n",
      "INFO:werkzeug:127.0.0.1 - - [26/Jan/2021 17:17:24] \"\u001b[37mGET /recommendations?userId=A9&city=OAK HTTP/1.1\u001b[0m\" 200 -\n",
      "127.0.0.1 - - [26/Jan/2021 17:17:24] \"\u001b[37mGET /recommendations?userId=A9&city=OAK HTTP/1.1\u001b[0m\" 200 -\n",
      "INFO:werkzeug:127.0.0.1 - - [26/Jan/2021 17:17:24] \"\u001b[37mGET /recommendations?userId=A9&city=OAK HTTP/1.1\u001b[0m\" 200 -\n"
     ]
    },
    {
     "name": "stdout",
     "output_type": "stream",
     "text": [
      "['hiking', 'camping', 'trekking']\n",
      "['hiking', 'camping', 'trekking']['hiking', 'camping', 'trekking']\n"
     ]
    },
    {
     "name": "stderr",
     "output_type": "stream",
     "text": [
      "/Users/a0s00x0/opt/anaconda3/lib/python3.7/site-packages/ipykernel_launcher.py:48: DeprecationWarning: The default dtype for empty Series will be 'object' instead of 'float64' in a future version. Specify a dtype explicitly to silence this warning.\n",
      "127.0.0.1 - - [26/Jan/2021 17:17:25] \"\u001b[37mGET /recommendations?userId=A9&city=OAK HTTP/1.1\u001b[0m\" 200 -\n"
     ]
    },
    {
     "name": "stdout",
     "output_type": "stream",
     "text": [
      "\n"
     ]
    },
    {
     "name": "stderr",
     "output_type": "stream",
     "text": [
      "INFO:werkzeug:127.0.0.1 - - [26/Jan/2021 17:17:25] \"\u001b[37mGET /recommendations?userId=A9&city=OAK HTTP/1.1\u001b[0m\" 200 -\n",
      "/Users/a0s00x0/opt/anaconda3/lib/python3.7/site-packages/ipykernel_launcher.py:48: DeprecationWarning: The default dtype for empty Series will be 'object' instead of 'float64' in a future version. Specify a dtype explicitly to silence this warning.\n",
      "127.0.0.1 - - [26/Jan/2021 17:17:25] \"\u001b[37mGET /recommendations?userId=A9&city=OAK HTTP/1.1\u001b[0m\" 200 -\n"
     ]
    },
    {
     "name": "stdout",
     "output_type": "stream",
     "text": [
      "['hiking', 'camping', 'trekking']\n"
     ]
    },
    {
     "name": "stderr",
     "output_type": "stream",
     "text": [
      "/Users/a0s00x0/opt/anaconda3/lib/python3.7/site-packages/ipykernel_launcher.py:48: DeprecationWarning: The default dtype for empty Series will be 'object' instead of 'float64' in a future version. Specify a dtype explicitly to silence this warning.\n",
      "INFO:werkzeug:127.0.0.1 - - [26/Jan/2021 17:17:25] \"\u001b[37mGET /recommendations?userId=A9&city=OAK HTTP/1.1\u001b[0m\" 200 -\n",
      "127.0.0.1 - - [26/Jan/2021 17:17:26] \"\u001b[37mGET /recommendations?userId=A9&city=OAK HTTP/1.1\u001b[0m\" 200 -\n",
      "INFO:werkzeug:127.0.0.1 - - [26/Jan/2021 17:17:26] \"\u001b[37mGET /recommendations?userId=A9&city=OAK HTTP/1.1\u001b[0m\" 200 -\n",
      "/Users/a0s00x0/opt/anaconda3/lib/python3.7/site-packages/ipykernel_launcher.py:48: DeprecationWarning: The default dtype for empty Series will be 'object' instead of 'float64' in a future version. Specify a dtype explicitly to silence this warning.\n",
      "127.0.0.1 - - [26/Jan/2021 17:17:26] \"\u001b[37mGET /recommendations?userId=A9&city=OAK HTTP/1.1\u001b[0m\" 200 -\n",
      "INFO:werkzeug:127.0.0.1 - - [26/Jan/2021 17:17:26] \"\u001b[37mGET /recommendations?userId=A9&city=OAK HTTP/1.1\u001b[0m\" 200 -\n"
     ]
    },
    {
     "name": "stdout",
     "output_type": "stream",
     "text": [
      "['hiking', 'camping', 'trekking']\n",
      "['hiking', 'camping', 'trekking']\n"
     ]
    },
    {
     "name": "stderr",
     "output_type": "stream",
     "text": [
      "/Users/a0s00x0/opt/anaconda3/lib/python3.7/site-packages/ipykernel_launcher.py:48: DeprecationWarning: The default dtype for empty Series will be 'object' instead of 'float64' in a future version. Specify a dtype explicitly to silence this warning.\n",
      "127.0.0.1 - - [26/Jan/2021 17:17:27] \"\u001b[37mGET /recommendations?userId=A9&city=OAK HTTP/1.1\u001b[0m\" 200 -\n",
      "/Users/a0s00x0/opt/anaconda3/lib/python3.7/site-packages/ipykernel_launcher.py:48: DeprecationWarning: The default dtype for empty Series will be 'object' instead of 'float64' in a future version. Specify a dtype explicitly to silence this warning.\n",
      "INFO:werkzeug:127.0.0.1 - - [26/Jan/2021 17:17:27] \"\u001b[37mGET /recommendations?userId=A9&city=OAK HTTP/1.1\u001b[0m\" 200 -\n",
      "127.0.0.1 - - [26/Jan/2021 17:17:27] \"\u001b[37mGET /recommendations?userId=A9&city=OAK HTTP/1.1\u001b[0m\" 200 -\n",
      "INFO:werkzeug:127.0.0.1 - - [26/Jan/2021 17:17:27] \"\u001b[37mGET /recommendations?userId=A9&city=OAK HTTP/1.1\u001b[0m\" 200 -\n"
     ]
    },
    {
     "name": "stdout",
     "output_type": "stream",
     "text": [
      "['hiking', 'camping', 'trekking']\n"
     ]
    },
    {
     "name": "stderr",
     "output_type": "stream",
     "text": [
      "/Users/a0s00x0/opt/anaconda3/lib/python3.7/site-packages/ipykernel_launcher.py:48: DeprecationWarning: The default dtype for empty Series will be 'object' instead of 'float64' in a future version. Specify a dtype explicitly to silence this warning.\n",
      "127.0.0.1 - - [26/Jan/2021 17:17:27] \"\u001b[37mGET /recommendations?userId=A9&city=OAK HTTP/1.1\u001b[0m\" 200 -\n",
      "INFO:werkzeug:127.0.0.1 - - [26/Jan/2021 17:17:27] \"\u001b[37mGET /recommendations?userId=A9&city=OAK HTTP/1.1\u001b[0m\" 200 -\n"
     ]
    },
    {
     "name": "stdout",
     "output_type": "stream",
     "text": [
      "['hiking', 'camping', 'trekking']\n",
      "['hiking', 'camping', 'trekking']\n",
      "['hiking', 'camping', 'trekking']\n"
     ]
    },
    {
     "name": "stderr",
     "output_type": "stream",
     "text": [
      "/Users/a0s00x0/opt/anaconda3/lib/python3.7/site-packages/ipykernel_launcher.py:48: DeprecationWarning: The default dtype for empty Series will be 'object' instead of 'float64' in a future version. Specify a dtype explicitly to silence this warning.\n",
      "127.0.0.1 - - [26/Jan/2021 17:17:28] \"\u001b[37mGET /recommendations?userId=A9&city=OAK HTTP/1.1\u001b[0m\" 200 -\n",
      "INFO:werkzeug:127.0.0.1 - - [26/Jan/2021 17:17:28] \"\u001b[37mGET /recommendations?userId=A9&city=OAK HTTP/1.1\u001b[0m\" 200 -\n"
     ]
    },
    {
     "name": "stdout",
     "output_type": "stream",
     "text": [
      "['hiking', 'camping', 'trekking']\n"
     ]
    },
    {
     "name": "stderr",
     "output_type": "stream",
     "text": [
      "/Users/a0s00x0/opt/anaconda3/lib/python3.7/site-packages/ipykernel_launcher.py:48: DeprecationWarning: The default dtype for empty Series will be 'object' instead of 'float64' in a future version. Specify a dtype explicitly to silence this warning.\n",
      "127.0.0.1 - - [26/Jan/2021 17:17:29] \"\u001b[37mGET /recommendations?userId=A9&city=OAK HTTP/1.1\u001b[0m\" 200 -\n",
      "/Users/a0s00x0/opt/anaconda3/lib/python3.7/site-packages/ipykernel_launcher.py:48: DeprecationWarning: The default dtype for empty Series will be 'object' instead of 'float64' in a future version. Specify a dtype explicitly to silence this warning.\n",
      "INFO:werkzeug:127.0.0.1 - - [26/Jan/2021 17:17:29] \"\u001b[37mGET /recommendations?userId=A9&city=OAK HTTP/1.1\u001b[0m\" 200 -\n",
      "127.0.0.1 - - [26/Jan/2021 17:17:29] \"\u001b[37mGET /recommendations?userId=A9&city=OAK HTTP/1.1\u001b[0m\" 200 -\n",
      "INFO:werkzeug:127.0.0.1 - - [26/Jan/2021 17:17:29] \"\u001b[37mGET /recommendations?userId=A9&city=OAK HTTP/1.1\u001b[0m\" 200 -\n",
      "/Users/a0s00x0/opt/anaconda3/lib/python3.7/site-packages/ipykernel_launcher.py:48: DeprecationWarning: The default dtype for empty Series will be 'object' instead of 'float64' in a future version. Specify a dtype explicitly to silence this warning.\n",
      "127.0.0.1 - - [26/Jan/2021 17:17:30] \"\u001b[37mGET /recommendations?userId=A9&city=OAK HTTP/1.1\u001b[0m\" 200 -\n"
     ]
    },
    {
     "name": "stdout",
     "output_type": "stream",
     "text": [
      "['hiking', 'camping', 'trekking']\n",
      "['hiking', 'camping', 'trekking']\n"
     ]
    },
    {
     "name": "stderr",
     "output_type": "stream",
     "text": [
      "/Users/a0s00x0/opt/anaconda3/lib/python3.7/site-packages/ipykernel_launcher.py:48: DeprecationWarning: The default dtype for empty Series will be 'object' instead of 'float64' in a future version. Specify a dtype explicitly to silence this warning.\n",
      "INFO:werkzeug:127.0.0.1 - - [26/Jan/2021 17:17:30] \"\u001b[37mGET /recommendations?userId=A9&city=OAK HTTP/1.1\u001b[0m\" 200 -\n",
      "127.0.0.1 - - [26/Jan/2021 17:17:30] \"\u001b[37mGET /recommendations?userId=A9&city=OAK HTTP/1.1\u001b[0m\" 200 -\n",
      "/Users/a0s00x0/opt/anaconda3/lib/python3.7/site-packages/ipykernel_launcher.py:48: DeprecationWarning: The default dtype for empty Series will be 'object' instead of 'float64' in a future version. Specify a dtype explicitly to silence this warning.\n",
      "INFO:werkzeug:127.0.0.1 - - [26/Jan/2021 17:17:30] \"\u001b[37mGET /recommendations?userId=A9&city=OAK HTTP/1.1\u001b[0m\" 200 -\n",
      "127.0.0.1 - - [26/Jan/2021 17:17:30] \"\u001b[37mGET /recommendations?userId=A9&city=OAK HTTP/1.1\u001b[0m\" 200 -\n",
      "INFO:werkzeug:127.0.0.1 - - [26/Jan/2021 17:17:30] \"\u001b[37mGET /recommendations?userId=A9&city=OAK HTTP/1.1\u001b[0m\" 200 -\n"
     ]
    },
    {
     "name": "stdout",
     "output_type": "stream",
     "text": [
      "['hiking', 'camping', 'trekking']\n",
      "['hiking', 'camping', 'trekking']\n"
     ]
    },
    {
     "name": "stderr",
     "output_type": "stream",
     "text": [
      "/Users/a0s00x0/opt/anaconda3/lib/python3.7/site-packages/ipykernel_launcher.py:48: DeprecationWarning: The default dtype for empty Series will be 'object' instead of 'float64' in a future version. Specify a dtype explicitly to silence this warning.\n",
      "127.0.0.1 - - [26/Jan/2021 17:17:31] \"\u001b[37mGET /recommendations?userId=A9&city=OAK HTTP/1.1\u001b[0m\" 200 -\n",
      "INFO:werkzeug:127.0.0.1 - - [26/Jan/2021 17:17:31] \"\u001b[37mGET /recommendations?userId=A9&city=OAK HTTP/1.1\u001b[0m\" 200 -\n"
     ]
    },
    {
     "name": "stdout",
     "output_type": "stream",
     "text": [
      "['hiking', 'camping', 'trekking']\n"
     ]
    },
    {
     "name": "stderr",
     "output_type": "stream",
     "text": [
      "/Users/a0s00x0/opt/anaconda3/lib/python3.7/site-packages/ipykernel_launcher.py:48: DeprecationWarning: The default dtype for empty Series will be 'object' instead of 'float64' in a future version. Specify a dtype explicitly to silence this warning.\n",
      "127.0.0.1 - - [26/Jan/2021 17:17:32] \"\u001b[37mGET /recommendations?userId=A9&city=OAK HTTP/1.1\u001b[0m\" 200 -\n",
      "INFO:werkzeug:127.0.0.1 - - [26/Jan/2021 17:17:32] \"\u001b[37mGET /recommendations?userId=A9&city=OAK HTTP/1.1\u001b[0m\" 200 -\n"
     ]
    },
    {
     "name": "stdout",
     "output_type": "stream",
     "text": [
      "['hiking', 'camping', 'trekking']\n"
     ]
    },
    {
     "name": "stderr",
     "output_type": "stream",
     "text": [
      "/Users/a0s00x0/opt/anaconda3/lib/python3.7/site-packages/ipykernel_launcher.py:48: DeprecationWarning: The default dtype for empty Series will be 'object' instead of 'float64' in a future version. Specify a dtype explicitly to silence this warning.\n",
      "127.0.0.1 - - [26/Jan/2021 17:17:32] \"\u001b[37mGET /recommendations?userId=A9&city=OAK HTTP/1.1\u001b[0m\" 200 -\n",
      "/Users/a0s00x0/opt/anaconda3/lib/python3.7/site-packages/ipykernel_launcher.py:48: DeprecationWarning: The default dtype for empty Series will be 'object' instead of 'float64' in a future version. Specify a dtype explicitly to silence this warning.\n",
      "INFO:werkzeug:127.0.0.1 - - [26/Jan/2021 17:17:32] \"\u001b[37mGET /recommendations?userId=A9&city=OAK HTTP/1.1\u001b[0m\" 200 -\n",
      "127.0.0.1 - - [26/Jan/2021 17:17:33] \"\u001b[37mGET /recommendations?userId=A9&city=OAK HTTP/1.1\u001b[0m\" 200 -\n",
      "INFO:werkzeug:127.0.0.1 - - [26/Jan/2021 17:17:33] \"\u001b[37mGET /recommendations?userId=A9&city=OAK HTTP/1.1\u001b[0m\" 200 -\n"
     ]
    },
    {
     "name": "stdout",
     "output_type": "stream",
     "text": [
      "['hiking', 'camping', 'trekking']\n",
      "['hiking', 'camping', 'trekking']\n",
      "['hiking', 'camping', 'trekking']\n"
     ]
    },
    {
     "name": "stderr",
     "output_type": "stream",
     "text": [
      "/Users/a0s00x0/opt/anaconda3/lib/python3.7/site-packages/ipykernel_launcher.py:48: DeprecationWarning: The default dtype for empty Series will be 'object' instead of 'float64' in a future version. Specify a dtype explicitly to silence this warning.\n",
      "127.0.0.1 - - [26/Jan/2021 17:17:33] \"\u001b[37mGET /recommendations?userId=A9&city=OAK HTTP/1.1\u001b[0m\" 200 -\n",
      "INFO:werkzeug:127.0.0.1 - - [26/Jan/2021 17:17:33] \"\u001b[37mGET /recommendations?userId=A9&city=OAK HTTP/1.1\u001b[0m\" 200 -\n"
     ]
    },
    {
     "name": "stdout",
     "output_type": "stream",
     "text": [
      "['hiking', 'camping', 'trekking']\n"
     ]
    },
    {
     "name": "stderr",
     "output_type": "stream",
     "text": [
      "/Users/a0s00x0/opt/anaconda3/lib/python3.7/site-packages/ipykernel_launcher.py:48: DeprecationWarning: The default dtype for empty Series will be 'object' instead of 'float64' in a future version. Specify a dtype explicitly to silence this warning.\n",
      "127.0.0.1 - - [26/Jan/2021 17:17:34] \"\u001b[37mGET /recommendations?userId=A9&city=OAK HTTP/1.1\u001b[0m\" 200 -\n",
      "/Users/a0s00x0/opt/anaconda3/lib/python3.7/site-packages/ipykernel_launcher.py:48: DeprecationWarning: The default dtype for empty Series will be 'object' instead of 'float64' in a future version. Specify a dtype explicitly to silence this warning.\n",
      "INFO:werkzeug:127.0.0.1 - - [26/Jan/2021 17:17:34] \"\u001b[37mGET /recommendations?userId=A9&city=OAK HTTP/1.1\u001b[0m\" 200 -\n",
      "127.0.0.1 - - [26/Jan/2021 17:17:34] \"\u001b[37mGET /recommendations?userId=A9&city=OAK HTTP/1.1\u001b[0m\" 200 -\n",
      "/Users/a0s00x0/opt/anaconda3/lib/python3.7/site-packages/ipykernel_launcher.py:48: DeprecationWarning: The default dtype for empty Series will be 'object' instead of 'float64' in a future version. Specify a dtype explicitly to silence this warning.\n",
      "INFO:werkzeug:127.0.0.1 - - [26/Jan/2021 17:17:34] \"\u001b[37mGET /recommendations?userId=A9&city=OAK HTTP/1.1\u001b[0m\" 200 -\n",
      "127.0.0.1 - - [26/Jan/2021 17:17:35] \"\u001b[37mGET /recommendations?userId=A9&city=OAK HTTP/1.1\u001b[0m\" 200 -\n",
      "INFO:werkzeug:127.0.0.1 - - [26/Jan/2021 17:17:35] \"\u001b[37mGET /recommendations?userId=A9&city=OAK HTTP/1.1\u001b[0m\" 200 -\n"
     ]
    },
    {
     "name": "stdout",
     "output_type": "stream",
     "text": [
      "['hiking', 'camping', 'trekking']\n",
      "['hiking', 'camping', 'trekking']\n"
     ]
    },
    {
     "name": "stderr",
     "output_type": "stream",
     "text": [
      "/Users/a0s00x0/opt/anaconda3/lib/python3.7/site-packages/ipykernel_launcher.py:48: DeprecationWarning: The default dtype for empty Series will be 'object' instead of 'float64' in a future version. Specify a dtype explicitly to silence this warning.\n",
      "127.0.0.1 - - [26/Jan/2021 17:17:35] \"\u001b[37mGET /recommendations?userId=A9&city=OAK HTTP/1.1\u001b[0m\" 200 -\n",
      "INFO:werkzeug:127.0.0.1 - - [26/Jan/2021 17:17:35] \"\u001b[37mGET /recommendations?userId=A9&city=OAK HTTP/1.1\u001b[0m\" 200 -\n"
     ]
    },
    {
     "name": "stdout",
     "output_type": "stream",
     "text": [
      "['hiking', 'camping', 'trekking']\n",
      "['hiking', 'camping', 'trekking']\n"
     ]
    },
    {
     "name": "stderr",
     "output_type": "stream",
     "text": [
      "/Users/a0s00x0/opt/anaconda3/lib/python3.7/site-packages/ipykernel_launcher.py:48: DeprecationWarning: The default dtype for empty Series will be 'object' instead of 'float64' in a future version. Specify a dtype explicitly to silence this warning.\n",
      "127.0.0.1 - - [26/Jan/2021 17:17:36] \"\u001b[37mGET /recommendations?userId=A9&city=OAK HTTP/1.1\u001b[0m\" 200 -\n",
      "INFO:werkzeug:127.0.0.1 - - [26/Jan/2021 17:17:36] \"\u001b[37mGET /recommendations?userId=A9&city=OAK HTTP/1.1\u001b[0m\" 200 -\n",
      "/Users/a0s00x0/opt/anaconda3/lib/python3.7/site-packages/ipykernel_launcher.py:48: DeprecationWarning: The default dtype for empty Series will be 'object' instead of 'float64' in a future version. Specify a dtype explicitly to silence this warning.\n",
      "127.0.0.1 - - [26/Jan/2021 17:17:37] \"\u001b[37mGET /recommendations?userId=A9&city=OAK HTTP/1.1\u001b[0m\" 200 -\n",
      "INFO:werkzeug:127.0.0.1 - - [26/Jan/2021 17:17:37] \"\u001b[37mGET /recommendations?userId=A9&city=OAK HTTP/1.1\u001b[0m\" 200 -\n"
     ]
    },
    {
     "name": "stdout",
     "output_type": "stream",
     "text": [
      "['hiking', 'camping', 'trekking']\n",
      "['hiking', 'camping', 'trekking']\n"
     ]
    },
    {
     "name": "stderr",
     "output_type": "stream",
     "text": [
      "/Users/a0s00x0/opt/anaconda3/lib/python3.7/site-packages/ipykernel_launcher.py:48: DeprecationWarning: The default dtype for empty Series will be 'object' instead of 'float64' in a future version. Specify a dtype explicitly to silence this warning.\n",
      "/Users/a0s00x0/opt/anaconda3/lib/python3.7/site-packages/ipykernel_launcher.py:48: DeprecationWarning: The default dtype for empty Series will be 'object' instead of 'float64' in a future version. Specify a dtype explicitly to silence this warning.\n",
      "127.0.0.1 - - [26/Jan/2021 17:17:38] \"\u001b[37mGET /recommendations?userId=A9&city=OAK HTTP/1.1\u001b[0m\" 200 -\n",
      "/Users/a0s00x0/opt/anaconda3/lib/python3.7/site-packages/ipykernel_launcher.py:48: DeprecationWarning: The default dtype for empty Series will be 'object' instead of 'float64' in a future version. Specify a dtype explicitly to silence this warning.\n",
      "INFO:werkzeug:127.0.0.1 - - [26/Jan/2021 17:17:38] \"\u001b[37mGET /recommendations?userId=A9&city=OAK HTTP/1.1\u001b[0m\" 200 -\n",
      "127.0.0.1 - - [26/Jan/2021 17:17:38] \"\u001b[37mGET /recommendations?userId=A9&city=OAK HTTP/1.1\u001b[0m\" 200 -\n",
      "INFO:werkzeug:127.0.0.1 - - [26/Jan/2021 17:17:38] \"\u001b[37mGET /recommendations?userId=A9&city=OAK HTTP/1.1\u001b[0m\" 200 -\n",
      "127.0.0.1 - - [26/Jan/2021 17:17:38] \"\u001b[37mGET /recommendations?userId=A9&city=OAK HTTP/1.1\u001b[0m\" 200 -\n",
      "/Users/a0s00x0/opt/anaconda3/lib/python3.7/site-packages/ipykernel_launcher.py:48: DeprecationWarning: The default dtype for empty Series will be 'object' instead of 'float64' in a future version. Specify a dtype explicitly to silence this warning.\n",
      "INFO:werkzeug:127.0.0.1 - - [26/Jan/2021 17:17:38] \"\u001b[37mGET /recommendations?userId=A9&city=OAK HTTP/1.1\u001b[0m\" 200 -\n",
      "127.0.0.1 - - [26/Jan/2021 17:17:38] \"\u001b[37mGET /recommendations?userId=A9&city=OAK HTTP/1.1\u001b[0m\" 200 -\n"
     ]
    },
    {
     "name": "stdout",
     "output_type": "stream",
     "text": [
      "['hiking', 'camping', 'trekking']\n",
      "['hiking', 'camping', 'trekking']\n"
     ]
    },
    {
     "name": "stderr",
     "output_type": "stream",
     "text": [
      "INFO:werkzeug:127.0.0.1 - - [26/Jan/2021 17:17:38] \"\u001b[37mGET /recommendations?userId=A9&city=OAK HTTP/1.1\u001b[0m\" 200 -\n",
      "/Users/a0s00x0/opt/anaconda3/lib/python3.7/site-packages/ipykernel_launcher.py:48: DeprecationWarning: The default dtype for empty Series will be 'object' instead of 'float64' in a future version. Specify a dtype explicitly to silence this warning.\n",
      "127.0.0.1 - - [26/Jan/2021 17:17:39] \"\u001b[37mGET /recommendations?userId=A9&city=OAK HTTP/1.1\u001b[0m\" 200 -\n",
      "INFO:werkzeug:127.0.0.1 - - [26/Jan/2021 17:17:39] \"\u001b[37mGET /recommendations?userId=A9&city=OAK HTTP/1.1\u001b[0m\" 200 -\n",
      "/Users/a0s00x0/opt/anaconda3/lib/python3.7/site-packages/ipykernel_launcher.py:48: DeprecationWarning: The default dtype for empty Series will be 'object' instead of 'float64' in a future version. Specify a dtype explicitly to silence this warning.\n",
      "127.0.0.1 - - [26/Jan/2021 17:17:39] \"\u001b[37mGET /recommendations?userId=A9&city=OAK HTTP/1.1\u001b[0m\" 200 -\n"
     ]
    },
    {
     "name": "stdout",
     "output_type": "stream",
     "text": [
      "['hiking', 'camping', 'trekking']\n",
      "['hiking', 'camping', 'trekking']\n",
      "['hiking', 'camping', 'trekking']"
     ]
    },
    {
     "name": "stderr",
     "output_type": "stream",
     "text": [
      "INFO:werkzeug:127.0.0.1 - - [26/Jan/2021 17:17:39] \"\u001b[37mGET /recommendations?userId=A9&city=OAK HTTP/1.1\u001b[0m\" 200 -\n"
     ]
    },
    {
     "name": "stdout",
     "output_type": "stream",
     "text": [
      "\n",
      "['hiking', 'camping', 'trekking']\n"
     ]
    },
    {
     "name": "stderr",
     "output_type": "stream",
     "text": [
      "/Users/a0s00x0/opt/anaconda3/lib/python3.7/site-packages/ipykernel_launcher.py:48: DeprecationWarning: The default dtype for empty Series will be 'object' instead of 'float64' in a future version. Specify a dtype explicitly to silence this warning.\n",
      "127.0.0.1 - - [26/Jan/2021 17:17:41] \"\u001b[37mGET /recommendations?userId=A9&city=OAK HTTP/1.1\u001b[0m\" 200 -\n"
     ]
    }
   ],
   "source": [
    "from flask import Flask, json,request\n",
    "\n",
    "from flask_cors import CORS, cross_origin\n",
    "\n",
    "\n",
    "api = Flask(__name__)\n",
    "\n",
    "@api.route('/recommendations', methods=['GET'])\n",
    "@cross_origin() \n",
    "def get_recommendation():\n",
    "    user = request.args.get('userId')\n",
    "    city=request.args.get('city')\n",
    "    x=sample_recommendation_user(model, user_item_purchase, user, user_dict, city)\n",
    "    \n",
    "   \n",
    "    return ({\"items\":x})\n",
    "\n",
    "\n",
    "if __name__ == '__main__':\n",
    "    api.run()"
   ]
  },
  {
   "cell_type": "code",
   "execution_count": null,
   "metadata": {},
   "outputs": [],
   "source": []
  },
  {
   "cell_type": "code",
   "execution_count": null,
   "metadata": {},
   "outputs": [],
   "source": []
  },
  {
   "cell_type": "code",
   "execution_count": null,
   "metadata": {},
   "outputs": [],
   "source": []
  },
  {
   "cell_type": "code",
   "execution_count": null,
   "metadata": {},
   "outputs": [],
   "source": []
  }
 ],
 "metadata": {
  "kernelspec": {
   "display_name": "Python 3",
   "language": "python",
   "name": "python3"
  },
  "language_info": {
   "codemirror_mode": {
    "name": "ipython",
    "version": 3
   },
   "file_extension": ".py",
   "mimetype": "text/x-python",
   "name": "python",
   "nbconvert_exporter": "python",
   "pygments_lexer": "ipython3",
   "version": "3.7.6"
  }
 },
 "nbformat": 4,
 "nbformat_minor": 4
}
