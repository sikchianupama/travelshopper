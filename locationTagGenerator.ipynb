{
 "cells": [
  {
   "cell_type": "code",
   "execution_count": 8,
   "metadata": {},
   "outputs": [],
   "source": [
    "import pandas as pd\n",
    "import numpy as np\n",
    "import wikipedia\n",
    "from nltk.corpus import stopwords\n",
    "\n",
    "from nltk.tokenize import word_tokenize\n",
    "import nltk\n",
    "import json\n",
    "import csv"
   ]
  },
  {
   "cell_type": "code",
   "execution_count": 9,
   "metadata": {},
   "outputs": [],
   "source": [
    "result = wikipedia.summary(\"Ladakh\", sentences = 1000) "
   ]
  },
  {
   "cell_type": "code",
   "execution_count": 10,
   "metadata": {},
   "outputs": [],
   "source": [
    "result = ','.join([word for word in result.split() if word not in stopwords.words(\"english\")])"
   ]
  },
  {
   "cell_type": "code",
   "execution_count": 11,
   "metadata": {},
   "outputs": [
    {
     "name": "stdout",
     "output_type": "stream",
     "text": [
      "Ladakh,region,administered,India,union,territory,,constituting,part,larger,Kashmir,region,,subject,dispute,India,,Pakistan,,China,since,1947.,It,bordered,Tibet,Autonomous,Region,east,,Indian,state,Himachal,Pradesh,south,,Indian-administered,union,territory,Jammu,Kashmir,Pakistan-administered,Gilgit-Baltistan,west,,southwest,corner,Xinjiang,across,Karakoram,Pass,far,north.,It,extends,Siachen,Glacier,Karakoram,range,north,main,Great,Himalayas,south.,The,eastern,end,,consisting,uninhabited,Aksai,Chin,plains,,claimed,Indian,Government,part,Ladakh,,Chinese,control,since,1962.,Until,2019,,Ladakh,region,Indian-administered,state,Jammu,Kashmir.,In,August,2019,,Parliament,India,passed,act,Ladakh,became,union,territory,31,October,2019.In,past,Ladakh,gained,importance,strategic,location,crossroads,important,trade,routes,,Chinese,authorities,closed,borders,Tibet,Autonomous,Region,Ladakh,1960s,,international,trade,dwindled.,Since,1974,,Government,India,successfully,encouraged,tourism,Ladakh.,As,Ladakh,part,strategically,important,Kashmir,region,,Indian,military,maintains,strong,presence,region.,The,largest,town,Ladakh,Leh,,followed,Kargil,,headquarters,district.,The,Leh,district,contains,Indus,,Shyok,Nubra,river,valleys.\n"
     ]
    }
   ],
   "source": [
    "print(result)"
   ]
  },
  {
   "cell_type": "code",
   "execution_count": 12,
   "metadata": {},
   "outputs": [
    {
     "name": "stdout",
     "output_type": "stream",
     "text": [
      "['2019 establishments in India', 'All Wikipedia articles written in Indian English', 'All articles with unsourced statements', 'Articles containing Persian-language text', 'Articles with Encyclopædia Britannica links', 'Articles with short description', 'Articles with unsourced statements from December 2020', 'CS1 maint: multiple names: authors list', 'CS1 maint: numeric names: authors list', 'CS1 maint: others', 'Commons category link is on Wikidata', 'Coordinates on Wikidata', 'Disputed territories in Asia', 'History of the Republic of India', 'Ladakh', 'North India', 'Pages using infobox settlement with bad settlement type', 'Short description is different from Wikidata', 'Short description matches Wikidata', 'States and territories established in 2019', 'States and union territories of India', 'Territorial disputes of China', 'Territorial disputes of Pakistan', 'Union Territories of India', 'Use Indian English from May 2020', 'Use dmy dates from October 2020', 'Wikipedia articles needing page number citations from March 2018', 'Wikipedia indefinitely semi-protected pages']\n"
     ]
    }
   ],
   "source": [
    "print(wikipedia.page(\"Ladakh\").categories)"
   ]
  },
  {
   "cell_type": "code",
   "execution_count": 13,
   "metadata": {
    "scrolled": true
   },
   "outputs": [
    {
     "ename": "TypeError",
     "evalue": "read_json() got an unexpected keyword argument 'usecols'",
     "output_type": "error",
     "traceback": [
      "\u001b[0;31m---------------------------------------------------------------------------\u001b[0m",
      "\u001b[0;31mTypeError\u001b[0m                                 Traceback (most recent call last)",
      "\u001b[0;32m<ipython-input-13-56984190e053>\u001b[0m in \u001b[0;36m<module>\u001b[0;34m\u001b[0m\n\u001b[0;32m----> 1\u001b[0;31m \u001b[0mlocation_dataset\u001b[0m\u001b[0;34m=\u001b[0m\u001b[0mpd\u001b[0m\u001b[0;34m.\u001b[0m\u001b[0mread_json\u001b[0m\u001b[0;34m(\u001b[0m\u001b[0;34m'/Users/a0s00x0/Downloads/uscity.json'\u001b[0m\u001b[0;34m,\u001b[0m\u001b[0musecols\u001b[0m\u001b[0;34m=\u001b[0m\u001b[0;34m[\u001b[0m\u001b[0;34m\"city\"\u001b[0m\u001b[0;34m]\u001b[0m\u001b[0;34m)\u001b[0m\u001b[0;34m\u001b[0m\u001b[0;34m\u001b[0m\u001b[0m\n\u001b[0m",
      "\u001b[0;32m~/opt/anaconda3/lib/python3.7/site-packages/pandas/util/_decorators.py\u001b[0m in \u001b[0;36mwrapper\u001b[0;34m(*args, **kwargs)\u001b[0m\n\u001b[1;32m    197\u001b[0m                 \u001b[0;32melse\u001b[0m\u001b[0;34m:\u001b[0m\u001b[0;34m\u001b[0m\u001b[0;34m\u001b[0m\u001b[0m\n\u001b[1;32m    198\u001b[0m                     \u001b[0mkwargs\u001b[0m\u001b[0;34m[\u001b[0m\u001b[0mnew_arg_name\u001b[0m\u001b[0;34m]\u001b[0m \u001b[0;34m=\u001b[0m \u001b[0mnew_arg_value\u001b[0m\u001b[0;34m\u001b[0m\u001b[0;34m\u001b[0m\u001b[0m\n\u001b[0;32m--> 199\u001b[0;31m             \u001b[0;32mreturn\u001b[0m \u001b[0mfunc\u001b[0m\u001b[0;34m(\u001b[0m\u001b[0;34m*\u001b[0m\u001b[0margs\u001b[0m\u001b[0;34m,\u001b[0m \u001b[0;34m**\u001b[0m\u001b[0mkwargs\u001b[0m\u001b[0;34m)\u001b[0m\u001b[0;34m\u001b[0m\u001b[0;34m\u001b[0m\u001b[0m\n\u001b[0m\u001b[1;32m    200\u001b[0m \u001b[0;34m\u001b[0m\u001b[0m\n\u001b[1;32m    201\u001b[0m         \u001b[0;32mreturn\u001b[0m \u001b[0mcast\u001b[0m\u001b[0;34m(\u001b[0m\u001b[0mF\u001b[0m\u001b[0;34m,\u001b[0m \u001b[0mwrapper\u001b[0m\u001b[0;34m)\u001b[0m\u001b[0;34m\u001b[0m\u001b[0;34m\u001b[0m\u001b[0m\n",
      "\u001b[0;32m~/opt/anaconda3/lib/python3.7/site-packages/pandas/util/_decorators.py\u001b[0m in \u001b[0;36mwrapper\u001b[0;34m(*args, **kwargs)\u001b[0m\n\u001b[1;32m    297\u001b[0m                 )\n\u001b[1;32m    298\u001b[0m                 \u001b[0mwarnings\u001b[0m\u001b[0;34m.\u001b[0m\u001b[0mwarn\u001b[0m\u001b[0;34m(\u001b[0m\u001b[0mmsg\u001b[0m\u001b[0;34m,\u001b[0m \u001b[0mFutureWarning\u001b[0m\u001b[0;34m,\u001b[0m \u001b[0mstacklevel\u001b[0m\u001b[0;34m=\u001b[0m\u001b[0mstacklevel\u001b[0m\u001b[0;34m)\u001b[0m\u001b[0;34m\u001b[0m\u001b[0;34m\u001b[0m\u001b[0m\n\u001b[0;32m--> 299\u001b[0;31m             \u001b[0;32mreturn\u001b[0m \u001b[0mfunc\u001b[0m\u001b[0;34m(\u001b[0m\u001b[0;34m*\u001b[0m\u001b[0margs\u001b[0m\u001b[0;34m,\u001b[0m \u001b[0;34m**\u001b[0m\u001b[0mkwargs\u001b[0m\u001b[0;34m)\u001b[0m\u001b[0;34m\u001b[0m\u001b[0;34m\u001b[0m\u001b[0m\n\u001b[0m\u001b[1;32m    300\u001b[0m \u001b[0;34m\u001b[0m\u001b[0m\n\u001b[1;32m    301\u001b[0m         \u001b[0;32mreturn\u001b[0m \u001b[0mwrapper\u001b[0m\u001b[0;34m\u001b[0m\u001b[0;34m\u001b[0m\u001b[0m\n",
      "\u001b[0;31mTypeError\u001b[0m: read_json() got an unexpected keyword argument 'usecols'"
     ]
    }
   ],
   "source": [
    "location_dataset=pd.read_json('/Users/a0s00x0/Downloads/uscity.json',usecols=[\"city\"])\n"
   ]
  },
  {
   "cell_type": "code",
   "execution_count": null,
   "metadata": {},
   "outputs": [],
   "source": [
    "print(location_dataset)"
   ]
  },
  {
   "cell_type": "code",
   "execution_count": 14,
   "metadata": {},
   "outputs": [
    {
     "ename": "NameError",
     "evalue": "name 'location_dataset' is not defined",
     "output_type": "error",
     "traceback": [
      "\u001b[0;31m---------------------------------------------------------------------------\u001b[0m",
      "\u001b[0;31mNameError\u001b[0m                                 Traceback (most recent call last)",
      "\u001b[0;32m<ipython-input-14-99d950bdd076>\u001b[0m in \u001b[0;36m<module>\u001b[0;34m\u001b[0m\n\u001b[1;32m     14\u001b[0m \u001b[0;34m\u001b[0m\u001b[0m\n\u001b[1;32m     15\u001b[0m \u001b[0;34m\u001b[0m\u001b[0m\n\u001b[0;32m---> 16\u001b[0;31m         \u001b[0mlocat\u001b[0m\u001b[0;34m=\u001b[0m \u001b[0mlocation_dataset\u001b[0m\u001b[0;34m.\u001b[0m\u001b[0mloc\u001b[0m\u001b[0;34m[\u001b[0m\u001b[0mi\u001b[0m\u001b[0;34m,\u001b[0m \u001b[0;34m\"city\"\u001b[0m\u001b[0;34m]\u001b[0m\u001b[0;34m.\u001b[0m\u001b[0mreplace\u001b[0m\u001b[0;34m(\u001b[0m\u001b[0;34m\" \"\u001b[0m\u001b[0;34m,\u001b[0m \u001b[0;34m\"%20\"\u001b[0m\u001b[0;34m)\u001b[0m\u001b[0;34m\u001b[0m\u001b[0;34m\u001b[0m\u001b[0m\n\u001b[0m\u001b[1;32m     17\u001b[0m         \u001b[0mprint\u001b[0m\u001b[0;34m(\u001b[0m\u001b[0mlocat\u001b[0m\u001b[0;34m)\u001b[0m\u001b[0;34m\u001b[0m\u001b[0;34m\u001b[0m\u001b[0m\n\u001b[1;32m     18\u001b[0m         \u001b[0;32mtry\u001b[0m\u001b[0;34m:\u001b[0m\u001b[0;34m\u001b[0m\u001b[0;34m\u001b[0m\u001b[0m\n",
      "\u001b[0;31mNameError\u001b[0m: name 'location_dataset' is not defined"
     ]
    }
   ],
   "source": [
    "import http.client\n",
    "\n",
    "import time\n",
    "conn = http.client.HTTPSConnection(\"community-open-weather-map.p.rapidapi.com\")\n",
    "\n",
    "headers = {\n",
    "    'x-rapidapi-key': \"4b4c4505aamshfc60dc7f3266aa3p1106e0jsnba96c5ed759a\",\n",
    "    'x-rapidapi-host': \"community-open-weather-map.p.rapidapi.com\"\n",
    "    }\n",
    "with open('locationtags.csv', 'w', newline='') as file:\n",
    "    \n",
    "    writer = csv.writer(file)\n",
    "    for i in range(20) :\n",
    "        \n",
    "     \n",
    "        locat= location_dataset.loc[i, \"city\"].replace(\" \", \"%20\")\n",
    "        print(locat)\n",
    "        try:\n",
    "            conn.request(\"GET\", \"/weather?q=\"+locat+\"&lat=0&lon=0&callback=test&id=2172797&lang=null&units=%22metric%22%20or%20%22imperial%22&mode=xml%2C%20html\", headers=headers)\n",
    "            res = conn.getresponse()\n",
    "            data = res.read()\n",
    "            print(data)\n",
    "        except Exception:\n",
    "            print(\"failed\")\n",
    "            continue\n",
    "      \n",
    "        \n",
    "        c=0\n",
    "        data=data.decode(\"utf-8\")\n",
    "        dataJson=data[5:-1:]\n",
    "        data = json.loads(dataJson)\n",
    "        temp=data['main']['feels_like']-273\n",
    "        humidity=data['main']['humidity']\n",
    "        weather=data['weather'][0]['main']\n",
    "        rows=[]\n",
    "        if temp<=12:\n",
    "            tags=[]\n",
    "            tags.extend(['winters','woollen','wool','cold','sweaters','Pullover','Sweatshirt','Glove','Boot','Blazer','warm','warmer'])\n",
    "\n",
    "        elif  temp>12 and temp<=18:\n",
    "            tags=[]\n",
    "            tags.extend(['Long','Long sleeves','denim','lightweight','cotton','sleeves','Joggers'])\n",
    "\n",
    "        else:\n",
    "            tags=[]\n",
    "            tags.extend(['summer','sunglasses','sun','cotton','breeze','capri','shorts','tee'])\n",
    "        if(weather==\"Clouds\"):\n",
    "            tags.extend(['rain','raincoat','wind cheater','rainy','gumboots'])\n",
    "        elif(weather==\"Clear\"):\n",
    "            tags.extend(['sun','sunglasses'])\n",
    "        c=c+1\n",
    "        time.sleep(15.4)\n",
    "        rows.append(c)\n",
    "        rows.append(location_dataset.loc[i, \"city\"])\n",
    "        rows.append(tags)\n",
    "        writer.writerow(rows)\n",
    "    \n",
    "    \n"
   ]
  },
  {
   "cell_type": "code",
   "execution_count": 15,
   "metadata": {},
   "outputs": [
    {
     "name": "stdout",
     "output_type": "stream",
     "text": [
      "test({\"coord\":{\"lon\":-74.006,\"lat\":40.7143},\"weather\":[{\"id\":800,\"main\":\"Clear\",\"description\":\"clear sky\",\"icon\":\"01d\"}],\"base\":\"stations\",\"main\":{\"temp\":278.94,\"feels_like\":273.54,\"temp_min\":277.59,\"temp_max\":280.15,\"pressure\":1004,\"humidity\":49},\"visibility\":10000,\"wind\":{\"speed\":4.12,\"deg\":260},\"clouds\":{\"all\":1},\"dt\":1611263650,\"sys\":{\"type\":1,\"id\":4610,\"country\":\"US\",\"sunrise\":1611231275,\"sunset\":1611266394},\"timezone\":-18000,\"id\":5128581,\"name\":\"New York\",\"cod\":200})\n"
     ]
    }
   ],
   "source": [
    "import http.client\n",
    "\n",
    "conn = http.client.HTTPSConnection(\"community-open-weather-map.p.rapidapi.com\")\n",
    "\n",
    "headers = {\n",
    "    'x-rapidapi-key': \"4b4c4505aamshfc60dc7f3266aa3p1106e0jsnba96c5ed759a\",\n",
    "    'x-rapidapi-host': \"community-open-weather-map.p.rapidapi.com\"\n",
    "    }\n",
    "\n",
    "conn.request(\"GET\", \"/weather?q=New%20York&lat=0&lon=0&callback=test&id=2172797&lang=null&units=%22metric%22%20or%20%22imperial%22&mode=xml%2C%20html\", headers=headers)\n",
    "\n",
    "res = conn.getresponse()\n",
    "data = res.read()\n",
    "\n",
    "print(data.decode(\"utf-8\"))"
   ]
  },
  {
   "cell_type": "code",
   "execution_count": null,
   "metadata": {},
   "outputs": [],
   "source": []
  }
 ],
 "metadata": {
  "kernelspec": {
   "display_name": "Python 3",
   "language": "python",
   "name": "python3"
  },
  "language_info": {
   "codemirror_mode": {
    "name": "ipython",
    "version": 3
   },
   "file_extension": ".py",
   "mimetype": "text/x-python",
   "name": "python",
   "nbconvert_exporter": "python",
   "pygments_lexer": "ipython3",
   "version": "3.7.6"
  }
 },
 "nbformat": 4,
 "nbformat_minor": 4
}
